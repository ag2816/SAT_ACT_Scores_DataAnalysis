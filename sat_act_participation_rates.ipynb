{
 "cells": [
  {
   "cell_type": "markdown",
   "metadata": {},
   "source": [
    "# Project 1 - SAT and ACT Scores in 2017\n",
    "\n",
    "GOAL: Suppose that the College Board - the organization that administers the SAT - seeks to improve the participation rate of its exams. Analyse partipation rates for ACT and SAT and provide recommendations to improve the participation rate\n"
   ]
  },
  {
   "cell_type": "markdown",
   "metadata": {},
   "source": [
    "## Step 1: Load the data and perform basic operations."
   ]
  },
  {
   "cell_type": "markdown",
   "metadata": {},
   "source": [
    "##### 1. Load the data in using pandas."
   ]
  },
  {
   "cell_type": "code",
   "execution_count": 1,
   "metadata": {},
   "outputs": [],
   "source": [
    "# import statements\n",
    "import pandas as pd\n",
    "import matplotlib.pyplot as plt\n",
    "import seaborn as sns\n",
    "import numpy as np\n",
    "import scipy.stats as stats\n",
    "\n",
    "%matplotlib inline"
   ]
  },
  {
   "cell_type": "code",
   "execution_count": 2,
   "metadata": {},
   "outputs": [
    {
     "data": {
      "text/plain": [
       "RendererRegistry.enable('notebook')"
      ]
     },
     "execution_count": 2,
     "metadata": {},
     "output_type": "execute_result"
    }
   ],
   "source": [
    "import altair as alt\n",
    "alt.renderers.enable('notebook') # show and interact ith plots in jupyter notebook"
   ]
  },
  {
   "cell_type": "code",
   "execution_count": 3,
   "metadata": {},
   "outputs": [
    {
     "data": {
      "text/html": [
       "<div>\n",
       "<style scoped>\n",
       "    .dataframe tbody tr th:only-of-type {\n",
       "        vertical-align: middle;\n",
       "    }\n",
       "\n",
       "    .dataframe tbody tr th {\n",
       "        vertical-align: top;\n",
       "    }\n",
       "\n",
       "    .dataframe thead th {\n",
       "        text-align: right;\n",
       "    }\n",
       "</style>\n",
       "<table border=\"1\" class=\"dataframe\">\n",
       "  <thead>\n",
       "    <tr style=\"text-align: right;\">\n",
       "      <th></th>\n",
       "      <th>State</th>\n",
       "      <th>Participation</th>\n",
       "      <th>English</th>\n",
       "      <th>Math</th>\n",
       "      <th>Reading</th>\n",
       "      <th>Science</th>\n",
       "      <th>Composite</th>\n",
       "    </tr>\n",
       "  </thead>\n",
       "  <tbody>\n",
       "    <tr>\n",
       "      <th>0</th>\n",
       "      <td>National</td>\n",
       "      <td>60%</td>\n",
       "      <td>20.3</td>\n",
       "      <td>20.7</td>\n",
       "      <td>21.4</td>\n",
       "      <td>21.0</td>\n",
       "      <td>21.0</td>\n",
       "    </tr>\n",
       "    <tr>\n",
       "      <th>1</th>\n",
       "      <td>Alabama</td>\n",
       "      <td>100%</td>\n",
       "      <td>18.9</td>\n",
       "      <td>18.4</td>\n",
       "      <td>19.7</td>\n",
       "      <td>19.4</td>\n",
       "      <td>19.2</td>\n",
       "    </tr>\n",
       "    <tr>\n",
       "      <th>2</th>\n",
       "      <td>Alaska</td>\n",
       "      <td>65%</td>\n",
       "      <td>18.7</td>\n",
       "      <td>19.8</td>\n",
       "      <td>20.4</td>\n",
       "      <td>19.9</td>\n",
       "      <td>19.8</td>\n",
       "    </tr>\n",
       "    <tr>\n",
       "      <th>3</th>\n",
       "      <td>Arizona</td>\n",
       "      <td>62%</td>\n",
       "      <td>18.6</td>\n",
       "      <td>19.8</td>\n",
       "      <td>20.1</td>\n",
       "      <td>19.8</td>\n",
       "      <td>19.7</td>\n",
       "    </tr>\n",
       "    <tr>\n",
       "      <th>4</th>\n",
       "      <td>Arkansas</td>\n",
       "      <td>100%</td>\n",
       "      <td>18.9</td>\n",
       "      <td>19.0</td>\n",
       "      <td>19.7</td>\n",
       "      <td>19.5</td>\n",
       "      <td>19.4</td>\n",
       "    </tr>\n",
       "    <tr>\n",
       "      <th>5</th>\n",
       "      <td>California</td>\n",
       "      <td>31%</td>\n",
       "      <td>22.5</td>\n",
       "      <td>22.7</td>\n",
       "      <td>23.1</td>\n",
       "      <td>22.2</td>\n",
       "      <td>22.8</td>\n",
       "    </tr>\n",
       "    <tr>\n",
       "      <th>6</th>\n",
       "      <td>Colorado</td>\n",
       "      <td>100%</td>\n",
       "      <td>20.1</td>\n",
       "      <td>20.3</td>\n",
       "      <td>21.2</td>\n",
       "      <td>20.9</td>\n",
       "      <td>20.8</td>\n",
       "    </tr>\n",
       "    <tr>\n",
       "      <th>7</th>\n",
       "      <td>Connecticut</td>\n",
       "      <td>31%</td>\n",
       "      <td>25.5</td>\n",
       "      <td>24.6</td>\n",
       "      <td>25.6</td>\n",
       "      <td>24.6</td>\n",
       "      <td>25.2</td>\n",
       "    </tr>\n",
       "    <tr>\n",
       "      <th>8</th>\n",
       "      <td>Delaware</td>\n",
       "      <td>18%</td>\n",
       "      <td>24.1</td>\n",
       "      <td>23.4</td>\n",
       "      <td>24.8</td>\n",
       "      <td>23.6</td>\n",
       "      <td>24.1</td>\n",
       "    </tr>\n",
       "    <tr>\n",
       "      <th>9</th>\n",
       "      <td>District of Columbia</td>\n",
       "      <td>32%</td>\n",
       "      <td>24.4</td>\n",
       "      <td>23.5</td>\n",
       "      <td>24.9</td>\n",
       "      <td>23.5</td>\n",
       "      <td>24.2</td>\n",
       "    </tr>\n",
       "  </tbody>\n",
       "</table>\n",
       "</div>"
      ],
      "text/plain": [
       "                  State Participation  English  Math  Reading  Science  \\\n",
       "0              National           60%     20.3  20.7     21.4     21.0   \n",
       "1               Alabama          100%     18.9  18.4     19.7     19.4   \n",
       "2                Alaska           65%     18.7  19.8     20.4     19.9   \n",
       "3               Arizona           62%     18.6  19.8     20.1     19.8   \n",
       "4              Arkansas          100%     18.9  19.0     19.7     19.5   \n",
       "5            California           31%     22.5  22.7     23.1     22.2   \n",
       "6              Colorado          100%     20.1  20.3     21.2     20.9   \n",
       "7           Connecticut           31%     25.5  24.6     25.6     24.6   \n",
       "8              Delaware           18%     24.1  23.4     24.8     23.6   \n",
       "9  District of Columbia           32%     24.4  23.5     24.9     23.5   \n",
       "\n",
       "   Composite  \n",
       "0       21.0  \n",
       "1       19.2  \n",
       "2       19.8  \n",
       "3       19.7  \n",
       "4       19.4  \n",
       "5       22.8  \n",
       "6       20.8  \n",
       "7       25.2  \n",
       "8       24.1  \n",
       "9       24.2  "
      ]
     },
     "execution_count": 3,
     "metadata": {},
     "output_type": "execute_result"
    }
   ],
   "source": [
    "# load ACT scores; examination of the file showed that the first column is an index so let's declare that on import rather than later\n",
    "df_act = pd.read_csv('act.csv',index_col =0)\n",
    "df_act.head(10)"
   ]
  },
  {
   "cell_type": "code",
   "execution_count": 7,
   "metadata": {},
   "outputs": [
    {
     "data": {
      "text/html": [
       "<div>\n",
       "<style scoped>\n",
       "    .dataframe tbody tr th:only-of-type {\n",
       "        vertical-align: middle;\n",
       "    }\n",
       "\n",
       "    .dataframe tbody tr th {\n",
       "        vertical-align: top;\n",
       "    }\n",
       "\n",
       "    .dataframe thead th {\n",
       "        text-align: right;\n",
       "    }\n",
       "</style>\n",
       "<table border=\"1\" class=\"dataframe\">\n",
       "  <thead>\n",
       "    <tr style=\"text-align: right;\">\n",
       "      <th></th>\n",
       "      <th>State</th>\n",
       "      <th>Participation</th>\n",
       "      <th>Evidence-Based Reading and Writing</th>\n",
       "      <th>Math</th>\n",
       "      <th>Total</th>\n",
       "    </tr>\n",
       "  </thead>\n",
       "  <tbody>\n",
       "    <tr>\n",
       "      <th>0</th>\n",
       "      <td>Alabama</td>\n",
       "      <td>5%</td>\n",
       "      <td>593</td>\n",
       "      <td>572</td>\n",
       "      <td>1165</td>\n",
       "    </tr>\n",
       "    <tr>\n",
       "      <th>1</th>\n",
       "      <td>Alaska</td>\n",
       "      <td>38%</td>\n",
       "      <td>547</td>\n",
       "      <td>533</td>\n",
       "      <td>1080</td>\n",
       "    </tr>\n",
       "    <tr>\n",
       "      <th>2</th>\n",
       "      <td>Arizona</td>\n",
       "      <td>30%</td>\n",
       "      <td>563</td>\n",
       "      <td>553</td>\n",
       "      <td>1116</td>\n",
       "    </tr>\n",
       "    <tr>\n",
       "      <th>3</th>\n",
       "      <td>Arkansas</td>\n",
       "      <td>3%</td>\n",
       "      <td>614</td>\n",
       "      <td>594</td>\n",
       "      <td>1208</td>\n",
       "    </tr>\n",
       "    <tr>\n",
       "      <th>4</th>\n",
       "      <td>California</td>\n",
       "      <td>53%</td>\n",
       "      <td>531</td>\n",
       "      <td>524</td>\n",
       "      <td>1055</td>\n",
       "    </tr>\n",
       "    <tr>\n",
       "      <th>5</th>\n",
       "      <td>Colorado</td>\n",
       "      <td>11%</td>\n",
       "      <td>606</td>\n",
       "      <td>595</td>\n",
       "      <td>1201</td>\n",
       "    </tr>\n",
       "    <tr>\n",
       "      <th>6</th>\n",
       "      <td>Connecticut</td>\n",
       "      <td>100%</td>\n",
       "      <td>530</td>\n",
       "      <td>512</td>\n",
       "      <td>1041</td>\n",
       "    </tr>\n",
       "    <tr>\n",
       "      <th>7</th>\n",
       "      <td>Delaware</td>\n",
       "      <td>100%</td>\n",
       "      <td>503</td>\n",
       "      <td>492</td>\n",
       "      <td>996</td>\n",
       "    </tr>\n",
       "    <tr>\n",
       "      <th>8</th>\n",
       "      <td>District of Columbia</td>\n",
       "      <td>100%</td>\n",
       "      <td>482</td>\n",
       "      <td>468</td>\n",
       "      <td>950</td>\n",
       "    </tr>\n",
       "    <tr>\n",
       "      <th>9</th>\n",
       "      <td>Florida</td>\n",
       "      <td>83%</td>\n",
       "      <td>520</td>\n",
       "      <td>497</td>\n",
       "      <td>1017</td>\n",
       "    </tr>\n",
       "  </tbody>\n",
       "</table>\n",
       "</div>"
      ],
      "text/plain": [
       "                  State Participation  Evidence-Based Reading and Writing  \\\n",
       "0               Alabama            5%                                 593   \n",
       "1                Alaska           38%                                 547   \n",
       "2               Arizona           30%                                 563   \n",
       "3              Arkansas            3%                                 614   \n",
       "4            California           53%                                 531   \n",
       "5              Colorado           11%                                 606   \n",
       "6           Connecticut          100%                                 530   \n",
       "7              Delaware          100%                                 503   \n",
       "8  District of Columbia          100%                                 482   \n",
       "9               Florida           83%                                 520   \n",
       "\n",
       "   Math  Total  \n",
       "0   572   1165  \n",
       "1   533   1080  \n",
       "2   553   1116  \n",
       "3   594   1208  \n",
       "4   524   1055  \n",
       "5   595   1201  \n",
       "6   512   1041  \n",
       "7   492    996  \n",
       "8   468    950  \n",
       "9   497   1017  "
      ]
     },
     "execution_count": 7,
     "metadata": {},
     "output_type": "execute_result"
    }
   ],
   "source": [
    "# load SAT scores. again, first column is an index\n",
    "df_sat = pd.read_csv('sat.csv', index_col =0)\n",
    "df_sat.head(10)"
   ]
  },
  {
   "cell_type": "markdown",
   "metadata": {},
   "source": [
    "#### check the columns /datatypes"
   ]
  },
  {
   "cell_type": "code",
   "execution_count": 8,
   "metadata": {},
   "outputs": [
    {
     "name": "stdout",
     "output_type": "stream",
     "text": [
      "<class 'pandas.core.frame.DataFrame'>\n",
      "Int64Index: 52 entries, 0 to 51\n",
      "Data columns (total 7 columns):\n",
      "State            52 non-null object\n",
      "Participation    52 non-null object\n",
      "English          52 non-null float64\n",
      "Math             52 non-null float64\n",
      "Reading          52 non-null float64\n",
      "Science          52 non-null float64\n",
      "Composite        52 non-null float64\n",
      "dtypes: float64(5), object(2)\n",
      "memory usage: 3.2+ KB\n"
     ]
    }
   ],
   "source": [
    "df_act.info()"
   ]
  },
  {
   "cell_type": "code",
   "execution_count": 9,
   "metadata": {},
   "outputs": [
    {
     "data": {
      "text/plain": [
       "(51, 5)"
      ]
     },
     "execution_count": 9,
     "metadata": {},
     "output_type": "execute_result"
    }
   ],
   "source": [
    "df_sat.shape"
   ]
  },
  {
   "cell_type": "code",
   "execution_count": 10,
   "metadata": {},
   "outputs": [
    {
     "data": {
      "text/plain": [
       "(52, 7)"
      ]
     },
     "execution_count": 10,
     "metadata": {},
     "output_type": "execute_result"
    }
   ],
   "source": [
    "df_act.shape"
   ]
  },
  {
   "cell_type": "markdown",
   "metadata": {},
   "source": [
    "#### ACT Score DataSet description\n",
    "\n",
    "The ACT test (American College Testing) is a standardized test used for college admissions in the United States.  This dataset summarizes the average scores for each state, plus the national level.  This data is for the graduating class of 2017 (https://blog.prepscholar.com/act-scores-by-state-averages-highs-and-lows).  The test has four components (English, Math, Reading and Science)\n",
    "\n",
    "\n",
    "* State: There is one row in this data set for each state with the average scores for that state.  This column is text and is contains the full state name (not an abbreviation).  This dataset also contains one row for National\n",
    "\n",
    "* Participation: The percentage of graduating high school students in that State who wrote the ACT.  This varies widely -- in some states, the test is mandatory for graduates (100% participation) while, for others, only a small percentage of students choose to write the ACT.  Value is an integer (whole number) percentage (i.e. \"90%\")\n",
    "\n",
    "* English: Average English score for state.  Numeric (decimal/float) scores with values between 1 and 36.  Scores are scaled to ensure consistency across different \"runs\" of the test (https://blog.prepscholar.com/how-is-the-act-scored)\n",
    "\n",
    "* Math: Average Math score for state.  Numeric (decimal/float) scores with values between 1 and 36 and are scaled as above\n",
    "\n",
    "* Reading: Average Reading score for state.  Numeric (decimal/float) scores with values between 1 and 36 and are scaled as above\n",
    "\n",
    "* Science: Average Science score for state.  Numeric (decimal/float) scores with values between 1 and 36 and are scaled as above\n",
    "\n",
    "* Composite: The average of the four test sections above.  Numeric (decimal/float) scores with values between 1 and 36.\n"
   ]
  },
  {
   "cell_type": "markdown",
   "metadata": {},
   "source": [
    "#### SAT Score DataSet description\n",
    "\n",
    "The SAT (originally thet Scholastic Assessment Test) is another standardized test used for college admissions in the United States. This dataset summarizes the average scores for each state and is for the graduating class of 2017 (https://blog.prepscholar.com/average-sat-scores-by-state-most-recent)\n",
    "\n",
    "The SAT has three sections: 1)Reading, 2) Writing and Language and 3) Math. In the SAT results, the Reading and Writing sections are combined to produce one final score, called Evidence-Based Reading and Writing (EBRW).  Both Math and Evidence-Based Reading and Writing (EBRW) are scored on a scale of 200-800.  The scores are combined to produce the total SAT Score, which ranges from 400-1600\n",
    "\n",
    "By combining these two sections, we get a total SAT score range of 400-1600, with 1600 being a perfect score.\n",
    "\n",
    "* State: There is one row in this data set for each state with the average scores for that state. This column is text and is contains the full state name (not an abbreviation).\n",
    "\n",
    "* Participation: Percentage of graduates from that state who wrote the SAT.  Value is an integer (whole number) percentage (i.e. \"90%\")\n",
    "\n",
    "* Evidence-Based Reading and Writing: Average score for Evidence-Based Reading and Writing section of SAT.  Integer (whole) value ranging from 200-800\n",
    "\n",
    "* Math: Average score for Math section of SAT.  Integer (whole) value ranging from 200-800\n",
    "\n",
    "* Total: Combined total average score of above two sections.  Integer (whole) value range from 400-1600"
   ]
  },
  {
   "cell_type": "markdown",
   "metadata": {},
   "source": [
    "##### 4. Does the data look complete? Are there any obvious issues with the observations?\n",
    "* There is a difference in the number of row between the two data sets.  Sat only has 51 rows, while ACT has 52\n",
    "* ACT contains national scores while the SAT df does not\n",
    "* also, there are 51 rows instead of the expected 50 states because of the District of Columbia"
   ]
  },
  {
   "cell_type": "code",
   "execution_count": 12,
   "metadata": {},
   "outputs": [
    {
     "data": {
      "text/html": [
       "<div>\n",
       "<style scoped>\n",
       "    .dataframe tbody tr th:only-of-type {\n",
       "        vertical-align: middle;\n",
       "    }\n",
       "\n",
       "    .dataframe tbody tr th {\n",
       "        vertical-align: top;\n",
       "    }\n",
       "\n",
       "    .dataframe thead th {\n",
       "        text-align: right;\n",
       "    }\n",
       "</style>\n",
       "<table border=\"1\" class=\"dataframe\">\n",
       "  <thead>\n",
       "    <tr style=\"text-align: right;\">\n",
       "      <th></th>\n",
       "      <th>State</th>\n",
       "      <th>Participation</th>\n",
       "      <th>Evidence-Based Reading and Writing</th>\n",
       "      <th>Math</th>\n",
       "      <th>Total</th>\n",
       "    </tr>\n",
       "  </thead>\n",
       "  <tbody>\n",
       "  </tbody>\n",
       "</table>\n",
       "</div>"
      ],
      "text/plain": [
       "Empty DataFrame\n",
       "Columns: [State, Participation, Evidence-Based Reading and Writing, Math, Total]\n",
       "Index: []"
      ]
     },
     "execution_count": 12,
     "metadata": {},
     "output_type": "execute_result"
    }
   ],
   "source": [
    "\n",
    "df_sat[(df_sat['State']=='National')]\n"
   ]
  },
  {
   "cell_type": "code",
   "execution_count": 365,
   "metadata": {},
   "outputs": [
    {
     "data": {
      "text/html": [
       "<div>\n",
       "<style scoped>\n",
       "    .dataframe tbody tr th:only-of-type {\n",
       "        vertical-align: middle;\n",
       "    }\n",
       "\n",
       "    .dataframe tbody tr th {\n",
       "        vertical-align: top;\n",
       "    }\n",
       "\n",
       "    .dataframe thead th {\n",
       "        text-align: right;\n",
       "    }\n",
       "</style>\n",
       "<table border=\"1\" class=\"dataframe\">\n",
       "  <thead>\n",
       "    <tr style=\"text-align: right;\">\n",
       "      <th></th>\n",
       "      <th>State</th>\n",
       "      <th>Participation</th>\n",
       "      <th>Evidence-Based Reading and Writing</th>\n",
       "      <th>Math</th>\n",
       "      <th>Total</th>\n",
       "    </tr>\n",
       "  </thead>\n",
       "  <tbody>\n",
       "    <tr>\n",
       "      <th>8</th>\n",
       "      <td>District of Columbia</td>\n",
       "      <td>100%</td>\n",
       "      <td>482</td>\n",
       "      <td>468</td>\n",
       "      <td>950</td>\n",
       "    </tr>\n",
       "  </tbody>\n",
       "</table>\n",
       "</div>"
      ],
      "text/plain": [
       "                  State Participation  Evidence-Based Reading and Writing  \\\n",
       "8  District of Columbia          100%                                 482   \n",
       "\n",
       "   Math  Total  \n",
       "8   468    950  "
      ]
     },
     "execution_count": 365,
     "metadata": {},
     "output_type": "execute_result"
    }
   ],
   "source": [
    "df_sat[(df_sat['State']=='District of Columbia')]"
   ]
  },
  {
   "cell_type": "code",
   "execution_count": 13,
   "metadata": {},
   "outputs": [
    {
     "data": {
      "text/html": [
       "<div>\n",
       "<style scoped>\n",
       "    .dataframe tbody tr th:only-of-type {\n",
       "        vertical-align: middle;\n",
       "    }\n",
       "\n",
       "    .dataframe tbody tr th {\n",
       "        vertical-align: top;\n",
       "    }\n",
       "\n",
       "    .dataframe thead th {\n",
       "        text-align: right;\n",
       "    }\n",
       "</style>\n",
       "<table border=\"1\" class=\"dataframe\">\n",
       "  <thead>\n",
       "    <tr style=\"text-align: right;\">\n",
       "      <th></th>\n",
       "      <th>Evidence-Based Reading and Writing</th>\n",
       "      <th>Math</th>\n",
       "      <th>Total</th>\n",
       "    </tr>\n",
       "  </thead>\n",
       "  <tbody>\n",
       "    <tr>\n",
       "      <th>count</th>\n",
       "      <td>51.000000</td>\n",
       "      <td>51.000000</td>\n",
       "      <td>51.000000</td>\n",
       "    </tr>\n",
       "    <tr>\n",
       "      <th>mean</th>\n",
       "      <td>569.117647</td>\n",
       "      <td>547.627451</td>\n",
       "      <td>1126.098039</td>\n",
       "    </tr>\n",
       "    <tr>\n",
       "      <th>std</th>\n",
       "      <td>45.666901</td>\n",
       "      <td>84.909119</td>\n",
       "      <td>92.494812</td>\n",
       "    </tr>\n",
       "    <tr>\n",
       "      <th>min</th>\n",
       "      <td>482.000000</td>\n",
       "      <td>52.000000</td>\n",
       "      <td>950.000000</td>\n",
       "    </tr>\n",
       "    <tr>\n",
       "      <th>25%</th>\n",
       "      <td>533.500000</td>\n",
       "      <td>522.000000</td>\n",
       "      <td>1055.500000</td>\n",
       "    </tr>\n",
       "    <tr>\n",
       "      <th>50%</th>\n",
       "      <td>559.000000</td>\n",
       "      <td>548.000000</td>\n",
       "      <td>1107.000000</td>\n",
       "    </tr>\n",
       "    <tr>\n",
       "      <th>75%</th>\n",
       "      <td>613.000000</td>\n",
       "      <td>599.000000</td>\n",
       "      <td>1212.000000</td>\n",
       "    </tr>\n",
       "    <tr>\n",
       "      <th>max</th>\n",
       "      <td>644.000000</td>\n",
       "      <td>651.000000</td>\n",
       "      <td>1295.000000</td>\n",
       "    </tr>\n",
       "  </tbody>\n",
       "</table>\n",
       "</div>"
      ],
      "text/plain": [
       "       Evidence-Based Reading and Writing        Math        Total\n",
       "count                           51.000000   51.000000    51.000000\n",
       "mean                           569.117647  547.627451  1126.098039\n",
       "std                             45.666901   84.909119    92.494812\n",
       "min                            482.000000   52.000000   950.000000\n",
       "25%                            533.500000  522.000000  1055.500000\n",
       "50%                            559.000000  548.000000  1107.000000\n",
       "75%                            613.000000  599.000000  1212.000000\n",
       "max                            644.000000  651.000000  1295.000000"
      ]
     },
     "execution_count": 13,
     "metadata": {},
     "output_type": "execute_result"
    }
   ],
   "source": [
    "df_sat.describe()"
   ]
  },
  {
   "cell_type": "markdown",
   "metadata": {},
   "source": [
    "* there are 51 entries in all columns\n",
    "* means and maxs look ok for the three score columns, should be between 200-800 for the first 2 cols and 400-1600 for the Total col\n",
    "* HOWEVER, the minimum Math score of 52 looks quite suspicious... let's take a closer look"
   ]
  },
  {
   "cell_type": "code",
   "execution_count": 14,
   "metadata": {},
   "outputs": [
    {
     "data": {
      "text/html": [
       "<div>\n",
       "<style scoped>\n",
       "    .dataframe tbody tr th:only-of-type {\n",
       "        vertical-align: middle;\n",
       "    }\n",
       "\n",
       "    .dataframe tbody tr th {\n",
       "        vertical-align: top;\n",
       "    }\n",
       "\n",
       "    .dataframe thead th {\n",
       "        text-align: right;\n",
       "    }\n",
       "</style>\n",
       "<table border=\"1\" class=\"dataframe\">\n",
       "  <thead>\n",
       "    <tr style=\"text-align: right;\">\n",
       "      <th></th>\n",
       "      <th>State</th>\n",
       "      <th>Participation</th>\n",
       "      <th>Evidence-Based Reading and Writing</th>\n",
       "      <th>Math</th>\n",
       "      <th>Total</th>\n",
       "    </tr>\n",
       "  </thead>\n",
       "  <tbody>\n",
       "    <tr>\n",
       "      <th>20</th>\n",
       "      <td>Maryland</td>\n",
       "      <td>69%</td>\n",
       "      <td>536</td>\n",
       "      <td>52</td>\n",
       "      <td>1060</td>\n",
       "    </tr>\n",
       "  </tbody>\n",
       "</table>\n",
       "</div>"
      ],
      "text/plain": [
       "       State Participation  Evidence-Based Reading and Writing  Math  Total\n",
       "20  Maryland           69%                                 536    52   1060"
      ]
     },
     "execution_count": 14,
     "metadata": {},
     "output_type": "execute_result"
    }
   ],
   "source": [
    "df_sat[(df_sat['Math']<400)]\n",
    "# Maryland had an sat participation rate of 69% but such an extraordinarily low math score, 52, that it seems to be  typo\n",
    "# in this case, sat total socre is sum of the verbal and math scores adn so we can \n",
    "# recalculate it"
   ]
  },
  {
   "cell_type": "markdown",
   "metadata": {},
   "source": [
    "We can see that we only have one extremely low math score, which is for the state of Maryland\n",
    "\n",
    "* Maryland had a reasonable SAT participation rate of 69% \n",
    "* The math score is extraordinarily low (52) and, in fact, out of the valid range of SAT scores (200-800) \n",
    "* under other circumstances, we might need to estimate the value or drop the row\n",
    "* but in this case, we can recalculate by substracting the verbal score from the total score (the total score is cumulative)\n",
    "* so let's fix this...\n"
   ]
  },
  {
   "cell_type": "code",
   "execution_count": 15,
   "metadata": {},
   "outputs": [
    {
     "data": {
      "text/html": [
       "<div>\n",
       "<style scoped>\n",
       "    .dataframe tbody tr th:only-of-type {\n",
       "        vertical-align: middle;\n",
       "    }\n",
       "\n",
       "    .dataframe tbody tr th {\n",
       "        vertical-align: top;\n",
       "    }\n",
       "\n",
       "    .dataframe thead th {\n",
       "        text-align: right;\n",
       "    }\n",
       "</style>\n",
       "<table border=\"1\" class=\"dataframe\">\n",
       "  <thead>\n",
       "    <tr style=\"text-align: right;\">\n",
       "      <th></th>\n",
       "      <th>Math</th>\n",
       "    </tr>\n",
       "  </thead>\n",
       "  <tbody>\n",
       "    <tr>\n",
       "      <th>20</th>\n",
       "      <td>524</td>\n",
       "    </tr>\n",
       "  </tbody>\n",
       "</table>\n",
       "</div>"
      ],
      "text/plain": [
       "    Math\n",
       "20   524"
      ]
     },
     "execution_count": 15,
     "metadata": {},
     "output_type": "execute_result"
    }
   ],
   "source": [
    "#update at index 20 (maryland)\n",
    "df_sat.loc[[20],['Math']]  = (df_sat[ df_sat['State'] =='Maryland']['Total'] - df_sat[ df_sat['State'] =='Maryland']['Evidence-Based Reading and Writing'])\n",
    "df_sat.loc[[20],['Math']]\n"
   ]
  },
  {
   "cell_type": "code",
   "execution_count": 16,
   "metadata": {},
   "outputs": [
    {
     "data": {
      "text/html": [
       "<div>\n",
       "<style scoped>\n",
       "    .dataframe tbody tr th:only-of-type {\n",
       "        vertical-align: middle;\n",
       "    }\n",
       "\n",
       "    .dataframe tbody tr th {\n",
       "        vertical-align: top;\n",
       "    }\n",
       "\n",
       "    .dataframe thead th {\n",
       "        text-align: right;\n",
       "    }\n",
       "</style>\n",
       "<table border=\"1\" class=\"dataframe\">\n",
       "  <thead>\n",
       "    <tr style=\"text-align: right;\">\n",
       "      <th></th>\n",
       "      <th>English</th>\n",
       "      <th>Math</th>\n",
       "      <th>Reading</th>\n",
       "      <th>Science</th>\n",
       "      <th>Composite</th>\n",
       "    </tr>\n",
       "  </thead>\n",
       "  <tbody>\n",
       "    <tr>\n",
       "      <th>count</th>\n",
       "      <td>52.000000</td>\n",
       "      <td>52.000000</td>\n",
       "      <td>52.000000</td>\n",
       "      <td>52.000000</td>\n",
       "      <td>52.000000</td>\n",
       "    </tr>\n",
       "    <tr>\n",
       "      <th>mean</th>\n",
       "      <td>20.919231</td>\n",
       "      <td>21.173077</td>\n",
       "      <td>22.001923</td>\n",
       "      <td>21.040385</td>\n",
       "      <td>21.509615</td>\n",
       "    </tr>\n",
       "    <tr>\n",
       "      <th>std</th>\n",
       "      <td>2.332132</td>\n",
       "      <td>1.963602</td>\n",
       "      <td>2.048672</td>\n",
       "      <td>3.151113</td>\n",
       "      <td>2.002083</td>\n",
       "    </tr>\n",
       "    <tr>\n",
       "      <th>min</th>\n",
       "      <td>16.300000</td>\n",
       "      <td>18.000000</td>\n",
       "      <td>18.100000</td>\n",
       "      <td>2.300000</td>\n",
       "      <td>17.800000</td>\n",
       "    </tr>\n",
       "    <tr>\n",
       "      <th>25%</th>\n",
       "      <td>19.000000</td>\n",
       "      <td>19.400000</td>\n",
       "      <td>20.475000</td>\n",
       "      <td>19.900000</td>\n",
       "      <td>19.800000</td>\n",
       "    </tr>\n",
       "    <tr>\n",
       "      <th>50%</th>\n",
       "      <td>20.550000</td>\n",
       "      <td>20.900000</td>\n",
       "      <td>21.700000</td>\n",
       "      <td>21.150000</td>\n",
       "      <td>21.400000</td>\n",
       "    </tr>\n",
       "    <tr>\n",
       "      <th>75%</th>\n",
       "      <td>23.300000</td>\n",
       "      <td>23.100000</td>\n",
       "      <td>24.125000</td>\n",
       "      <td>22.525000</td>\n",
       "      <td>23.600000</td>\n",
       "    </tr>\n",
       "    <tr>\n",
       "      <th>max</th>\n",
       "      <td>25.500000</td>\n",
       "      <td>25.300000</td>\n",
       "      <td>26.000000</td>\n",
       "      <td>24.900000</td>\n",
       "      <td>25.500000</td>\n",
       "    </tr>\n",
       "  </tbody>\n",
       "</table>\n",
       "</div>"
      ],
      "text/plain": [
       "         English       Math    Reading    Science  Composite\n",
       "count  52.000000  52.000000  52.000000  52.000000  52.000000\n",
       "mean   20.919231  21.173077  22.001923  21.040385  21.509615\n",
       "std     2.332132   1.963602   2.048672   3.151113   2.002083\n",
       "min    16.300000  18.000000  18.100000   2.300000  17.800000\n",
       "25%    19.000000  19.400000  20.475000  19.900000  19.800000\n",
       "50%    20.550000  20.900000  21.700000  21.150000  21.400000\n",
       "75%    23.300000  23.100000  24.125000  22.525000  23.600000\n",
       "max    25.500000  25.300000  26.000000  24.900000  25.500000"
      ]
     },
     "execution_count": 16,
     "metadata": {},
     "output_type": "execute_result"
    }
   ],
   "source": [
    "df_act.describe()\n",
    "# 52 entries in all cols\n",
    "# mean/max scores look ok for scores expected in range 1-36\n",
    "# but again, we have one suspiciously low Science Min score of 2.3... let's take a closer look"
   ]
  },
  {
   "cell_type": "code",
   "execution_count": 17,
   "metadata": {},
   "outputs": [
    {
     "data": {
      "text/html": [
       "<div>\n",
       "<style scoped>\n",
       "    .dataframe tbody tr th:only-of-type {\n",
       "        vertical-align: middle;\n",
       "    }\n",
       "\n",
       "    .dataframe tbody tr th {\n",
       "        vertical-align: top;\n",
       "    }\n",
       "\n",
       "    .dataframe thead th {\n",
       "        text-align: right;\n",
       "    }\n",
       "</style>\n",
       "<table border=\"1\" class=\"dataframe\">\n",
       "  <thead>\n",
       "    <tr style=\"text-align: right;\">\n",
       "      <th></th>\n",
       "      <th>State</th>\n",
       "      <th>Participation</th>\n",
       "      <th>English</th>\n",
       "      <th>Math</th>\n",
       "      <th>Reading</th>\n",
       "      <th>Science</th>\n",
       "      <th>Composite</th>\n",
       "    </tr>\n",
       "  </thead>\n",
       "  <tbody>\n",
       "    <tr>\n",
       "      <th>21</th>\n",
       "      <td>Maryland</td>\n",
       "      <td>28%</td>\n",
       "      <td>23.3</td>\n",
       "      <td>23.1</td>\n",
       "      <td>24.2</td>\n",
       "      <td>2.3</td>\n",
       "      <td>23.6</td>\n",
       "    </tr>\n",
       "  </tbody>\n",
       "</table>\n",
       "</div>"
      ],
      "text/plain": [
       "       State Participation  English  Math  Reading  Science  Composite\n",
       "21  Maryland           28%     23.3  23.1     24.2      2.3       23.6"
      ]
     },
     "execution_count": 17,
     "metadata": {},
     "output_type": "execute_result"
    }
   ],
   "source": [
    "# take a closer look at the low score\n",
    "df_act[(df_act['Science'] < 10)]\n"
   ]
  },
  {
   "cell_type": "markdown",
   "metadata": {},
   "source": [
    "* Again, the issue is Maryland \n",
    "* composite score is an average of the others\n",
    "* it doesn't make sense for Maryland to have a composite score of 23.6 given the provided values, which supports the fact that\n",
    "* the science score is wrong (plus it seems highly unlikely that an entire state's worth of students would be so horrible at Math!!)"
   ]
  },
  {
   "cell_type": "code",
   "execution_count": 18,
   "metadata": {},
   "outputs": [
    {
     "name": "stdout",
     "output_type": "stream",
     "text": [
      "If the Science score is correct, Maryland's composite score should be 18.225\n"
     ]
    }
   ],
   "source": [
    "#update at index 20 (maryland)\n",
    "# df_sat.loc[[20],['Math']]  = (df_sat[ df_sat['State'] =='Maryland']['Total'] - df_sat[ df_sat['State'] =='Maryland']['Evidence-Based Reading and Writing'])\n",
    "# df_sat.loc[[20],['Math']]\n",
    "current_maryland_avg = np.mean(df_act[['English','Math','Reading','Science']][ df_act['State'] =='Maryland'].T)\n",
    "print(f\"If the Science score is correct, Maryland's composite score should be {current_maryland_avg.iloc[0]}\")\n"
   ]
  },
  {
   "cell_type": "code",
   "execution_count": 19,
   "metadata": {},
   "outputs": [
    {
     "data": {
      "text/html": [
       "<div>\n",
       "<style scoped>\n",
       "    .dataframe tbody tr th:only-of-type {\n",
       "        vertical-align: middle;\n",
       "    }\n",
       "\n",
       "    .dataframe tbody tr th {\n",
       "        vertical-align: top;\n",
       "    }\n",
       "\n",
       "    .dataframe thead th {\n",
       "        text-align: right;\n",
       "    }\n",
       "</style>\n",
       "<table border=\"1\" class=\"dataframe\">\n",
       "  <thead>\n",
       "    <tr style=\"text-align: right;\">\n",
       "      <th></th>\n",
       "      <th>State</th>\n",
       "      <th>Participation</th>\n",
       "      <th>English</th>\n",
       "      <th>Math</th>\n",
       "      <th>Reading</th>\n",
       "      <th>Science</th>\n",
       "      <th>Composite</th>\n",
       "    </tr>\n",
       "  </thead>\n",
       "  <tbody>\n",
       "  </tbody>\n",
       "</table>\n",
       "</div>"
      ],
      "text/plain": [
       "Empty DataFrame\n",
       "Columns: [State, Participation, English, Math, Reading, Science, Composite]\n",
       "Index: []"
      ]
     },
     "execution_count": 19,
     "metadata": {},
     "output_type": "execute_result"
    }
   ],
   "source": [
    "# work backwards to calculate the correct math score\n",
    "# (23.3 + 23.1 + 24.2 + x)/4 = 23.6\n",
    "# 23.3 + 23.1 + 24.2 + x = 23.6 *4\n",
    "# 23.3 + 23.1 + 24.2 + x =94.4\n",
    "# x = 23.8\n",
    "real_maryland_average = df_act['Composite'][ df_act['State'] =='Maryland'].iloc[0]\n",
    "real_maryland_average\n",
    "maryland_df=df_act[['English','Math','Reading','Science']][ df_act['State'] =='Maryland']\n",
    "sum_other_scores = maryland_df['English'].iloc[0] + maryland_df['Math'].iloc[0] + maryland_df['Reading'].iloc[0]\n",
    "sum_other_scores\n",
    "maryland_science = round((real_maryland_average *4) - sum_other_scores,2)\n",
    "maryland_science\n",
    "df_act.loc[[21],['Science']]=maryland_science\n",
    "df_act[(df_act['Science'] < 10)]"
   ]
  },
  {
   "cell_type": "code",
   "execution_count": 22,
   "metadata": {},
   "outputs": [
    {
     "data": {
      "text/plain": [
       "State            0\n",
       "Participation    0\n",
       "English          0\n",
       "Math             0\n",
       "Reading          0\n",
       "Science          0\n",
       "Composite        0\n",
       "dtype: int64"
      ]
     },
     "execution_count": 22,
     "metadata": {},
     "output_type": "execute_result"
    }
   ],
   "source": [
    "# Previous info() call showed that there are no null/missing values, but let's check again explicitly.  Everything looks good\n",
    "#df_act.isnull().any()\n",
    "df_act.isnull().sum()"
   ]
  },
  {
   "cell_type": "code",
   "execution_count": 23,
   "metadata": {},
   "outputs": [
    {
     "data": {
      "text/plain": [
       "State                                 False\n",
       "Participation                         False\n",
       "Evidence-Based Reading and Writing    False\n",
       "Math                                  False\n",
       "Total                                 False\n",
       "dtype: bool"
      ]
     },
     "execution_count": 23,
     "metadata": {},
     "output_type": "execute_result"
    }
   ],
   "source": [
    "df_sat.isnull().any()"
   ]
  },
  {
   "cell_type": "markdown",
   "metadata": {},
   "source": [
    "##### Check the dtypes of each column."
   ]
  },
  {
   "cell_type": "code",
   "execution_count": 377,
   "metadata": {
    "scrolled": true
   },
   "outputs": [
    {
     "data": {
      "text/plain": [
       "State             object\n",
       "Participation     object\n",
       "English          float64\n",
       "Math             float64\n",
       "Reading          float64\n",
       "Science          float64\n",
       "Composite        float64\n",
       "dtype: object"
      ]
     },
     "execution_count": 377,
     "metadata": {},
     "output_type": "execute_result"
    }
   ],
   "source": [
    "df_act.dtypes"
   ]
  },
  {
   "cell_type": "code",
   "execution_count": 378,
   "metadata": {},
   "outputs": [
    {
     "data": {
      "text/plain": [
       "State                                 object\n",
       "Participation                         object\n",
       "Evidence-Based Reading and Writing     int64\n",
       "Math                                   int64\n",
       "Total                                  int64\n",
       "dtype: object"
      ]
     },
     "execution_count": 378,
     "metadata": {},
     "output_type": "execute_result"
    }
   ],
   "source": [
    "df_sat.dtypes"
   ]
  },
  {
   "cell_type": "markdown",
   "metadata": {},
   "source": [
    "* The Participation column in both dataframes is showing as a string ('object') and, since it is a percentage, \n",
    "* should be converted to a float \n",
    "* the issue is likely the presence of the %age sign so start by just replacign that"
   ]
  },
  {
   "cell_type": "code",
   "execution_count": 24,
   "metadata": {},
   "outputs": [
    {
     "data": {
      "text/html": [
       "<div>\n",
       "<style scoped>\n",
       "    .dataframe tbody tr th:only-of-type {\n",
       "        vertical-align: middle;\n",
       "    }\n",
       "\n",
       "    .dataframe tbody tr th {\n",
       "        vertical-align: top;\n",
       "    }\n",
       "\n",
       "    .dataframe thead th {\n",
       "        text-align: right;\n",
       "    }\n",
       "</style>\n",
       "<table border=\"1\" class=\"dataframe\">\n",
       "  <thead>\n",
       "    <tr style=\"text-align: right;\">\n",
       "      <th></th>\n",
       "      <th>State</th>\n",
       "      <th>Participation</th>\n",
       "      <th>English</th>\n",
       "      <th>Math</th>\n",
       "      <th>Reading</th>\n",
       "      <th>Science</th>\n",
       "      <th>Composite</th>\n",
       "    </tr>\n",
       "  </thead>\n",
       "  <tbody>\n",
       "    <tr>\n",
       "      <th>0</th>\n",
       "      <td>National</td>\n",
       "      <td>60.0</td>\n",
       "      <td>20.3</td>\n",
       "      <td>20.7</td>\n",
       "      <td>21.4</td>\n",
       "      <td>21.0</td>\n",
       "      <td>21.0</td>\n",
       "    </tr>\n",
       "    <tr>\n",
       "      <th>1</th>\n",
       "      <td>Alabama</td>\n",
       "      <td>100.0</td>\n",
       "      <td>18.9</td>\n",
       "      <td>18.4</td>\n",
       "      <td>19.7</td>\n",
       "      <td>19.4</td>\n",
       "      <td>19.2</td>\n",
       "    </tr>\n",
       "    <tr>\n",
       "      <th>2</th>\n",
       "      <td>Alaska</td>\n",
       "      <td>65.0</td>\n",
       "      <td>18.7</td>\n",
       "      <td>19.8</td>\n",
       "      <td>20.4</td>\n",
       "      <td>19.9</td>\n",
       "      <td>19.8</td>\n",
       "    </tr>\n",
       "    <tr>\n",
       "      <th>3</th>\n",
       "      <td>Arizona</td>\n",
       "      <td>62.0</td>\n",
       "      <td>18.6</td>\n",
       "      <td>19.8</td>\n",
       "      <td>20.1</td>\n",
       "      <td>19.8</td>\n",
       "      <td>19.7</td>\n",
       "    </tr>\n",
       "    <tr>\n",
       "      <th>4</th>\n",
       "      <td>Arkansas</td>\n",
       "      <td>100.0</td>\n",
       "      <td>18.9</td>\n",
       "      <td>19.0</td>\n",
       "      <td>19.7</td>\n",
       "      <td>19.5</td>\n",
       "      <td>19.4</td>\n",
       "    </tr>\n",
       "  </tbody>\n",
       "</table>\n",
       "</div>"
      ],
      "text/plain": [
       "      State  Participation  English  Math  Reading  Science  Composite\n",
       "0  National           60.0     20.3  20.7     21.4     21.0       21.0\n",
       "1   Alabama          100.0     18.9  18.4     19.7     19.4       19.2\n",
       "2    Alaska           65.0     18.7  19.8     20.4     19.9       19.8\n",
       "3   Arizona           62.0     18.6  19.8     20.1     19.8       19.7\n",
       "4  Arkansas          100.0     18.9  19.0     19.7     19.5       19.4"
      ]
     },
     "execution_count": 24,
     "metadata": {},
     "output_type": "execute_result"
    }
   ],
   "source": [
    "df_act['Participation']=df_act['Participation'].apply(lambda x: float(x.replace('%','')))\n",
    "\n",
    "df_act.head()"
   ]
  },
  {
   "cell_type": "code",
   "execution_count": 25,
   "metadata": {},
   "outputs": [
    {
     "data": {
      "text/plain": [
       "State             object\n",
       "Participation    float64\n",
       "English          float64\n",
       "Math             float64\n",
       "Reading          float64\n",
       "Science          float64\n",
       "Composite        float64\n",
       "dtype: object"
      ]
     },
     "execution_count": 25,
     "metadata": {},
     "output_type": "execute_result"
    }
   ],
   "source": [
    "df_act.dtypes"
   ]
  },
  {
   "cell_type": "code",
   "execution_count": 26,
   "metadata": {},
   "outputs": [
    {
     "data": {
      "text/html": [
       "<div>\n",
       "<style scoped>\n",
       "    .dataframe tbody tr th:only-of-type {\n",
       "        vertical-align: middle;\n",
       "    }\n",
       "\n",
       "    .dataframe tbody tr th {\n",
       "        vertical-align: top;\n",
       "    }\n",
       "\n",
       "    .dataframe thead th {\n",
       "        text-align: right;\n",
       "    }\n",
       "</style>\n",
       "<table border=\"1\" class=\"dataframe\">\n",
       "  <thead>\n",
       "    <tr style=\"text-align: right;\">\n",
       "      <th></th>\n",
       "      <th>State</th>\n",
       "      <th>Participation</th>\n",
       "      <th>Evidence-Based Reading and Writing</th>\n",
       "      <th>Math</th>\n",
       "      <th>Total</th>\n",
       "    </tr>\n",
       "  </thead>\n",
       "  <tbody>\n",
       "    <tr>\n",
       "      <th>0</th>\n",
       "      <td>Alabama</td>\n",
       "      <td>5.0</td>\n",
       "      <td>593</td>\n",
       "      <td>572</td>\n",
       "      <td>1165</td>\n",
       "    </tr>\n",
       "    <tr>\n",
       "      <th>1</th>\n",
       "      <td>Alaska</td>\n",
       "      <td>38.0</td>\n",
       "      <td>547</td>\n",
       "      <td>533</td>\n",
       "      <td>1080</td>\n",
       "    </tr>\n",
       "    <tr>\n",
       "      <th>2</th>\n",
       "      <td>Arizona</td>\n",
       "      <td>30.0</td>\n",
       "      <td>563</td>\n",
       "      <td>553</td>\n",
       "      <td>1116</td>\n",
       "    </tr>\n",
       "    <tr>\n",
       "      <th>3</th>\n",
       "      <td>Arkansas</td>\n",
       "      <td>3.0</td>\n",
       "      <td>614</td>\n",
       "      <td>594</td>\n",
       "      <td>1208</td>\n",
       "    </tr>\n",
       "    <tr>\n",
       "      <th>4</th>\n",
       "      <td>California</td>\n",
       "      <td>53.0</td>\n",
       "      <td>531</td>\n",
       "      <td>524</td>\n",
       "      <td>1055</td>\n",
       "    </tr>\n",
       "  </tbody>\n",
       "</table>\n",
       "</div>"
      ],
      "text/plain": [
       "        State  Participation  Evidence-Based Reading and Writing  Math  Total\n",
       "0     Alabama            5.0                                 593   572   1165\n",
       "1      Alaska           38.0                                 547   533   1080\n",
       "2     Arizona           30.0                                 563   553   1116\n",
       "3    Arkansas            3.0                                 614   594   1208\n",
       "4  California           53.0                                 531   524   1055"
      ]
     },
     "execution_count": 26,
     "metadata": {},
     "output_type": "execute_result"
    }
   ],
   "source": [
    "# repeat for Sat\n",
    "df_sat['Participation']=df_sat['Participation'].apply(lambda x: float(x.replace('%','')))\n",
    "\n",
    "df_sat.head()"
   ]
  },
  {
   "cell_type": "code",
   "execution_count": 27,
   "metadata": {},
   "outputs": [
    {
     "name": "stdout",
     "output_type": "stream",
     "text": [
      "<class 'pandas.core.frame.DataFrame'>\n",
      "Int64Index: 51 entries, 0 to 50\n",
      "Data columns (total 5 columns):\n",
      "State                                 51 non-null object\n",
      "Participation                         51 non-null float64\n",
      "Evidence-Based Reading and Writing    51 non-null int64\n",
      "Math                                  51 non-null int64\n",
      "Total                                 51 non-null int64\n",
      "dtypes: float64(1), int64(3), object(1)\n",
      "memory usage: 4.9+ KB\n"
     ]
    }
   ],
   "source": [
    "df_sat.info()"
   ]
  },
  {
   "cell_type": "markdown",
   "metadata": {},
   "source": [
    "##### 7. Create a dictionary for each column mapping the State to its respective value for that column. (For example, you should have three SAT dictionaries.)"
   ]
  },
  {
   "cell_type": "code",
   "execution_count": 28,
   "metadata": {},
   "outputs": [
    {
     "name": "stdout",
     "output_type": "stream",
     "text": [
      "The SAT Math score for Alabama is 572\n"
     ]
    }
   ],
   "source": [
    "# I assume this means that we want State as the Key and the particular score as the value\n",
    "\n",
    "# we can use the to_dict() function to create a dictionary out of our dataframe\n",
    "# but need to first set State as the index so that correctly generates key/value pairs using State / <column> score\n",
    "# the resulting dictionary has a key for each colum (Math, Total etc) that contains a nested dictorary with the state/score pairs\n",
    "\n",
    "sat_dict=df_sat.set_index('State').to_dict()\n",
    "sat_math_dict = sat_dict['Math']\n",
    "print(f\"The SAT Math score for Alabama is {sat_math_dict['Alabama']}\") # show we can pass in a State and get back the math score as expected\n"
   ]
  },
  {
   "cell_type": "code",
   "execution_count": 29,
   "metadata": {},
   "outputs": [
    {
     "name": "stdout",
     "output_type": "stream",
     "text": [
      "The SAT RW score for Alabama is 563\n"
     ]
    }
   ],
   "source": [
    "sat_rw_dict = sat_dict['Evidence-Based Reading and Writing']\n",
    "print(f\"The SAT RW score for Alabama is {sat_rw_dict['Arizona']}\")"
   ]
  },
  {
   "cell_type": "code",
   "execution_count": 30,
   "metadata": {},
   "outputs": [
    {
     "name": "stdout",
     "output_type": "stream",
     "text": [
      "The SAT Total score for Alabama is 1116\n"
     ]
    }
   ],
   "source": [
    "\n",
    "sat_total_dict = sat_dict['Total']\n",
    "print(f\"The SAT Total score for Alabama is {sat_total_dict['Arizona']}\") # again get average Total score for Arizona"
   ]
  },
  {
   "cell_type": "code",
   "execution_count": 31,
   "metadata": {},
   "outputs": [
    {
     "name": "stdout",
     "output_type": "stream",
     "text": [
      "The ACT English score for Alabama is 18.9\n"
     ]
    }
   ],
   "source": [
    "# repeat above for ACT\n",
    "act_dict=df_act.set_index('State').to_dict()\n",
    "act_eng_dict = act_dict['English']\n",
    "print(f\"The ACT English score for Alabama is {act_eng_dict['Alabama']}\") # show we can pass in a State and get back the math score as expected\n"
   ]
  },
  {
   "cell_type": "code",
   "execution_count": 33,
   "metadata": {},
   "outputs": [
    {
     "name": "stdout",
     "output_type": "stream",
     "text": [
      "The ACT Math score for Alabama is 19.8\n"
     ]
    }
   ],
   "source": [
    "\n",
    "act_math_dict = act_dict['Math']\n",
    "print(f\"The ACT Math score for Alabama is {act_math_dict['Arizona']}\") # again get average Math score for Arizona"
   ]
  },
  {
   "cell_type": "code",
   "execution_count": 34,
   "metadata": {},
   "outputs": [
    {
     "name": "stdout",
     "output_type": "stream",
     "text": [
      "The ACT Reading score for Alabama is 20.1\n"
     ]
    }
   ],
   "source": [
    "\n",
    "act_read_dict = act_dict['Reading']\n",
    "print(f\"The ACT Reading score for Alabama is {act_read_dict['Arizona']}\") # again get average Reading score for Arizona"
   ]
  },
  {
   "cell_type": "code",
   "execution_count": 35,
   "metadata": {},
   "outputs": [
    {
     "name": "stdout",
     "output_type": "stream",
     "text": [
      "The ACT Science score for Alabama is 19.8\n"
     ]
    }
   ],
   "source": [
    "\n",
    "act_sci_dict = act_dict['Science']\n",
    "print(f\"The ACT Science score for Alabama is {act_sci_dict['Arizona']}\") # again get average Science score for Arizona"
   ]
  },
  {
   "cell_type": "code",
   "execution_count": 36,
   "metadata": {},
   "outputs": [
    {
     "name": "stdout",
     "output_type": "stream",
     "text": [
      "The ACT Composite score for Alabama is 19.7\n"
     ]
    }
   ],
   "source": [
    "\n",
    "act_comp_dict = act_dict['Composite']\n",
    "print(f\"The ACT Composite score for Alabama is {act_comp_dict['Arizona']}\") # again get average Composite score for Arizona"
   ]
  },
  {
   "cell_type": "markdown",
   "metadata": {},
   "source": [
    "##### 8. Create one dictionary where each key is the column name, and each value is an iterable (a list or a Pandas Series) of all the values in that column."
   ]
  },
  {
   "cell_type": "code",
   "execution_count": 37,
   "metadata": {},
   "outputs": [
    {
     "data": {
      "text/plain": [
       "[5.0,\n",
       " 38.0,\n",
       " 30.0,\n",
       " 3.0,\n",
       " 53.0,\n",
       " 11.0,\n",
       " 100.0,\n",
       " 100.0,\n",
       " 100.0,\n",
       " 83.0,\n",
       " 61.0,\n",
       " 55.0,\n",
       " 93.0,\n",
       " 9.0,\n",
       " 63.0,\n",
       " 2.0,\n",
       " 4.0,\n",
       " 4.0,\n",
       " 4.0,\n",
       " 95.0,\n",
       " 69.0,\n",
       " 76.0,\n",
       " 100.0,\n",
       " 3.0,\n",
       " 2.0,\n",
       " 3.0,\n",
       " 10.0,\n",
       " 3.0,\n",
       " 26.0,\n",
       " 96.0,\n",
       " 70.0,\n",
       " 11.0,\n",
       " 67.0,\n",
       " 49.0,\n",
       " 2.0,\n",
       " 12.0,\n",
       " 7.0,\n",
       " 43.0,\n",
       " 65.0,\n",
       " 71.0,\n",
       " 50.0,\n",
       " 3.0,\n",
       " 5.0,\n",
       " 62.0,\n",
       " 3.0,\n",
       " 60.0,\n",
       " 65.0,\n",
       " 64.0,\n",
       " 14.0,\n",
       " 3.0,\n",
       " 3.0]"
      ]
     },
     "execution_count": 37,
     "metadata": {},
     "output_type": "execute_result"
    }
   ],
   "source": [
    "cols_dict = df_sat.to_dict('list')\n",
    "cols_dict['Participation']"
   ]
  },
  {
   "cell_type": "markdown",
   "metadata": {},
   "source": [
    "##### 9. Merge the dataframes on the state column."
   ]
  },
  {
   "cell_type": "code",
   "execution_count": 38,
   "metadata": {},
   "outputs": [
    {
     "data": {
      "text/html": [
       "<div>\n",
       "<style scoped>\n",
       "    .dataframe tbody tr th:only-of-type {\n",
       "        vertical-align: middle;\n",
       "    }\n",
       "\n",
       "    .dataframe tbody tr th {\n",
       "        vertical-align: top;\n",
       "    }\n",
       "\n",
       "    .dataframe thead th {\n",
       "        text-align: right;\n",
       "    }\n",
       "</style>\n",
       "<table border=\"1\" class=\"dataframe\">\n",
       "  <thead>\n",
       "    <tr style=\"text-align: right;\">\n",
       "      <th></th>\n",
       "      <th>State</th>\n",
       "      <th>Participation</th>\n",
       "      <th>English</th>\n",
       "      <th>Math</th>\n",
       "      <th>Reading</th>\n",
       "      <th>Science</th>\n",
       "      <th>Composite</th>\n",
       "    </tr>\n",
       "  </thead>\n",
       "  <tbody>\n",
       "    <tr>\n",
       "      <th>0</th>\n",
       "      <td>National</td>\n",
       "      <td>60.0</td>\n",
       "      <td>20.3</td>\n",
       "      <td>20.7</td>\n",
       "      <td>21.4</td>\n",
       "      <td>21.0</td>\n",
       "      <td>21.0</td>\n",
       "    </tr>\n",
       "    <tr>\n",
       "      <th>1</th>\n",
       "      <td>Alabama</td>\n",
       "      <td>100.0</td>\n",
       "      <td>18.9</td>\n",
       "      <td>18.4</td>\n",
       "      <td>19.7</td>\n",
       "      <td>19.4</td>\n",
       "      <td>19.2</td>\n",
       "    </tr>\n",
       "  </tbody>\n",
       "</table>\n",
       "</div>"
      ],
      "text/plain": [
       "      State  Participation  English  Math  Reading  Science  Composite\n",
       "0  National           60.0     20.3  20.7     21.4     21.0       21.0\n",
       "1   Alabama          100.0     18.9  18.4     19.7     19.4       19.2"
      ]
     },
     "execution_count": 38,
     "metadata": {},
     "output_type": "execute_result"
    }
   ],
   "source": [
    "df_act.head(2)"
   ]
  },
  {
   "cell_type": "code",
   "execution_count": 39,
   "metadata": {},
   "outputs": [],
   "source": [
    "# rename columns before merging for clarity\n",
    "df_sat.rename(inplace=True, columns={'Math': 'sat_math','Total': 'sat_total','Evidence-Based Reading and Writing': 'sat_rw', 'Participation': 'sat_participation'})\n",
    "df_act.rename(inplace=True, columns={'Participation': 'act_participation','English': 'act_english','Math': 'act_math','Reading': 'act_reading', 'Science': 'act_science', 'Composite': 'act_composite'})\n"
   ]
  },
  {
   "cell_type": "code",
   "execution_count": 40,
   "metadata": {},
   "outputs": [
    {
     "data": {
      "text/html": [
       "<div>\n",
       "<style scoped>\n",
       "    .dataframe tbody tr th:only-of-type {\n",
       "        vertical-align: middle;\n",
       "    }\n",
       "\n",
       "    .dataframe tbody tr th {\n",
       "        vertical-align: top;\n",
       "    }\n",
       "\n",
       "    .dataframe thead th {\n",
       "        text-align: right;\n",
       "    }\n",
       "</style>\n",
       "<table border=\"1\" class=\"dataframe\">\n",
       "  <thead>\n",
       "    <tr style=\"text-align: right;\">\n",
       "      <th></th>\n",
       "      <th>State</th>\n",
       "      <th>sat_participation</th>\n",
       "      <th>sat_rw</th>\n",
       "      <th>sat_math</th>\n",
       "      <th>sat_total</th>\n",
       "      <th>act_participation</th>\n",
       "      <th>act_english</th>\n",
       "      <th>act_math</th>\n",
       "      <th>act_reading</th>\n",
       "      <th>act_science</th>\n",
       "      <th>act_composite</th>\n",
       "    </tr>\n",
       "  </thead>\n",
       "  <tbody>\n",
       "    <tr>\n",
       "      <th>0</th>\n",
       "      <td>Alabama</td>\n",
       "      <td>5.0</td>\n",
       "      <td>593</td>\n",
       "      <td>572</td>\n",
       "      <td>1165</td>\n",
       "      <td>100.0</td>\n",
       "      <td>18.9</td>\n",
       "      <td>18.4</td>\n",
       "      <td>19.7</td>\n",
       "      <td>19.4</td>\n",
       "      <td>19.2</td>\n",
       "    </tr>\n",
       "    <tr>\n",
       "      <th>1</th>\n",
       "      <td>Alaska</td>\n",
       "      <td>38.0</td>\n",
       "      <td>547</td>\n",
       "      <td>533</td>\n",
       "      <td>1080</td>\n",
       "      <td>65.0</td>\n",
       "      <td>18.7</td>\n",
       "      <td>19.8</td>\n",
       "      <td>20.4</td>\n",
       "      <td>19.9</td>\n",
       "      <td>19.8</td>\n",
       "    </tr>\n",
       "    <tr>\n",
       "      <th>2</th>\n",
       "      <td>Arizona</td>\n",
       "      <td>30.0</td>\n",
       "      <td>563</td>\n",
       "      <td>553</td>\n",
       "      <td>1116</td>\n",
       "      <td>62.0</td>\n",
       "      <td>18.6</td>\n",
       "      <td>19.8</td>\n",
       "      <td>20.1</td>\n",
       "      <td>19.8</td>\n",
       "      <td>19.7</td>\n",
       "    </tr>\n",
       "    <tr>\n",
       "      <th>3</th>\n",
       "      <td>Arkansas</td>\n",
       "      <td>3.0</td>\n",
       "      <td>614</td>\n",
       "      <td>594</td>\n",
       "      <td>1208</td>\n",
       "      <td>100.0</td>\n",
       "      <td>18.9</td>\n",
       "      <td>19.0</td>\n",
       "      <td>19.7</td>\n",
       "      <td>19.5</td>\n",
       "      <td>19.4</td>\n",
       "    </tr>\n",
       "    <tr>\n",
       "      <th>4</th>\n",
       "      <td>California</td>\n",
       "      <td>53.0</td>\n",
       "      <td>531</td>\n",
       "      <td>524</td>\n",
       "      <td>1055</td>\n",
       "      <td>31.0</td>\n",
       "      <td>22.5</td>\n",
       "      <td>22.7</td>\n",
       "      <td>23.1</td>\n",
       "      <td>22.2</td>\n",
       "      <td>22.8</td>\n",
       "    </tr>\n",
       "  </tbody>\n",
       "</table>\n",
       "</div>"
      ],
      "text/plain": [
       "        State  sat_participation  sat_rw  sat_math  sat_total  \\\n",
       "0     Alabama                5.0     593       572       1165   \n",
       "1      Alaska               38.0     547       533       1080   \n",
       "2     Arizona               30.0     563       553       1116   \n",
       "3    Arkansas                3.0     614       594       1208   \n",
       "4  California               53.0     531       524       1055   \n",
       "\n",
       "   act_participation  act_english  act_math  act_reading  act_science  \\\n",
       "0              100.0         18.9      18.4         19.7         19.4   \n",
       "1               65.0         18.7      19.8         20.4         19.9   \n",
       "2               62.0         18.6      19.8         20.1         19.8   \n",
       "3              100.0         18.9      19.0         19.7         19.5   \n",
       "4               31.0         22.5      22.7         23.1         22.2   \n",
       "\n",
       "   act_composite  \n",
       "0           19.2  \n",
       "1           19.8  \n",
       "2           19.7  \n",
       "3           19.4  \n",
       "4           22.8  "
      ]
     },
     "execution_count": 40,
     "metadata": {},
     "output_type": "execute_result"
    }
   ],
   "source": [
    "# merge the datasets together, matching up on the State column\n",
    "df_merged = pd.merge(df_sat,df_act,on='State')\n",
    "df_merged.head()\n"
   ]
  },
  {
   "cell_type": "code",
   "execution_count": 41,
   "metadata": {},
   "outputs": [
    {
     "data": {
      "text/plain": [
       "(51, 11)"
      ]
     },
     "execution_count": 41,
     "metadata": {},
     "output_type": "execute_result"
    }
   ],
   "source": [
    "df_merged.shape"
   ]
  },
  {
   "cell_type": "markdown",
   "metadata": {},
   "source": [
    "##### 11. Print the minimum and maximum of each numeric column in the data frame."
   ]
  },
  {
   "cell_type": "code",
   "execution_count": 42,
   "metadata": {},
   "outputs": [
    {
     "data": {
      "text/plain": [
       "[['sat_participation', 2.0, 100.0],\n",
       " ['sat_rw', 482, 644],\n",
       " ['sat_math', 468, 651],\n",
       " ['sat_total', 950, 1295],\n",
       " ['act_participation', 8.0, 100.0],\n",
       " ['act_english', 16.3, 25.5],\n",
       " ['act_math', 18.0, 25.3],\n",
       " ['act_reading', 18.1, 26.0],\n",
       " ['act_science', 18.2, 24.9],\n",
       " ['act_composite', 17.8, 25.5]]"
      ]
     },
     "execution_count": 42,
     "metadata": {},
     "output_type": "execute_result"
    }
   ],
   "source": [
    "# create list with score type, min and max\n",
    "score_min_maxes=[[col, df_merged[col].min(), df_merged[col].max()] for col in df_merged.columns[1:] ]\n",
    "score_min_maxes"
   ]
  },
  {
   "cell_type": "code",
   "execution_count": 43,
   "metadata": {},
   "outputs": [
    {
     "data": {
      "text/html": [
       "<div>\n",
       "<style scoped>\n",
       "    .dataframe tbody tr th:only-of-type {\n",
       "        vertical-align: middle;\n",
       "    }\n",
       "\n",
       "    .dataframe tbody tr th {\n",
       "        vertical-align: top;\n",
       "    }\n",
       "\n",
       "    .dataframe thead th {\n",
       "        text-align: right;\n",
       "    }\n",
       "</style>\n",
       "<table border=\"1\" class=\"dataframe\">\n",
       "  <thead>\n",
       "    <tr style=\"text-align: right;\">\n",
       "      <th></th>\n",
       "      <th>sat_participation</th>\n",
       "      <th>sat_rw</th>\n",
       "      <th>sat_math</th>\n",
       "      <th>sat_total</th>\n",
       "      <th>act_participation</th>\n",
       "      <th>act_english</th>\n",
       "      <th>act_math</th>\n",
       "      <th>act_reading</th>\n",
       "      <th>act_science</th>\n",
       "      <th>act_composite</th>\n",
       "    </tr>\n",
       "  </thead>\n",
       "  <tbody>\n",
       "    <tr>\n",
       "      <th>count</th>\n",
       "      <td>51.000000</td>\n",
       "      <td>51.000000</td>\n",
       "      <td>51.000000</td>\n",
       "      <td>51.000000</td>\n",
       "      <td>51.000000</td>\n",
       "      <td>51.000000</td>\n",
       "      <td>51.000000</td>\n",
       "      <td>51.000000</td>\n",
       "      <td>51.000000</td>\n",
       "      <td>51.000000</td>\n",
       "    </tr>\n",
       "    <tr>\n",
       "      <th>mean</th>\n",
       "      <td>39.803922</td>\n",
       "      <td>569.117647</td>\n",
       "      <td>556.882353</td>\n",
       "      <td>1126.098039</td>\n",
       "      <td>65.254902</td>\n",
       "      <td>20.931373</td>\n",
       "      <td>21.182353</td>\n",
       "      <td>22.013725</td>\n",
       "      <td>21.462745</td>\n",
       "      <td>21.519608</td>\n",
       "    </tr>\n",
       "    <tr>\n",
       "      <th>std</th>\n",
       "      <td>35.276632</td>\n",
       "      <td>45.666901</td>\n",
       "      <td>47.121395</td>\n",
       "      <td>92.494812</td>\n",
       "      <td>32.140842</td>\n",
       "      <td>2.353677</td>\n",
       "      <td>1.981989</td>\n",
       "      <td>2.067271</td>\n",
       "      <td>1.753392</td>\n",
       "      <td>2.020695</td>\n",
       "    </tr>\n",
       "    <tr>\n",
       "      <th>min</th>\n",
       "      <td>2.000000</td>\n",
       "      <td>482.000000</td>\n",
       "      <td>468.000000</td>\n",
       "      <td>950.000000</td>\n",
       "      <td>8.000000</td>\n",
       "      <td>16.300000</td>\n",
       "      <td>18.000000</td>\n",
       "      <td>18.100000</td>\n",
       "      <td>18.200000</td>\n",
       "      <td>17.800000</td>\n",
       "    </tr>\n",
       "    <tr>\n",
       "      <th>25%</th>\n",
       "      <td>4.000000</td>\n",
       "      <td>533.500000</td>\n",
       "      <td>523.500000</td>\n",
       "      <td>1055.500000</td>\n",
       "      <td>31.000000</td>\n",
       "      <td>19.000000</td>\n",
       "      <td>19.400000</td>\n",
       "      <td>20.450000</td>\n",
       "      <td>19.950000</td>\n",
       "      <td>19.800000</td>\n",
       "    </tr>\n",
       "    <tr>\n",
       "      <th>50%</th>\n",
       "      <td>38.000000</td>\n",
       "      <td>559.000000</td>\n",
       "      <td>548.000000</td>\n",
       "      <td>1107.000000</td>\n",
       "      <td>69.000000</td>\n",
       "      <td>20.700000</td>\n",
       "      <td>20.900000</td>\n",
       "      <td>21.800000</td>\n",
       "      <td>21.300000</td>\n",
       "      <td>21.400000</td>\n",
       "    </tr>\n",
       "    <tr>\n",
       "      <th>75%</th>\n",
       "      <td>66.000000</td>\n",
       "      <td>613.000000</td>\n",
       "      <td>599.000000</td>\n",
       "      <td>1212.000000</td>\n",
       "      <td>100.000000</td>\n",
       "      <td>23.300000</td>\n",
       "      <td>23.100000</td>\n",
       "      <td>24.150000</td>\n",
       "      <td>23.200000</td>\n",
       "      <td>23.600000</td>\n",
       "    </tr>\n",
       "    <tr>\n",
       "      <th>max</th>\n",
       "      <td>100.000000</td>\n",
       "      <td>644.000000</td>\n",
       "      <td>651.000000</td>\n",
       "      <td>1295.000000</td>\n",
       "      <td>100.000000</td>\n",
       "      <td>25.500000</td>\n",
       "      <td>25.300000</td>\n",
       "      <td>26.000000</td>\n",
       "      <td>24.900000</td>\n",
       "      <td>25.500000</td>\n",
       "    </tr>\n",
       "  </tbody>\n",
       "</table>\n",
       "</div>"
      ],
      "text/plain": [
       "       sat_participation      sat_rw    sat_math    sat_total  \\\n",
       "count          51.000000   51.000000   51.000000    51.000000   \n",
       "mean           39.803922  569.117647  556.882353  1126.098039   \n",
       "std            35.276632   45.666901   47.121395    92.494812   \n",
       "min             2.000000  482.000000  468.000000   950.000000   \n",
       "25%             4.000000  533.500000  523.500000  1055.500000   \n",
       "50%            38.000000  559.000000  548.000000  1107.000000   \n",
       "75%            66.000000  613.000000  599.000000  1212.000000   \n",
       "max           100.000000  644.000000  651.000000  1295.000000   \n",
       "\n",
       "       act_participation  act_english   act_math  act_reading  act_science  \\\n",
       "count          51.000000    51.000000  51.000000    51.000000    51.000000   \n",
       "mean           65.254902    20.931373  21.182353    22.013725    21.462745   \n",
       "std            32.140842     2.353677   1.981989     2.067271     1.753392   \n",
       "min             8.000000    16.300000  18.000000    18.100000    18.200000   \n",
       "25%            31.000000    19.000000  19.400000    20.450000    19.950000   \n",
       "50%            69.000000    20.700000  20.900000    21.800000    21.300000   \n",
       "75%           100.000000    23.300000  23.100000    24.150000    23.200000   \n",
       "max           100.000000    25.500000  25.300000    26.000000    24.900000   \n",
       "\n",
       "       act_composite  \n",
       "count      51.000000  \n",
       "mean       21.519608  \n",
       "std         2.020695  \n",
       "min        17.800000  \n",
       "25%        19.800000  \n",
       "50%        21.400000  \n",
       "75%        23.600000  \n",
       "max        25.500000  "
      ]
     },
     "execution_count": 43,
     "metadata": {},
     "output_type": "execute_result"
    }
   ],
   "source": [
    "# double chec above-- looks good\n",
    "df_merged.describe()"
   ]
  },
  {
   "cell_type": "markdown",
   "metadata": {},
   "source": [
    "##### 12. Write a function using only list comprehensions, no loops, to compute standard deviation. Using this function, calculate the standard deviation of each numeric column in both data sets. Add these to a list called `sd`.\n",
    "\n",
    "$$\\sigma = \\sqrt{\\frac{1}{n}\\sum_{i=1}^n(x_i - \\mu)^2}$$"
   ]
  },
  {
   "cell_type": "code",
   "execution_count": 44,
   "metadata": {},
   "outputs": [
    {
     "name": "stdout",
     "output_type": "stream",
     "text": [
      "45.21697020437866\n",
      "45.66690138768932\n"
     ]
    }
   ],
   "source": [
    "# ok, first let's build up the formula for one column -- SAT_RW\n",
    "print(np.sqrt(sum([ (val- df_merged['sat_rw'].mean() )**2   for val in df_merged['sat_rw']]) * (1/len(df_merged['sat_rw']))))\n",
    "print(df_merged['sat_rw'].std()) # compare with pandas standard deviation value as a santity check"
   ]
  },
  {
   "cell_type": "code",
   "execution_count": 45,
   "metadata": {},
   "outputs": [
    {
     "data": {
      "text/plain": [
       "[34.92907076664508,\n",
       " 45.21697020437866,\n",
       " 46.65713364485503,\n",
       " 91.58351056778743,\n",
       " 31.824175751231806,\n",
       " 2.3304876369363363,\n",
       " 1.9624620273436781,\n",
       " 2.0469029314842646,\n",
       " 1.7361170088327353,\n",
       " 2.000786081581989]"
      ]
     },
     "execution_count": 45,
     "metadata": {},
     "output_type": "execute_result"
    }
   ],
   "source": [
    "# now loop through the columns, skipping the first column (State)\n",
    "# Note: this is ok for a small dataset but likely wouldn't perform well on a large dataset\n",
    "sd=[ np.sqrt(sum([ (val- df_merged[col].mean() )**2   for val in df_merged[col]]) * (1/len(df_merged[col]))) for col in df_merged.columns[1:]]\n",
    "sd\n"
   ]
  },
  {
   "cell_type": "code",
   "execution_count": 46,
   "metadata": {},
   "outputs": [
    {
     "data": {
      "text/plain": [
       "sat_participation    35.276632\n",
       "sat_rw               45.666901\n",
       "sat_math             47.121395\n",
       "sat_total            92.494812\n",
       "act_participation    32.140842\n",
       "act_english           2.353677\n",
       "act_math              1.981989\n",
       "act_reading           2.067271\n",
       "act_science           1.753392\n",
       "act_composite         2.020695\n",
       "dtype: float64"
      ]
     },
     "execution_count": 46,
     "metadata": {},
     "output_type": "execute_result"
    }
   ],
   "source": [
    "df_merged.std() # compare to pandas version of standard deviation ... not bad"
   ]
  },
  {
   "cell_type": "markdown",
   "metadata": {},
   "source": [
    "## Step 2: Manipulate the dataframe"
   ]
  },
  {
   "cell_type": "markdown",
   "metadata": {},
   "source": [
    "##### 13. Turn the list `sd` into a new observation in your dataset."
   ]
  },
  {
   "cell_type": "code",
   "execution_count": 47,
   "metadata": {},
   "outputs": [
    {
     "data": {
      "text/plain": [
       "['StdDev',\n",
       " 34.92907076664508,\n",
       " 45.21697020437866,\n",
       " 46.65713364485503,\n",
       " 91.58351056778743,\n",
       " 31.824175751231806,\n",
       " 2.3304876369363363,\n",
       " 1.9624620273436781,\n",
       " 2.0469029314842646,\n",
       " 1.7361170088327353,\n",
       " 2.000786081581989]"
      ]
     },
     "execution_count": 47,
     "metadata": {},
     "output_type": "execute_result"
    }
   ],
   "source": [
    "# add in an entry that will be populated to the State column\n",
    "sd.insert(0,'StdDev')\n",
    "sd"
   ]
  },
  {
   "cell_type": "code",
   "execution_count": 48,
   "metadata": {},
   "outputs": [],
   "source": [
    "# get a list of the column names in our merged data frame\n",
    "mycols = list(df_merged.columns.values)"
   ]
  },
  {
   "cell_type": "code",
   "execution_count": 49,
   "metadata": {},
   "outputs": [
    {
     "data": {
      "text/html": [
       "<div>\n",
       "<style scoped>\n",
       "    .dataframe tbody tr th:only-of-type {\n",
       "        vertical-align: middle;\n",
       "    }\n",
       "\n",
       "    .dataframe tbody tr th {\n",
       "        vertical-align: top;\n",
       "    }\n",
       "\n",
       "    .dataframe thead th {\n",
       "        text-align: right;\n",
       "    }\n",
       "</style>\n",
       "<table border=\"1\" class=\"dataframe\">\n",
       "  <thead>\n",
       "    <tr style=\"text-align: right;\">\n",
       "      <th></th>\n",
       "      <th>State</th>\n",
       "      <th>sat_participation</th>\n",
       "      <th>sat_rw</th>\n",
       "      <th>sat_math</th>\n",
       "      <th>sat_total</th>\n",
       "      <th>act_participation</th>\n",
       "      <th>act_english</th>\n",
       "      <th>act_math</th>\n",
       "      <th>act_reading</th>\n",
       "      <th>act_science</th>\n",
       "      <th>act_composite</th>\n",
       "    </tr>\n",
       "  </thead>\n",
       "  <tbody>\n",
       "    <tr>\n",
       "      <th>0</th>\n",
       "      <td>StdDev</td>\n",
       "      <td>34.9291</td>\n",
       "      <td>45.217</td>\n",
       "      <td>46.6571</td>\n",
       "      <td>91.5835</td>\n",
       "      <td>31.8242</td>\n",
       "      <td>2.33049</td>\n",
       "      <td>1.96246</td>\n",
       "      <td>2.0469</td>\n",
       "      <td>1.73612</td>\n",
       "      <td>2.00079</td>\n",
       "    </tr>\n",
       "  </tbody>\n",
       "</table>\n",
       "</div>"
      ],
      "text/plain": [
       "    State sat_participation  sat_rw sat_math sat_total act_participation  \\\n",
       "0  StdDev           34.9291  45.217  46.6571   91.5835           31.8242   \n",
       "\n",
       "  act_english act_math act_reading act_science act_composite  \n",
       "0     2.33049  1.96246      2.0469     1.73612       2.00079  "
      ]
     },
     "execution_count": 49,
     "metadata": {},
     "output_type": "execute_result"
    }
   ],
   "source": [
    "# create a dataframe from the sd list and transform so there is a column for each value\n",
    "# rename the columns to match the df_merged datafame so we can more easily concat them together\n",
    "sd_df=pd.DataFrame(sd).T\n",
    "sd_df.columns = mycols\n",
    "sd_df"
   ]
  },
  {
   "cell_type": "code",
   "execution_count": 50,
   "metadata": {},
   "outputs": [
    {
     "data": {
      "text/plain": [
       "State                object\n",
       "sat_participation    object\n",
       "sat_rw               object\n",
       "sat_math             object\n",
       "sat_total            object\n",
       "act_participation    object\n",
       "act_english          object\n",
       "act_math             object\n",
       "act_reading          object\n",
       "act_science          object\n",
       "act_composite        object\n",
       "dtype: object"
      ]
     },
     "execution_count": 50,
     "metadata": {},
     "output_type": "execute_result"
    }
   ],
   "source": [
    "# potential issue -- these columns are all object/string types and need to be figured before merging\n",
    "sd_df.dtypes"
   ]
  },
  {
   "cell_type": "code",
   "execution_count": 51,
   "metadata": {},
   "outputs": [],
   "source": [
    "# loop through all columns expect the first, State, and force to Numeric\n",
    "for col in sd_df.columns[1:]:\n",
    "    sd_df[col]=pd.to_numeric(sd_df[col],errors='coerce')"
   ]
  },
  {
   "cell_type": "code",
   "execution_count": 52,
   "metadata": {},
   "outputs": [
    {
     "data": {
      "text/plain": [
       "State                 object\n",
       "sat_participation    float64\n",
       "sat_rw               float64\n",
       "sat_math             float64\n",
       "sat_total            float64\n",
       "act_participation    float64\n",
       "act_english          float64\n",
       "act_math             float64\n",
       "act_reading          float64\n",
       "act_science          float64\n",
       "act_composite        float64\n",
       "dtype: object"
      ]
     },
     "execution_count": 52,
     "metadata": {},
     "output_type": "execute_result"
    }
   ],
   "source": [
    "# check dtypes now and confirm they look better... \n",
    "sd_df.dtypes"
   ]
  },
  {
   "cell_type": "code",
   "execution_count": 53,
   "metadata": {},
   "outputs": [
    {
     "data": {
      "text/html": [
       "<div>\n",
       "<style scoped>\n",
       "    .dataframe tbody tr th:only-of-type {\n",
       "        vertical-align: middle;\n",
       "    }\n",
       "\n",
       "    .dataframe tbody tr th {\n",
       "        vertical-align: top;\n",
       "    }\n",
       "\n",
       "    .dataframe thead th {\n",
       "        text-align: right;\n",
       "    }\n",
       "</style>\n",
       "<table border=\"1\" class=\"dataframe\">\n",
       "  <thead>\n",
       "    <tr style=\"text-align: right;\">\n",
       "      <th></th>\n",
       "      <th>State</th>\n",
       "      <th>sat_participation</th>\n",
       "      <th>sat_rw</th>\n",
       "      <th>sat_math</th>\n",
       "      <th>sat_total</th>\n",
       "      <th>act_participation</th>\n",
       "      <th>act_english</th>\n",
       "      <th>act_math</th>\n",
       "      <th>act_reading</th>\n",
       "      <th>act_science</th>\n",
       "      <th>act_composite</th>\n",
       "    </tr>\n",
       "  </thead>\n",
       "  <tbody>\n",
       "    <tr>\n",
       "      <th>47</th>\n",
       "      <td>Washington</td>\n",
       "      <td>64.000000</td>\n",
       "      <td>541.00000</td>\n",
       "      <td>534.000000</td>\n",
       "      <td>1075.000000</td>\n",
       "      <td>29.000000</td>\n",
       "      <td>20.900000</td>\n",
       "      <td>21.900000</td>\n",
       "      <td>22.100000</td>\n",
       "      <td>22.000000</td>\n",
       "      <td>21.900000</td>\n",
       "    </tr>\n",
       "    <tr>\n",
       "      <th>48</th>\n",
       "      <td>West Virginia</td>\n",
       "      <td>14.000000</td>\n",
       "      <td>558.00000</td>\n",
       "      <td>528.000000</td>\n",
       "      <td>1086.000000</td>\n",
       "      <td>69.000000</td>\n",
       "      <td>20.000000</td>\n",
       "      <td>19.400000</td>\n",
       "      <td>21.200000</td>\n",
       "      <td>20.500000</td>\n",
       "      <td>20.400000</td>\n",
       "    </tr>\n",
       "    <tr>\n",
       "      <th>49</th>\n",
       "      <td>Wisconsin</td>\n",
       "      <td>3.000000</td>\n",
       "      <td>642.00000</td>\n",
       "      <td>649.000000</td>\n",
       "      <td>1291.000000</td>\n",
       "      <td>100.000000</td>\n",
       "      <td>19.700000</td>\n",
       "      <td>20.400000</td>\n",
       "      <td>20.600000</td>\n",
       "      <td>20.900000</td>\n",
       "      <td>20.500000</td>\n",
       "    </tr>\n",
       "    <tr>\n",
       "      <th>50</th>\n",
       "      <td>Wyoming</td>\n",
       "      <td>3.000000</td>\n",
       "      <td>626.00000</td>\n",
       "      <td>604.000000</td>\n",
       "      <td>1230.000000</td>\n",
       "      <td>100.000000</td>\n",
       "      <td>19.400000</td>\n",
       "      <td>19.800000</td>\n",
       "      <td>20.800000</td>\n",
       "      <td>20.600000</td>\n",
       "      <td>20.200000</td>\n",
       "    </tr>\n",
       "    <tr>\n",
       "      <th>0</th>\n",
       "      <td>StdDev</td>\n",
       "      <td>34.929071</td>\n",
       "      <td>45.21697</td>\n",
       "      <td>46.657134</td>\n",
       "      <td>91.583511</td>\n",
       "      <td>31.824176</td>\n",
       "      <td>2.330488</td>\n",
       "      <td>1.962462</td>\n",
       "      <td>2.046903</td>\n",
       "      <td>1.736117</td>\n",
       "      <td>2.000786</td>\n",
       "    </tr>\n",
       "  </tbody>\n",
       "</table>\n",
       "</div>"
      ],
      "text/plain": [
       "            State  sat_participation     sat_rw    sat_math    sat_total  \\\n",
       "47     Washington          64.000000  541.00000  534.000000  1075.000000   \n",
       "48  West Virginia          14.000000  558.00000  528.000000  1086.000000   \n",
       "49      Wisconsin           3.000000  642.00000  649.000000  1291.000000   \n",
       "50        Wyoming           3.000000  626.00000  604.000000  1230.000000   \n",
       "0          StdDev          34.929071   45.21697   46.657134    91.583511   \n",
       "\n",
       "    act_participation  act_english   act_math  act_reading  act_science  \\\n",
       "47          29.000000    20.900000  21.900000    22.100000    22.000000   \n",
       "48          69.000000    20.000000  19.400000    21.200000    20.500000   \n",
       "49         100.000000    19.700000  20.400000    20.600000    20.900000   \n",
       "50         100.000000    19.400000  19.800000    20.800000    20.600000   \n",
       "0           31.824176     2.330488   1.962462     2.046903     1.736117   \n",
       "\n",
       "    act_composite  \n",
       "47      21.900000  \n",
       "48      20.400000  \n",
       "49      20.500000  \n",
       "50      20.200000  \n",
       "0        2.000786  "
      ]
     },
     "execution_count": 53,
     "metadata": {},
     "output_type": "execute_result"
    }
   ],
   "source": [
    "# now add the standrd deviations as row \n",
    "\n",
    "## BUT this is messing up our plots to follow so am just making a copy of hte data set to prove that this can be done\n",
    "\n",
    "df_merged_new=pd.concat([df_merged,sd_df])\n",
    "df_merged_new.tail()"
   ]
  },
  {
   "cell_type": "code",
   "execution_count": 54,
   "metadata": {},
   "outputs": [
    {
     "data": {
      "text/plain": [
       "State                 object\n",
       "sat_participation    float64\n",
       "sat_rw               float64\n",
       "sat_math             float64\n",
       "sat_total            float64\n",
       "act_participation    float64\n",
       "act_english          float64\n",
       "act_math             float64\n",
       "act_reading          float64\n",
       "act_science          float64\n",
       "act_composite        float64\n",
       "dtype: object"
      ]
     },
     "execution_count": 54,
     "metadata": {},
     "output_type": "execute_result"
    }
   ],
   "source": [
    "# and check our dtypes\n",
    "df_merged_new.dtypes"
   ]
  },
  {
   "cell_type": "markdown",
   "metadata": {},
   "source": [
    "##### 14. Sort the dataframe by the values in a numeric column (e.g. observations descending by SAT participation rate)"
   ]
  },
  {
   "cell_type": "code",
   "execution_count": 55,
   "metadata": {},
   "outputs": [
    {
     "data": {
      "text/html": [
       "<div>\n",
       "<style scoped>\n",
       "    .dataframe tbody tr th:only-of-type {\n",
       "        vertical-align: middle;\n",
       "    }\n",
       "\n",
       "    .dataframe tbody tr th {\n",
       "        vertical-align: top;\n",
       "    }\n",
       "\n",
       "    .dataframe thead th {\n",
       "        text-align: right;\n",
       "    }\n",
       "</style>\n",
       "<table border=\"1\" class=\"dataframe\">\n",
       "  <thead>\n",
       "    <tr style=\"text-align: right;\">\n",
       "      <th></th>\n",
       "      <th>State</th>\n",
       "      <th>sat_participation</th>\n",
       "      <th>sat_rw</th>\n",
       "      <th>sat_math</th>\n",
       "      <th>sat_total</th>\n",
       "      <th>act_participation</th>\n",
       "      <th>act_english</th>\n",
       "      <th>act_math</th>\n",
       "      <th>act_reading</th>\n",
       "      <th>act_science</th>\n",
       "      <th>act_composite</th>\n",
       "    </tr>\n",
       "  </thead>\n",
       "  <tbody>\n",
       "    <tr>\n",
       "      <th>8</th>\n",
       "      <td>District of Columbia</td>\n",
       "      <td>100.0</td>\n",
       "      <td>482</td>\n",
       "      <td>468</td>\n",
       "      <td>950</td>\n",
       "      <td>32.0</td>\n",
       "      <td>24.4</td>\n",
       "      <td>23.5</td>\n",
       "      <td>24.9</td>\n",
       "      <td>23.5</td>\n",
       "      <td>24.2</td>\n",
       "    </tr>\n",
       "    <tr>\n",
       "      <th>22</th>\n",
       "      <td>Michigan</td>\n",
       "      <td>100.0</td>\n",
       "      <td>509</td>\n",
       "      <td>495</td>\n",
       "      <td>1005</td>\n",
       "      <td>29.0</td>\n",
       "      <td>24.1</td>\n",
       "      <td>23.7</td>\n",
       "      <td>24.5</td>\n",
       "      <td>23.8</td>\n",
       "      <td>24.1</td>\n",
       "    </tr>\n",
       "    <tr>\n",
       "      <th>6</th>\n",
       "      <td>Connecticut</td>\n",
       "      <td>100.0</td>\n",
       "      <td>530</td>\n",
       "      <td>512</td>\n",
       "      <td>1041</td>\n",
       "      <td>31.0</td>\n",
       "      <td>25.5</td>\n",
       "      <td>24.6</td>\n",
       "      <td>25.6</td>\n",
       "      <td>24.6</td>\n",
       "      <td>25.2</td>\n",
       "    </tr>\n",
       "    <tr>\n",
       "      <th>7</th>\n",
       "      <td>Delaware</td>\n",
       "      <td>100.0</td>\n",
       "      <td>503</td>\n",
       "      <td>492</td>\n",
       "      <td>996</td>\n",
       "      <td>18.0</td>\n",
       "      <td>24.1</td>\n",
       "      <td>23.4</td>\n",
       "      <td>24.8</td>\n",
       "      <td>23.6</td>\n",
       "      <td>24.1</td>\n",
       "    </tr>\n",
       "    <tr>\n",
       "      <th>29</th>\n",
       "      <td>New Hampshire</td>\n",
       "      <td>96.0</td>\n",
       "      <td>532</td>\n",
       "      <td>520</td>\n",
       "      <td>1052</td>\n",
       "      <td>18.0</td>\n",
       "      <td>25.4</td>\n",
       "      <td>25.1</td>\n",
       "      <td>26.0</td>\n",
       "      <td>24.9</td>\n",
       "      <td>25.5</td>\n",
       "    </tr>\n",
       "  </tbody>\n",
       "</table>\n",
       "</div>"
      ],
      "text/plain": [
       "                   State  sat_participation  sat_rw  sat_math  sat_total  \\\n",
       "8   District of Columbia              100.0     482       468        950   \n",
       "22              Michigan              100.0     509       495       1005   \n",
       "6            Connecticut              100.0     530       512       1041   \n",
       "7               Delaware              100.0     503       492        996   \n",
       "29         New Hampshire               96.0     532       520       1052   \n",
       "\n",
       "    act_participation  act_english  act_math  act_reading  act_science  \\\n",
       "8                32.0         24.4      23.5         24.9         23.5   \n",
       "22               29.0         24.1      23.7         24.5         23.8   \n",
       "6                31.0         25.5      24.6         25.6         24.6   \n",
       "7                18.0         24.1      23.4         24.8         23.6   \n",
       "29               18.0         25.4      25.1         26.0         24.9   \n",
       "\n",
       "    act_composite  \n",
       "8            24.2  \n",
       "22           24.1  \n",
       "6            25.2  \n",
       "7            24.1  \n",
       "29           25.5  "
      ]
     },
     "execution_count": 55,
     "metadata": {},
     "output_type": "execute_result"
    }
   ],
   "source": [
    "# sort dataframe by SAT particattion scores, descending\n",
    "df_merged.sort_values(by='sat_participation', ascending =False, inplace=True)\n",
    "df_merged.head()"
   ]
  },
  {
   "cell_type": "markdown",
   "metadata": {},
   "source": [
    "##### 15. Use a boolean filter to display only observations with a score above a certain threshold (e.g. only states with a participation rate above 50%)"
   ]
  },
  {
   "cell_type": "code",
   "execution_count": 56,
   "metadata": {},
   "outputs": [
    {
     "data": {
      "text/html": [
       "<div>\n",
       "<style scoped>\n",
       "    .dataframe tbody tr th:only-of-type {\n",
       "        vertical-align: middle;\n",
       "    }\n",
       "\n",
       "    .dataframe tbody tr th {\n",
       "        vertical-align: top;\n",
       "    }\n",
       "\n",
       "    .dataframe thead th {\n",
       "        text-align: right;\n",
       "    }\n",
       "</style>\n",
       "<table border=\"1\" class=\"dataframe\">\n",
       "  <thead>\n",
       "    <tr style=\"text-align: right;\">\n",
       "      <th></th>\n",
       "      <th>State</th>\n",
       "      <th>sat_participation</th>\n",
       "      <th>sat_rw</th>\n",
       "      <th>sat_math</th>\n",
       "      <th>sat_total</th>\n",
       "      <th>act_participation</th>\n",
       "      <th>act_english</th>\n",
       "      <th>act_math</th>\n",
       "      <th>act_reading</th>\n",
       "      <th>act_science</th>\n",
       "      <th>act_composite</th>\n",
       "    </tr>\n",
       "  </thead>\n",
       "  <tbody>\n",
       "    <tr>\n",
       "      <th>9</th>\n",
       "      <td>Florida</td>\n",
       "      <td>83.0</td>\n",
       "      <td>520</td>\n",
       "      <td>497</td>\n",
       "      <td>1017</td>\n",
       "      <td>73.0</td>\n",
       "      <td>19.0</td>\n",
       "      <td>19.4</td>\n",
       "      <td>21.0</td>\n",
       "      <td>19.4</td>\n",
       "      <td>19.8</td>\n",
       "    </tr>\n",
       "    <tr>\n",
       "      <th>10</th>\n",
       "      <td>Georgia</td>\n",
       "      <td>61.0</td>\n",
       "      <td>535</td>\n",
       "      <td>515</td>\n",
       "      <td>1050</td>\n",
       "      <td>55.0</td>\n",
       "      <td>21.0</td>\n",
       "      <td>20.9</td>\n",
       "      <td>22.0</td>\n",
       "      <td>21.3</td>\n",
       "      <td>21.4</td>\n",
       "    </tr>\n",
       "    <tr>\n",
       "      <th>11</th>\n",
       "      <td>Hawaii</td>\n",
       "      <td>55.0</td>\n",
       "      <td>544</td>\n",
       "      <td>541</td>\n",
       "      <td>1085</td>\n",
       "      <td>90.0</td>\n",
       "      <td>17.8</td>\n",
       "      <td>19.2</td>\n",
       "      <td>19.2</td>\n",
       "      <td>19.3</td>\n",
       "      <td>19.0</td>\n",
       "    </tr>\n",
       "  </tbody>\n",
       "</table>\n",
       "</div>"
      ],
      "text/plain": [
       "      State  sat_participation  sat_rw  sat_math  sat_total  \\\n",
       "9   Florida               83.0     520       497       1017   \n",
       "10  Georgia               61.0     535       515       1050   \n",
       "11   Hawaii               55.0     544       541       1085   \n",
       "\n",
       "    act_participation  act_english  act_math  act_reading  act_science  \\\n",
       "9                73.0         19.0      19.4         21.0         19.4   \n",
       "10               55.0         21.0      20.9         22.0         21.3   \n",
       "11               90.0         17.8      19.2         19.2         19.3   \n",
       "\n",
       "    act_composite  \n",
       "9            19.8  \n",
       "10           21.4  \n",
       "11           19.0  "
      ]
     },
     "execution_count": 56,
     "metadata": {},
     "output_type": "execute_result"
    }
   ],
   "source": [
    "# filter for states where participation in both tests is above 50%\n",
    "df_merged[(df_merged['sat_participation']> 50) & (df_merged['act_participation'] > 50)]"
   ]
  },
  {
   "cell_type": "markdown",
   "metadata": {
    "collapsed": true
   },
   "source": [
    "##### 16. Using MatPlotLib and PyPlot, plot the distribution of the Rate columns for both SAT and ACT using histograms. (You should have two histograms. You might find [this link](https://matplotlib.org/users/pyplot_tutorial.html#working-with-multiple-figures-and-axes) helpful in organizing one plot above the other.) "
   ]
  },
  {
   "cell_type": "code",
   "execution_count": 57,
   "metadata": {},
   "outputs": [
    {
     "data": {
      "image/png": "[encoded data removed]",
      "text/plain": [
       "<Figure size 360x360 with 2 Axes>"
      ]
     },
     "metadata": {
      "needs_background": "light"
     },
     "output_type": "display_data"
    }
   ],
   "source": [
    "\n",
    "fig, ax = plt.subplots(nrows=2, ncols=1,figsize=(5,5),sharex=True, sharey=True)\n",
    "ax[0].hist(df_merged['sat_participation'],bins=10, label='SAT Participation',color='#00A5CF')\n",
    "ax[0].set_title(\"SAT\")\n",
    "ax[1].hist(df_merged['act_participation'], bins=10, label='ACT Participation')\n",
    "ax[1].set_title(\"ACT\")\n",
    "ax[1].set(xlabel='% Participation', ylabel='# States')\n",
    "\n",
    "fig.suptitle('ACT Test has a higher average participation rate', ha='center',color = 'grey',fontsize=20,va='top') \n",
    "plt.show()"
   ]
  },
  {
   "cell_type": "code",
   "execution_count": 58,
   "metadata": {},
   "outputs": [
    {
     "data": {
      "application/javascript": [
       "var spec = {\"config\": {\"view\": {\"width\": 400, \"height\": 300}}, \"data\": {\"name\": \"data-ec5a599136aa2b115db7dd4257aa23be\"}, \"mark\": {\"type\": \"area\", \"interpolate\": \"step\", \"opacity\": 0.3}, \"encoding\": {\"color\": {\"type\": \"nominal\", \"field\": \"test\", \"scale\": {\"scheme\": \"set2\"}}, \"x\": {\"type\": \"quantitative\", \"bin\": {\"maxbins\": 10}, \"field\": \"rate\"}, \"y\": {\"type\": \"quantitative\", \"aggregate\": \"count\", \"stack\": null}}, \"$schema\": \"https://vega.github.io/schema/vega-lite/v2.6.0.json\", \"datasets\": {\"data-ec5a599136aa2b115db7dd4257aa23be\": [{\"test\": \"sat_participation\", \"rate\": 100.0}, {\"test\": \"sat_participation\", \"rate\": 100.0}, {\"test\": \"sat_participation\", \"rate\": 100.0}, {\"test\": \"sat_participation\", \"rate\": 100.0}, {\"test\": \"sat_participation\", \"rate\": 96.0}, {\"test\": \"sat_participation\", \"rate\": 95.0}, {\"test\": \"sat_participation\", \"rate\": 93.0}, {\"test\": \"sat_participation\", \"rate\": 83.0}, {\"test\": \"sat_participation\", \"rate\": 76.0}, {\"test\": \"sat_participation\", \"rate\": 71.0}, {\"test\": \"sat_participation\", \"rate\": 70.0}, {\"test\": \"sat_participation\", \"rate\": 69.0}, {\"test\": \"sat_participation\", \"rate\": 67.0}, {\"test\": \"sat_participation\", \"rate\": 65.0}, {\"test\": \"sat_participation\", \"rate\": 65.0}, {\"test\": \"sat_participation\", \"rate\": 64.0}, {\"test\": \"sat_participation\", \"rate\": 63.0}, {\"test\": \"sat_participation\", \"rate\": 62.0}, {\"test\": \"sat_participation\", \"rate\": 61.0}, {\"test\": \"sat_participation\", \"rate\": 60.0}, {\"test\": \"sat_participation\", \"rate\": 55.0}, {\"test\": \"sat_participation\", \"rate\": 53.0}, {\"test\": \"sat_participation\", \"rate\": 50.0}, {\"test\": \"sat_participation\", \"rate\": 49.0}, {\"test\": \"sat_participation\", \"rate\": 43.0}, {\"test\": \"sat_participation\", \"rate\": 38.0}, {\"test\": \"sat_participation\", \"rate\": 30.0}, {\"test\": \"sat_participation\", \"rate\": 26.0}, {\"test\": \"sat_participation\", \"rate\": 14.0}, {\"test\": \"sat_participation\", \"rate\": 12.0}, {\"test\": \"sat_participation\", \"rate\": 11.0}, {\"test\": \"sat_participation\", \"rate\": 11.0}, {\"test\": \"sat_participation\", \"rate\": 10.0}, {\"test\": \"sat_participation\", \"rate\": 9.0}, {\"test\": \"sat_participation\", \"rate\": 7.0}, {\"test\": \"sat_participation\", \"rate\": 5.0}, {\"test\": \"sat_participation\", \"rate\": 5.0}, {\"test\": \"sat_participation\", \"rate\": 4.0}, {\"test\": \"sat_participation\", \"rate\": 4.0}, {\"test\": \"sat_participation\", \"rate\": 4.0}, {\"test\": \"sat_participation\", \"rate\": 3.0}, {\"test\": \"sat_participation\", \"rate\": 3.0}, {\"test\": \"sat_participation\", \"rate\": 3.0}, {\"test\": \"sat_participation\", \"rate\": 3.0}, {\"test\": \"sat_participation\", \"rate\": 3.0}, {\"test\": \"sat_participation\", \"rate\": 3.0}, {\"test\": \"sat_participation\", \"rate\": 3.0}, {\"test\": \"sat_participation\", \"rate\": 3.0}, {\"test\": \"sat_participation\", \"rate\": 2.0}, {\"test\": \"sat_participation\", \"rate\": 2.0}, {\"test\": \"sat_participation\", \"rate\": 2.0}, {\"test\": \"act_participation\", \"rate\": 32.0}, {\"test\": \"act_participation\", \"rate\": 29.0}, {\"test\": \"act_participation\", \"rate\": 31.0}, {\"test\": \"act_participation\", \"rate\": 18.0}, {\"test\": \"act_participation\", \"rate\": 18.0}, {\"test\": \"act_participation\", \"rate\": 8.0}, {\"test\": \"act_participation\", \"rate\": 38.0}, {\"test\": \"act_participation\", \"rate\": 73.0}, {\"test\": \"act_participation\", \"rate\": 29.0}, {\"test\": \"act_participation\", \"rate\": 21.0}, {\"test\": \"act_participation\", \"rate\": 34.0}, {\"test\": \"act_participation\", \"rate\": 28.0}, {\"test\": \"act_participation\", \"rate\": 31.0}, {\"test\": \"act_participation\", \"rate\": 29.0}, {\"test\": \"act_participation\", \"rate\": 23.0}, {\"test\": \"act_participation\", \"rate\": 29.0}, {\"test\": \"act_participation\", \"rate\": 35.0}, {\"test\": \"act_participation\", \"rate\": 45.0}, {\"test\": \"act_participation\", \"rate\": 55.0}, {\"test\": \"act_participation\", \"rate\": 29.0}, {\"test\": \"act_participation\", \"rate\": 90.0}, {\"test\": \"act_participation\", \"rate\": 31.0}, {\"test\": \"act_participation\", \"rate\": 100.0}, {\"test\": \"act_participation\", \"rate\": 100.0}, {\"test\": \"act_participation\", \"rate\": 40.0}, {\"test\": \"act_participation\", \"rate\": 65.0}, {\"test\": \"act_participation\", \"rate\": 62.0}, {\"test\": \"act_participation\", \"rate\": 100.0}, {\"test\": \"act_participation\", \"rate\": 69.0}, {\"test\": \"act_participation\", \"rate\": 75.0}, {\"test\": \"act_participation\", \"rate\": 100.0}, {\"test\": \"act_participation\", \"rate\": 66.0}, {\"test\": \"act_participation\", \"rate\": 100.0}, {\"test\": \"act_participation\", \"rate\": 93.0}, {\"test\": \"act_participation\", \"rate\": 100.0}, {\"test\": \"act_participation\", \"rate\": 100.0}, {\"test\": \"act_participation\", \"rate\": 100.0}, {\"test\": \"act_participation\", \"rate\": 100.0}, {\"test\": \"act_participation\", \"rate\": 73.0}, {\"test\": \"act_participation\", \"rate\": 100.0}, {\"test\": \"act_participation\", \"rate\": 100.0}, {\"test\": \"act_participation\", \"rate\": 100.0}, {\"test\": \"act_participation\", \"rate\": 100.0}, {\"test\": \"act_participation\", \"rate\": 80.0}, {\"test\": \"act_participation\", \"rate\": 84.0}, {\"test\": \"act_participation\", \"rate\": 100.0}, {\"test\": \"act_participation\", \"rate\": 100.0}, {\"test\": \"act_participation\", \"rate\": 100.0}, {\"test\": \"act_participation\", \"rate\": 98.0}, {\"test\": \"act_participation\", \"rate\": 100.0}, {\"test\": \"act_participation\", \"rate\": 67.0}]}};\n",
       "var opt = {};\n",
       "var type = \"vega-lite\";\n",
       "var id = \"eabf4017-6fd1-4036-9d5b-ee3521ed25dc\";\n",
       "\n",
       "var output_area = this;\n",
       "\n",
       "require([\"nbextensions/jupyter-vega/index\"], function(vega) {\n",
       "  var target = document.createElement(\"div\");\n",
       "  target.id = id;\n",
       "  target.className = \"vega-embed\";\n",
       "\n",
       "  var style = document.createElement(\"style\");\n",
       "  style.textContent = [\n",
       "    \".vega-embed .error p {\",\n",
       "    \"  color: firebrick;\",\n",
       "    \"  font-size: 14px;\",\n",
       "    \"}\",\n",
       "  ].join(\"\\\\n\");\n",
       "\n",
       "  // element is a jQuery wrapped DOM element inside the output area\n",
       "  // see http://ipython.readthedocs.io/en/stable/api/generated/\\\n",
       "  // IPython.display.html#IPython.display.Javascript.__init__\n",
       "  element[0].appendChild(target);\n",
       "  element[0].appendChild(style);\n",
       "\n",
       "  vega.render(\"#\" + id, spec, type, opt, output_area);\n",
       "}, function (err) {\n",
       "  if (err.requireType !== \"scripterror\") {\n",
       "    throw(err);\n",
       "  }\n",
       "});\n"
      ],
      "text/plain": [
       "<vega.vegalite.VegaLite at 0x25dcc8a1ef0>"
      ]
     },
     "metadata": {
      "jupyter-vega": "#eabf4017-6fd1-4036-9d5b-ee3521ed25dc"
     },
     "output_type": "display_data"
    },
    {
     "data": {
      "text/plain": []
     },
     "execution_count": 58,
     "metadata": {},
     "output_type": "execute_result"
    },
    {
     "data": {
      "image/png": "[encoded data removed]"
     },
     "metadata": {
      "jupyter-vega": "#eabf4017-6fd1-4036-9d5b-ee3521ed25dc"
     },
     "output_type": "display_data"
    }
   ],
   "source": [
    "# Try repeating above as an Altair Layered Histogram\n",
    "\n",
    "dftmp = df_merged[['sat_participation','act_participation']].reindex()\n",
    "# reformulate dataframe into one column that contains either act_participation or sat_participation (test)\n",
    "# and one that contains the rate\n",
    "dftmp = pd.melt(dftmp,id_vars=dftmp.index.name,\n",
    "             value_vars=dftmp.columns,var_name='test', value_name='rate')\n",
    "\n",
    "alt.Chart(dftmp).mark_area(\n",
    "    opacity=0.3,\n",
    "    interpolate='step'\n",
    ").encode(\n",
    "    alt.X('rate', bin=alt.Bin(maxbins=10)),\n",
    "    alt.Y('count()', stack=None),\n",
    "    alt.Color(\n",
    "        'test',\n",
    "        #scale=alt.Scale(range=['#008000', '#ff0000'])\n",
    "        scale=alt.Scale(scheme='set2')\n",
    "    )\n",
    ")"
   ]
  },
  {
   "cell_type": "markdown",
   "metadata": {},
   "source": [
    "##### 17. Plot the Math(s) distributions from both data sets."
   ]
  },
  {
   "cell_type": "code",
   "execution_count": 59,
   "metadata": {},
   "outputs": [
    {
     "data": {
      "text/plain": [
       "Text(0.5,0.98,'Average SAT and ACT Math Scores')"
      ]
     },
     "execution_count": 59,
     "metadata": {},
     "output_type": "execute_result"
    },
    {
     "data": {
      "image/png": "[encoded data removed]",
      "text/plain": [
       "<Figure size 360x432 with 2 Axes>"
      ]
     },
     "metadata": {
      "needs_background": "light"
     },
     "output_type": "display_data"
    }
   ],
   "source": [
    "# we cannot share the X axis values between the two tests because they are on very different scales\n",
    "# SAT: 200-800, ACT: 1-36\n",
    "fig, ax = plt.subplots(nrows=2, ncols=1,figsize=(5,6),sharey=True )#,sharex=True)\n",
    "ax[0].hist(df_merged['sat_math'],bins=10, label='Avg SAT Math Score',color='r')\n",
    "ax[0].set_title(\"SAT\")\n",
    "ax[1].hist(df_merged['act_math'], bins=10,label='Average ACT Math Score')\n",
    "ax[1].set_title(\"ACT\")\n",
    "ax[1].set(xlabel='Avg Math Score', ylabel='Count')\n",
    "\n",
    "fig.suptitle('Average SAT and ACT Math Scores', ha='center',color = 'grey',fontsize=20,va='top')\n",
    "\n"
   ]
  },
  {
   "cell_type": "code",
   "execution_count": 60,
   "metadata": {},
   "outputs": [
    {
     "name": "stderr",
     "output_type": "stream",
     "text": [
      "C:\\ProgramData\\Anaconda3\\lib\\site-packages\\sklearn\\preprocessing\\data.py:323: DataConversionWarning: Data with input dtype int64, float64 were all converted to float64 by MinMaxScaler.\n",
      "  return self.partial_fit(X, y)\n"
     ]
    },
    {
     "data": {
      "text/plain": [
       "Text(0.5,0.98,'Average SAT and ACT Math Scores')"
      ]
     },
     "execution_count": 60,
     "metadata": {},
     "output_type": "execute_result"
    },
    {
     "data": {
      "image/png": "[encoded data removed]",
      "text/plain": [
       "<Figure size 360x360 with 2 Axes>"
      ]
     },
     "metadata": {
      "needs_background": "light"
     },
     "output_type": "display_data"
    }
   ],
   "source": [
    "# what if we standardize the two score sets?  actually doesn't seem to provide any better insights\n",
    "from sklearn.preprocessing import MinMaxScaler \n",
    "scaler = MinMaxScaler()\n",
    "\n",
    "df_scaled = pd.DataFrame(scaler.fit_transform(df_merged[['sat_math','act_math']]))\n",
    "df_scaled[0]\n",
    "fig, ax = plt.subplots(nrows=2, ncols=1,figsize=(5,5),sharey=True )#,sharex=True)\n",
    "ax[0].hist(df_scaled[0],bins=10, label='Avg SAT Math Score',color='r')\n",
    "ax[0].set_title(\"SAT\")\n",
    "ax[1].hist(df_scaled[1], bins=10,label='Average ACT Math Score')\n",
    "ax[1].set_title(\"ACT\")\n",
    "ax[1].set(xlabel='Avg Math Score', ylabel='Count')\n",
    "\n",
    "fig.suptitle('Average SAT and ACT Math Scores', ha='center',color = 'grey',fontsize=20,va='top')"
   ]
  },
  {
   "cell_type": "markdown",
   "metadata": {},
   "source": [
    "##### 18. Plot the Verbal distributions from both data sets."
   ]
  },
  {
   "cell_type": "code",
   "execution_count": 61,
   "metadata": {},
   "outputs": [
    {
     "data": {
      "text/plain": [
       "Text(0.5,0.98,'Average SAT and ACT Verbal Scores')"
      ]
     },
     "execution_count": 61,
     "metadata": {},
     "output_type": "execute_result"
    },
    {
     "data": {
      "image/png": "[encoded data removed]",
      "text/plain": [
       "<Figure size 360x360 with 2 Axes>"
      ]
     },
     "metadata": {
      "needs_background": "light"
     },
     "output_type": "display_data"
    }
   ],
   "source": [
    "# we cannot share the X axis values between the two tests because they are on very different scales\n",
    "# SAT: 200-800, ACT: 1-36\n",
    "fig, ax = plt.subplots(nrows=2, ncols=1,figsize=(5,5),sharey=True )#,sharex=True)\n",
    "ax[0].hist(df_merged['sat_rw'],label='Avg SAT Verbal Score',color='r')\n",
    "ax[0].set_title(\"SAT\")\n",
    "ax[1].hist(df_merged['act_reading'], label='Average ACT Reading Score')\n",
    "ax[1].set_title(\"ACT\")\n",
    "ax[1].set(xlabel='Avg Verbal Score', ylabel='Count')\n",
    "\n",
    "fig.suptitle('Average SAT and ACT Verbal Scores', ha='center',color = 'grey',fontsize=20,va='top') "
   ]
  },
  {
   "cell_type": "code",
   "execution_count": 62,
   "metadata": {},
   "outputs": [
    {
     "data": {
      "text/plain": [
       "Text(0.5,0.98,'Average SAT and ACT Total Scores')"
      ]
     },
     "execution_count": 62,
     "metadata": {},
     "output_type": "execute_result"
    },
    {
     "data": {
      "image/png": "[encoded data removed]",
      "text/plain": [
       "<Figure size 432x432 with 2 Axes>"
      ]
     },
     "metadata": {
      "needs_background": "light"
     },
     "output_type": "display_data"
    }
   ],
   "source": [
    "# plot Total / Composite scores too\n",
    "fig, ax = plt.subplots(nrows=2, ncols=1,figsize=(6,6),sharey=True )#,sharex=True)\n",
    "ax[0].hist(df_merged['sat_total'],bins=8, label='Avg SAT Total Score',color='r')\n",
    "ax[0].set_title(\"SAT Total\")\n",
    "ax[1].hist(df_merged['act_composite'],bins=8, label='Average ACT Composite Score')\n",
    "ax[1].set_title(\"ACT Total\")\n",
    "ax[1].set(xlabel='Avg Composite Score', ylabel='Count')\n",
    "\n",
    "fig.suptitle('Average SAT and ACT Total Scores', ha='center',color = 'grey',fontsize=20,va='top') "
   ]
  },
  {
   "cell_type": "code",
   "execution_count": 63,
   "metadata": {},
   "outputs": [
    {
     "data": {
      "text/plain": [
       "Text(0.5,0.98,'Average ACT English and Science Scores')"
      ]
     },
     "execution_count": 63,
     "metadata": {},
     "output_type": "execute_result"
    },
    {
     "data": {
      "image/png": "[encoded data removed]",
      "text/plain": [
       "<Figure size 360x432 with 2 Axes>"
      ]
     },
     "metadata": {
      "needs_background": "light"
     },
     "output_type": "display_data"
    }
   ],
   "source": [
    "# Also plot ACT English and science to complete the series... \n",
    "# bin size of 5 makes it easier to see since the scores are on such a small range anyway\n",
    "fig, ax = plt.subplots(nrows=2, ncols=1,figsize=(5,6),sharey=True )#,sharex=True)\n",
    "ax[0].hist(df_merged['act_english'],bins=5, label='Avg SAT English Score',color='r')\n",
    "ax[0].set_title(\"ACT English\")\n",
    "ax[1].hist(df_merged['act_science'], bins=5,label='Average ACT Science Score')\n",
    "ax[1].set_title(\"ACT Science\")\n",
    "ax[1].set(xlabel='Avg Science Score', ylabel='Count')\n",
    "\n",
    "fig.suptitle('Average ACT English and Science Scores', ha='center',color = 'grey',fontsize=20,va='top') "
   ]
  },
  {
   "cell_type": "markdown",
   "metadata": {},
   "source": [
    "##### 19. When we make assumptions about how data are distributed, what is the most common assumption?"
   ]
  },
  {
   "cell_type": "markdown",
   "metadata": {
    "collapsed": true
   },
   "source": [
    "We generally assume that the data is normally distributed"
   ]
  },
  {
   "cell_type": "markdown",
   "metadata": {},
   "source": [
    "##### 20. Does this assumption hold true for any of our columns? Which?"
   ]
  },
  {
   "cell_type": "markdown",
   "metadata": {},
   "source": [
    "* Participation rates for both tests are not normal -- they are both skewed\n",
    "* the same holds true for the math and verbal scores -- they are not normally distributed.  \n",
    "* THe SAT and ACT verbal scores appear to be double-peaked"
   ]
  },
  {
   "cell_type": "code",
   "execution_count": 64,
   "metadata": {},
   "outputs": [
    {
     "data": {
      "image/png": "[encoded data removed]",
      "text/plain": [
       "<Figure size 432x288 with 1 Axes>"
      ]
     },
     "metadata": {
      "needs_background": "light"
     },
     "output_type": "display_data"
    }
   ],
   "source": [
    "# q-q plot - another way to check for normality\n",
    "from statsmodels.graphics.gofplots import qqplot\n",
    "qqplot(df_merged['sat_participation'], line='s')\n",
    "plt.title('Q-Q plot showing SAT participation is not normal')\n",
    "plt.show()\n",
    "#deviates from line, therefore likely not normal"
   ]
  },
  {
   "cell_type": "markdown",
   "metadata": {},
   "source": [
    "##### 21. Plot some scatterplots examining relationships between all variables."
   ]
  },
  {
   "cell_type": "code",
   "execution_count": 65,
   "metadata": {
    "scrolled": true
   },
   "outputs": [
    {
     "data": {
      "image/png": "[encoded data removed]",
      "text/plain": [
       "<Figure size 432x288 with 1 Axes>"
      ]
     },
     "metadata": {
      "needs_background": "light"
     },
     "output_type": "display_data"
    }
   ],
   "source": [
    "plt.scatter(x=df_merged['sat_math'], y=df_merged[\"sat_rw\"])\n",
    "plt.title('SAT Math and Verbal scores show a positive linear relationship')\n",
    "plt.xlabel='Avg. SAT Math Score'\n",
    "plt.ylabel='Avg. SAT RW Score'\n",
    "plt.show()"
   ]
  },
  {
   "cell_type": "code",
   "execution_count": 66,
   "metadata": {},
   "outputs": [
    {
     "data": {
      "application/javascript": [
       "var spec = {\"config\": {\"view\": {\"width\": 400, \"height\": 300}}, \"data\": {\"name\": \"data-40827ca996d03ca09a4848d6d5252708\"}, \"mark\": \"point\", \"encoding\": {\"size\": {\"type\": \"quantitative\", \"field\": \"sat_participation\"}, \"tooltip\": {\"type\": \"nominal\", \"field\": \"State\"}, \"x\": {\"type\": \"quantitative\", \"axis\": {\"title\": \"Reading/Writing\"}, \"field\": \"sat_rw\", \"scale\": {\"domain\": [400, 700]}}, \"y\": {\"type\": \"quantitative\", \"axis\": {\"title\": \"Math\"}, \"field\": \"sat_math\", \"scale\": {\"domain\": [400, 700]}}}, \"height\": 500, \"title\": \"Lower SAT Participation rate = Higher Scores\", \"width\": 500, \"$schema\": \"https://vega.github.io/schema/vega-lite/v2.6.0.json\", \"datasets\": {\"data-40827ca996d03ca09a4848d6d5252708\": [{\"State\": \"District of Columbia\", \"sat_participation\": 100.0, \"sat_rw\": 482, \"sat_math\": 468, \"sat_total\": 950, \"act_participation\": 32.0, \"act_english\": 24.4, \"act_math\": 23.5, \"act_reading\": 24.9, \"act_science\": 23.5, \"act_composite\": 24.2}, {\"State\": \"Michigan\", \"sat_participation\": 100.0, \"sat_rw\": 509, \"sat_math\": 495, \"sat_total\": 1005, \"act_participation\": 29.0, \"act_english\": 24.1, \"act_math\": 23.7, \"act_reading\": 24.5, \"act_science\": 23.8, \"act_composite\": 24.1}, {\"State\": \"Connecticut\", \"sat_participation\": 100.0, \"sat_rw\": 530, \"sat_math\": 512, \"sat_total\": 1041, \"act_participation\": 31.0, \"act_english\": 25.5, \"act_math\": 24.6, \"act_reading\": 25.6, \"act_science\": 24.6, \"act_composite\": 25.2}, {\"State\": \"Delaware\", \"sat_participation\": 100.0, \"sat_rw\": 503, \"sat_math\": 492, \"sat_total\": 996, \"act_participation\": 18.0, \"act_english\": 24.1, \"act_math\": 23.4, \"act_reading\": 24.8, \"act_science\": 23.6, \"act_composite\": 24.1}, {\"State\": \"New Hampshire\", \"sat_participation\": 96.0, \"sat_rw\": 532, \"sat_math\": 520, \"sat_total\": 1052, \"act_participation\": 18.0, \"act_english\": 25.4, \"act_math\": 25.1, \"act_reading\": 26.0, \"act_science\": 24.9, \"act_composite\": 25.5}, {\"State\": \"Maine\", \"sat_participation\": 95.0, \"sat_rw\": 513, \"sat_math\": 499, \"sat_total\": 1012, \"act_participation\": 8.0, \"act_english\": 24.2, \"act_math\": 24.0, \"act_reading\": 24.8, \"act_science\": 23.7, \"act_composite\": 24.3}, {\"State\": \"Idaho\", \"sat_participation\": 93.0, \"sat_rw\": 513, \"sat_math\": 493, \"sat_total\": 1005, \"act_participation\": 38.0, \"act_english\": 21.9, \"act_math\": 21.8, \"act_reading\": 23.0, \"act_science\": 22.1, \"act_composite\": 22.3}, {\"State\": \"Florida\", \"sat_participation\": 83.0, \"sat_rw\": 520, \"sat_math\": 497, \"sat_total\": 1017, \"act_participation\": 73.0, \"act_english\": 19.0, \"act_math\": 19.4, \"act_reading\": 21.0, \"act_science\": 19.4, \"act_composite\": 19.8}, {\"State\": \"Massachusetts\", \"sat_participation\": 76.0, \"sat_rw\": 555, \"sat_math\": 551, \"sat_total\": 1107, \"act_participation\": 29.0, \"act_english\": 25.4, \"act_math\": 25.3, \"act_reading\": 25.9, \"act_science\": 24.7, \"act_composite\": 25.4}, {\"State\": \"Rhode Island\", \"sat_participation\": 71.0, \"sat_rw\": 539, \"sat_math\": 524, \"sat_total\": 1062, \"act_participation\": 21.0, \"act_english\": 24.0, \"act_math\": 23.3, \"act_reading\": 24.7, \"act_science\": 23.4, \"act_composite\": 24.0}, {\"State\": \"New Jersey\", \"sat_participation\": 70.0, \"sat_rw\": 530, \"sat_math\": 526, \"sat_total\": 1056, \"act_participation\": 34.0, \"act_english\": 23.8, \"act_math\": 23.8, \"act_reading\": 24.1, \"act_science\": 23.2, \"act_composite\": 23.9}, {\"State\": \"Maryland\", \"sat_participation\": 69.0, \"sat_rw\": 536, \"sat_math\": 524, \"sat_total\": 1060, \"act_participation\": 28.0, \"act_english\": 23.3, \"act_math\": 23.1, \"act_reading\": 24.2, \"act_science\": 23.8, \"act_composite\": 23.6}, {\"State\": \"New York\", \"sat_participation\": 67.0, \"sat_rw\": 528, \"sat_math\": 523, \"sat_total\": 1052, \"act_participation\": 31.0, \"act_english\": 23.8, \"act_math\": 24.0, \"act_reading\": 24.6, \"act_science\": 23.9, \"act_composite\": 24.2}, {\"State\": \"Virginia\", \"sat_participation\": 65.0, \"sat_rw\": 561, \"sat_math\": 541, \"sat_total\": 1102, \"act_participation\": 29.0, \"act_english\": 23.5, \"act_math\": 23.3, \"act_reading\": 24.6, \"act_science\": 23.5, \"act_composite\": 23.8}, {\"State\": \"Pennsylvania\", \"sat_participation\": 65.0, \"sat_rw\": 540, \"sat_math\": 531, \"sat_total\": 1071, \"act_participation\": 23.0, \"act_english\": 23.4, \"act_math\": 23.4, \"act_reading\": 24.2, \"act_science\": 23.3, \"act_composite\": 23.7}, {\"State\": \"Washington\", \"sat_participation\": 64.0, \"sat_rw\": 541, \"sat_math\": 534, \"sat_total\": 1075, \"act_participation\": 29.0, \"act_english\": 20.9, \"act_math\": 21.9, \"act_reading\": 22.1, \"act_science\": 22.0, \"act_composite\": 21.9}, {\"State\": \"Indiana\", \"sat_participation\": 63.0, \"sat_rw\": 542, \"sat_math\": 532, \"sat_total\": 1074, \"act_participation\": 35.0, \"act_english\": 22.0, \"act_math\": 22.4, \"act_reading\": 23.2, \"act_science\": 22.3, \"act_composite\": 22.6}, {\"State\": \"Texas\", \"sat_participation\": 62.0, \"sat_rw\": 513, \"sat_math\": 507, \"sat_total\": 1020, \"act_participation\": 45.0, \"act_english\": 19.5, \"act_math\": 20.7, \"act_reading\": 21.1, \"act_science\": 20.9, \"act_composite\": 20.7}, {\"State\": \"Georgia\", \"sat_participation\": 61.0, \"sat_rw\": 535, \"sat_math\": 515, \"sat_total\": 1050, \"act_participation\": 55.0, \"act_english\": 21.0, \"act_math\": 20.9, \"act_reading\": 22.0, \"act_science\": 21.3, \"act_composite\": 21.4}, {\"State\": \"Vermont\", \"sat_participation\": 60.0, \"sat_rw\": 562, \"sat_math\": 551, \"sat_total\": 1114, \"act_participation\": 29.0, \"act_english\": 23.3, \"act_math\": 23.1, \"act_reading\": 24.4, \"act_science\": 23.2, \"act_composite\": 23.6}, {\"State\": \"Hawaii\", \"sat_participation\": 55.0, \"sat_rw\": 544, \"sat_math\": 541, \"sat_total\": 1085, \"act_participation\": 90.0, \"act_english\": 17.8, \"act_math\": 19.2, \"act_reading\": 19.2, \"act_science\": 19.3, \"act_composite\": 19.0}, {\"State\": \"California\", \"sat_participation\": 53.0, \"sat_rw\": 531, \"sat_math\": 524, \"sat_total\": 1055, \"act_participation\": 31.0, \"act_english\": 22.5, \"act_math\": 22.7, \"act_reading\": 23.1, \"act_science\": 22.2, \"act_composite\": 22.8}, {\"State\": \"South Carolina\", \"sat_participation\": 50.0, \"sat_rw\": 543, \"sat_math\": 521, \"sat_total\": 1064, \"act_participation\": 100.0, \"act_english\": 17.5, \"act_math\": 18.6, \"act_reading\": 19.1, \"act_science\": 18.9, \"act_composite\": 18.7}, {\"State\": \"North Carolina\", \"sat_participation\": 49.0, \"sat_rw\": 546, \"sat_math\": 535, \"sat_total\": 1081, \"act_participation\": 100.0, \"act_english\": 17.8, \"act_math\": 19.3, \"act_reading\": 19.6, \"act_science\": 19.3, \"act_composite\": 19.1}, {\"State\": \"Oregon\", \"sat_participation\": 43.0, \"sat_rw\": 560, \"sat_math\": 548, \"sat_total\": 1108, \"act_participation\": 40.0, \"act_english\": 21.2, \"act_math\": 21.5, \"act_reading\": 22.4, \"act_science\": 21.7, \"act_composite\": 21.8}, {\"State\": \"Alaska\", \"sat_participation\": 38.0, \"sat_rw\": 547, \"sat_math\": 533, \"sat_total\": 1080, \"act_participation\": 65.0, \"act_english\": 18.7, \"act_math\": 19.8, \"act_reading\": 20.4, \"act_science\": 19.9, \"act_composite\": 19.8}, {\"State\": \"Arizona\", \"sat_participation\": 30.0, \"sat_rw\": 563, \"sat_math\": 553, \"sat_total\": 1116, \"act_participation\": 62.0, \"act_english\": 18.6, \"act_math\": 19.8, \"act_reading\": 20.1, \"act_science\": 19.8, \"act_composite\": 19.7}, {\"State\": \"Nevada\", \"sat_participation\": 26.0, \"sat_rw\": 563, \"sat_math\": 553, \"sat_total\": 1116, \"act_participation\": 100.0, \"act_english\": 16.3, \"act_math\": 18.0, \"act_reading\": 18.1, \"act_science\": 18.2, \"act_composite\": 17.8}, {\"State\": \"West Virginia\", \"sat_participation\": 14.0, \"sat_rw\": 558, \"sat_math\": 528, \"sat_total\": 1086, \"act_participation\": 69.0, \"act_english\": 20.0, \"act_math\": 19.4, \"act_reading\": 21.2, \"act_science\": 20.5, \"act_composite\": 20.4}, {\"State\": \"Ohio\", \"sat_participation\": 12.0, \"sat_rw\": 578, \"sat_math\": 570, \"sat_total\": 1149, \"act_participation\": 75.0, \"act_english\": 21.2, \"act_math\": 21.6, \"act_reading\": 22.5, \"act_science\": 22.0, \"act_composite\": 22.0}, {\"State\": \"Colorado\", \"sat_participation\": 11.0, \"sat_rw\": 606, \"sat_math\": 595, \"sat_total\": 1201, \"act_participation\": 100.0, \"act_english\": 20.1, \"act_math\": 20.3, \"act_reading\": 21.2, \"act_science\": 20.9, \"act_composite\": 20.8}, {\"State\": \"New Mexico\", \"sat_participation\": 11.0, \"sat_rw\": 577, \"sat_math\": 561, \"sat_total\": 1138, \"act_participation\": 66.0, \"act_english\": 18.6, \"act_math\": 19.4, \"act_reading\": 20.4, \"act_science\": 20.0, \"act_composite\": 19.7}, {\"State\": \"Montana\", \"sat_participation\": 10.0, \"sat_rw\": 605, \"sat_math\": 591, \"sat_total\": 1196, \"act_participation\": 100.0, \"act_english\": 19.0, \"act_math\": 20.2, \"act_reading\": 21.0, \"act_science\": 20.5, \"act_composite\": 20.3}, {\"State\": \"Illinois\", \"sat_participation\": 9.0, \"sat_rw\": 559, \"sat_math\": 556, \"sat_total\": 1115, \"act_participation\": 93.0, \"act_english\": 21.0, \"act_math\": 21.2, \"act_reading\": 21.6, \"act_science\": 21.3, \"act_composite\": 21.4}, {\"State\": \"Oklahoma\", \"sat_participation\": 7.0, \"sat_rw\": 530, \"sat_math\": 517, \"sat_total\": 1047, \"act_participation\": 100.0, \"act_english\": 18.5, \"act_math\": 18.8, \"act_reading\": 20.1, \"act_science\": 19.6, \"act_composite\": 19.4}, {\"State\": \"Alabama\", \"sat_participation\": 5.0, \"sat_rw\": 593, \"sat_math\": 572, \"sat_total\": 1165, \"act_participation\": 100.0, \"act_english\": 18.9, \"act_math\": 18.4, \"act_reading\": 19.7, \"act_science\": 19.4, \"act_composite\": 19.2}, {\"State\": \"Tennessee\", \"sat_participation\": 5.0, \"sat_rw\": 623, \"sat_math\": 604, \"sat_total\": 1228, \"act_participation\": 100.0, \"act_english\": 19.5, \"act_math\": 19.2, \"act_reading\": 20.1, \"act_science\": 19.9, \"act_composite\": 19.8}, {\"State\": \"Kentucky\", \"sat_participation\": 4.0, \"sat_rw\": 631, \"sat_math\": 616, \"sat_total\": 1247, \"act_participation\": 100.0, \"act_english\": 19.6, \"act_math\": 19.4, \"act_reading\": 20.5, \"act_science\": 20.1, \"act_composite\": 20.0}, {\"State\": \"Kansas\", \"sat_participation\": 4.0, \"sat_rw\": 632, \"sat_math\": 628, \"sat_total\": 1260, \"act_participation\": 73.0, \"act_english\": 21.1, \"act_math\": 21.3, \"act_reading\": 22.3, \"act_science\": 21.7, \"act_composite\": 21.7}, {\"State\": \"Louisiana\", \"sat_participation\": 4.0, \"sat_rw\": 611, \"sat_math\": 586, \"sat_total\": 1198, \"act_participation\": 100.0, \"act_english\": 19.4, \"act_math\": 18.8, \"act_reading\": 19.8, \"act_science\": 19.6, \"act_composite\": 19.5}, {\"State\": \"Utah\", \"sat_participation\": 3.0, \"sat_rw\": 624, \"sat_math\": 614, \"sat_total\": 1238, \"act_participation\": 100.0, \"act_english\": 19.5, \"act_math\": 19.9, \"act_reading\": 20.8, \"act_science\": 20.6, \"act_composite\": 20.3}, {\"State\": \"Wisconsin\", \"sat_participation\": 3.0, \"sat_rw\": 642, \"sat_math\": 649, \"sat_total\": 1291, \"act_participation\": 100.0, \"act_english\": 19.7, \"act_math\": 20.4, \"act_reading\": 20.6, \"act_science\": 20.9, \"act_composite\": 20.5}, {\"State\": \"Missouri\", \"sat_participation\": 3.0, \"sat_rw\": 640, \"sat_math\": 631, \"sat_total\": 1271, \"act_participation\": 100.0, \"act_english\": 19.8, \"act_math\": 19.9, \"act_reading\": 20.8, \"act_science\": 20.5, \"act_composite\": 20.4}, {\"State\": \"South Dakota\", \"sat_participation\": 3.0, \"sat_rw\": 612, \"sat_math\": 603, \"sat_total\": 1216, \"act_participation\": 80.0, \"act_english\": 20.7, \"act_math\": 21.5, \"act_reading\": 22.3, \"act_science\": 22.0, \"act_composite\": 21.8}, {\"State\": \"Nebraska\", \"sat_participation\": 3.0, \"sat_rw\": 629, \"sat_math\": 625, \"sat_total\": 1253, \"act_participation\": 84.0, \"act_english\": 20.9, \"act_math\": 20.9, \"act_reading\": 21.9, \"act_science\": 21.5, \"act_composite\": 21.4}, {\"State\": \"Minnesota\", \"sat_participation\": 3.0, \"sat_rw\": 644, \"sat_math\": 651, \"sat_total\": 1295, \"act_participation\": 100.0, \"act_english\": 20.4, \"act_math\": 21.5, \"act_reading\": 21.8, \"act_science\": 21.6, \"act_composite\": 21.5}, {\"State\": \"Arkansas\", \"sat_participation\": 3.0, \"sat_rw\": 614, \"sat_math\": 594, \"sat_total\": 1208, \"act_participation\": 100.0, \"act_english\": 18.9, \"act_math\": 19.0, \"act_reading\": 19.7, \"act_science\": 19.5, \"act_composite\": 19.4}, {\"State\": \"Wyoming\", \"sat_participation\": 3.0, \"sat_rw\": 626, \"sat_math\": 604, \"sat_total\": 1230, \"act_participation\": 100.0, \"act_english\": 19.4, \"act_math\": 19.8, \"act_reading\": 20.8, \"act_science\": 20.6, \"act_composite\": 20.2}, {\"State\": \"North Dakota\", \"sat_participation\": 2.0, \"sat_rw\": 635, \"sat_math\": 621, \"sat_total\": 1256, \"act_participation\": 98.0, \"act_english\": 19.0, \"act_math\": 20.4, \"act_reading\": 20.5, \"act_science\": 20.6, \"act_composite\": 20.3}, {\"State\": \"Mississippi\", \"sat_participation\": 2.0, \"sat_rw\": 634, \"sat_math\": 607, \"sat_total\": 1242, \"act_participation\": 100.0, \"act_english\": 18.2, \"act_math\": 18.1, \"act_reading\": 18.8, \"act_science\": 18.8, \"act_composite\": 18.6}, {\"State\": \"Iowa\", \"sat_participation\": 2.0, \"sat_rw\": 641, \"sat_math\": 635, \"sat_total\": 1275, \"act_participation\": 67.0, \"act_english\": 21.2, \"act_math\": 21.3, \"act_reading\": 22.6, \"act_science\": 22.1, \"act_composite\": 21.9}]}};\n",
       "var opt = {};\n",
       "var type = \"vega-lite\";\n",
       "var id = \"30f62d9d-cbdd-4d5d-84d2-c110c5f8f50e\";\n",
       "\n",
       "var output_area = this;\n",
       "\n",
       "require([\"nbextensions/jupyter-vega/index\"], function(vega) {\n",
       "  var target = document.createElement(\"div\");\n",
       "  target.id = id;\n",
       "  target.className = \"vega-embed\";\n",
       "\n",
       "  var style = document.createElement(\"style\");\n",
       "  style.textContent = [\n",
       "    \".vega-embed .error p {\",\n",
       "    \"  color: firebrick;\",\n",
       "    \"  font-size: 14px;\",\n",
       "    \"}\",\n",
       "  ].join(\"\\\\n\");\n",
       "\n",
       "  // element is a jQuery wrapped DOM element inside the output area\n",
       "  // see http://ipython.readthedocs.io/en/stable/api/generated/\\\n",
       "  // IPython.display.html#IPython.display.Javascript.__init__\n",
       "  element[0].appendChild(target);\n",
       "  element[0].appendChild(style);\n",
       "\n",
       "  vega.render(\"#\" + id, spec, type, opt, output_area);\n",
       "}, function (err) {\n",
       "  if (err.requireType !== \"scripterror\") {\n",
       "    throw(err);\n",
       "  }\n",
       "});\n"
      ],
      "text/plain": [
       "<vega.vegalite.VegaLite at 0x25dcd715e80>"
      ]
     },
     "metadata": {
      "jupyter-vega": "#30f62d9d-cbdd-4d5d-84d2-c110c5f8f50e"
     },
     "output_type": "display_data"
    },
    {
     "data": {
      "text/plain": []
     },
     "execution_count": 66,
     "metadata": {},
     "output_type": "execute_result"
    },
    {
     "data": {
      "image/png": "[encoded data removed]"
     },
     "metadata": {
      "jupyter-vega": "#30f62d9d-cbdd-4d5d-84d2-c110c5f8f50e"
     },
     "output_type": "display_data"
    }
   ],
   "source": [
    "# repeat above as an altair plot\n",
    "alt.Chart(df_merged).properties(\n",
    "    width=500,\n",
    "    height=500,\n",
    "    title='Lower SAT Participation rate = Higher Scores'\n",
    ").mark_point().encode(\n",
    "    y=alt.Y('sat_math',axis=alt.Axis(title='Math'),scale=alt.Scale(domain=(400, 700))),\n",
    "    x=alt.X('sat_rw', axis=alt.Axis(title='Reading/Writing'),scale=alt.Scale(domain=(400, 700))),\n",
    "    size='sat_participation',\n",
    "    tooltip='State'\n",
    ")"
   ]
  },
  {
   "cell_type": "code",
   "execution_count": 67,
   "metadata": {},
   "outputs": [
    {
     "data": {
      "image/png": "[encoded data removed]",
      "text/plain": [
       "<Figure size 432x288 with 1 Axes>"
      ]
     },
     "metadata": {
      "needs_background": "light"
     },
     "output_type": "display_data"
    },
    {
     "data": {
      "text/html": [
       "<div>\n",
       "<style scoped>\n",
       "    .dataframe tbody tr th:only-of-type {\n",
       "        vertical-align: middle;\n",
       "    }\n",
       "\n",
       "    .dataframe tbody tr th {\n",
       "        vertical-align: top;\n",
       "    }\n",
       "\n",
       "    .dataframe thead th {\n",
       "        text-align: right;\n",
       "    }\n",
       "</style>\n",
       "<table border=\"1\" class=\"dataframe\">\n",
       "  <thead>\n",
       "    <tr style=\"text-align: right;\">\n",
       "      <th></th>\n",
       "      <th>act_math</th>\n",
       "      <th>sat_math</th>\n",
       "    </tr>\n",
       "  </thead>\n",
       "  <tbody>\n",
       "    <tr>\n",
       "      <th>act_math</th>\n",
       "      <td>1.000000</td>\n",
       "      <td>-0.420456</td>\n",
       "    </tr>\n",
       "    <tr>\n",
       "      <th>sat_math</th>\n",
       "      <td>-0.420456</td>\n",
       "      <td>1.000000</td>\n",
       "    </tr>\n",
       "  </tbody>\n",
       "</table>\n",
       "</div>"
      ],
      "text/plain": [
       "          act_math  sat_math\n",
       "act_math  1.000000 -0.420456\n",
       "sat_math -0.420456  1.000000"
      ]
     },
     "execution_count": 67,
     "metadata": {},
     "output_type": "execute_result"
    }
   ],
   "source": [
    "# Compare SAT and ACT Math scores: Attempt 1\n",
    "\n",
    "plt.scatter(x=df_merged['sat_math'], y=df_merged[\"act_math\"])\n",
    "plt.title('ACT and SAT Math scores have a loose negative relationship')\n",
    "plt.xlabel='Avg. SAT Math Score'\n",
    "plt.ylabel='Avg. ACT Math Score'\n",
    "plt.show()\n",
    "\n",
    "df_merged[['act_math','sat_math']].corr()"
   ]
  },
  {
   "cell_type": "code",
   "execution_count": 68,
   "metadata": {},
   "outputs": [
    {
     "data": {
      "image/png": "[encoded data removed]",
      "text/plain": [
       "<Figure size 432x288 with 1 Axes>"
      ]
     },
     "metadata": {
      "needs_background": "light"
     },
     "output_type": "display_data"
    }
   ],
   "source": [
    "# Compare SAT and ACT Math scores: Attempt 2\n",
    "# what if we try comparing the scaled math scores from earlier? Again, makes no noticable difference\n",
    "\n",
    "plt.scatter(x=df_scaled[0], y=df_scaled[1])\n",
    "plt.title('ACT and SAT Math scores don\\'t have a strong relationship')\n",
    "plt.xlabel='Avg. SAT Math Score'\n",
    "plt.ylabel='Avg. ACT Math Score'\n",
    "plt.show()"
   ]
  },
  {
   "cell_type": "code",
   "execution_count": 69,
   "metadata": {},
   "outputs": [
    {
     "name": "stdout",
     "output_type": "stream",
     "text": [
      "15 states have SAT and ACT Participation rates above 30%\n"
     ]
    },
    {
     "data": {
      "image/png": "[encoded data removed]",
      "text/plain": [
       "<Figure size 432x288 with 1 Axes>"
      ]
     },
     "metadata": {
      "needs_background": "light"
     },
     "output_type": "display_data"
    },
    {
     "data": {
      "text/html": [
       "<div>\n",
       "<style scoped>\n",
       "    .dataframe tbody tr th:only-of-type {\n",
       "        vertical-align: middle;\n",
       "    }\n",
       "\n",
       "    .dataframe tbody tr th {\n",
       "        vertical-align: top;\n",
       "    }\n",
       "\n",
       "    .dataframe thead th {\n",
       "        text-align: right;\n",
       "    }\n",
       "</style>\n",
       "<table border=\"1\" class=\"dataframe\">\n",
       "  <thead>\n",
       "    <tr style=\"text-align: right;\">\n",
       "      <th></th>\n",
       "      <th>act_math</th>\n",
       "      <th>sat_math</th>\n",
       "    </tr>\n",
       "  </thead>\n",
       "  <tbody>\n",
       "    <tr>\n",
       "      <th>act_math</th>\n",
       "      <td>1.000000</td>\n",
       "      <td>-0.254083</td>\n",
       "    </tr>\n",
       "    <tr>\n",
       "      <th>sat_math</th>\n",
       "      <td>-0.254083</td>\n",
       "      <td>1.000000</td>\n",
       "    </tr>\n",
       "  </tbody>\n",
       "</table>\n",
       "</div>"
      ],
      "text/plain": [
       "          act_math  sat_math\n",
       "act_math  1.000000 -0.254083\n",
       "sat_math -0.254083  1.000000"
      ]
     },
     "execution_count": 69,
     "metadata": {},
     "output_type": "execute_result"
    }
   ],
   "source": [
    "# Compare SAT and ACT Math scores: Attempt 3\n",
    "# what if we compare Math scores for hte subset of states that have high participation rates in both tests? (rate > 30%)\n",
    "df_high_particip = df_merged[(df_merged['sat_participation'] > 30) & (df_merged['act_participation'] > 30)]\n",
    "print (f\"{len(df_high_particip)} states have SAT and ACT Participation rates above 30%\")\n",
    "plt.scatter(x=df_high_particip['sat_math'], y=df_high_particip[\"act_math\"])\n",
    "plt.title('ACT and SAT Math scores have a loose negative relationship,\\n even in States with partication rates in both tests above 30%')\n",
    "plt.xlabel='Avg. SAT Math Score'\n",
    "plt.ylabel='Avg. ACT Math Score'\n",
    "plt.show()\n",
    "df_high_particip[['act_math','sat_math']].corr()\n",
    "# no, it doesn't seem to have changed anything -- still a negative correlation"
   ]
  },
  {
   "cell_type": "code",
   "execution_count": 70,
   "metadata": {},
   "outputs": [
    {
     "name": "stdout",
     "output_type": "stream",
     "text": [
      "16 states have SAT and ACT Participation rates between 20 and 80%\n"
     ]
    },
    {
     "data": {
      "image/png": "[encoded data removed]",
      "text/plain": [
       "<Figure size 432x288 with 1 Axes>"
      ]
     },
     "metadata": {
      "needs_background": "light"
     },
     "output_type": "display_data"
    },
    {
     "data": {
      "text/html": [
       "<div>\n",
       "<style scoped>\n",
       "    .dataframe tbody tr th:only-of-type {\n",
       "        vertical-align: middle;\n",
       "    }\n",
       "\n",
       "    .dataframe tbody tr th {\n",
       "        vertical-align: top;\n",
       "    }\n",
       "\n",
       "    .dataframe thead th {\n",
       "        text-align: right;\n",
       "    }\n",
       "</style>\n",
       "<table border=\"1\" class=\"dataframe\">\n",
       "  <thead>\n",
       "    <tr style=\"text-align: right;\">\n",
       "      <th></th>\n",
       "      <th>act_math</th>\n",
       "      <th>sat_math</th>\n",
       "    </tr>\n",
       "  </thead>\n",
       "  <tbody>\n",
       "    <tr>\n",
       "      <th>act_math</th>\n",
       "      <td>1.000000</td>\n",
       "      <td>0.103939</td>\n",
       "    </tr>\n",
       "    <tr>\n",
       "      <th>sat_math</th>\n",
       "      <td>0.103939</td>\n",
       "      <td>1.000000</td>\n",
       "    </tr>\n",
       "  </tbody>\n",
       "</table>\n",
       "</div>"
      ],
      "text/plain": [
       "          act_math  sat_math\n",
       "act_math  1.000000  0.103939\n",
       "sat_math  0.103939  1.000000"
      ]
     },
     "execution_count": 70,
     "metadata": {},
     "output_type": "execute_result"
    }
   ],
   "source": [
    "# Compare SAT and ACT Math scores: Attempt 4\n",
    "# what if we look at states with Participation rates on both tests to between 20 and 80% (so losing the extremes?)\n",
    "df_med_participation = df_merged[(df_merged['sat_participation'] > 20) & (df_merged['sat_participation'] < 80 ) & (df_merged['act_participation'] > 20) & (df_merged['act_participation'] < 80)]\n",
    "print (f\"{len(df_med_participation)} states have SAT and ACT Participation rates between 20 and 80%\")\n",
    "plt.scatter(x=df_med_participation['sat_math'], y=df_med_participation[\"act_math\"])\n",
    "plt.title('ACT and SAT Math scores have no noticable relationship,\\n even in States with partication rates in both tests bewteen 20 and 80%')\n",
    "plt.xlabel='Avg. SAT Math Score'\n",
    "plt.ylabel='Avg. ACT Math Score'\n",
    "plt.show()\n",
    "df_med_participation[['act_math','sat_math']].corr()\n",
    "# still no real correlation bewteen SAT and ACT math scores (very small positive correlation of .1)\n",
    "#df_med_participation"
   ]
  },
  {
   "cell_type": "code",
   "execution_count": 71,
   "metadata": {},
   "outputs": [
    {
     "name": "stdout",
     "output_type": "stream",
     "text": [
      "14 states have SAT and ACT Participation rates between 20 and 80%\n"
     ]
    },
    {
     "data": {
      "image/png": "[encoded data removed]",
      "text/plain": [
       "<Figure size 432x288 with 1 Axes>"
      ]
     },
     "metadata": {
      "needs_background": "light"
     },
     "output_type": "display_data"
    },
    {
     "data": {
      "text/html": [
       "<div>\n",
       "<style scoped>\n",
       "    .dataframe tbody tr th:only-of-type {\n",
       "        vertical-align: middle;\n",
       "    }\n",
       "\n",
       "    .dataframe tbody tr th {\n",
       "        vertical-align: top;\n",
       "    }\n",
       "\n",
       "    .dataframe thead th {\n",
       "        text-align: right;\n",
       "    }\n",
       "</style>\n",
       "<table border=\"1\" class=\"dataframe\">\n",
       "  <thead>\n",
       "    <tr style=\"text-align: right;\">\n",
       "      <th></th>\n",
       "      <th>act_math</th>\n",
       "      <th>sat_math</th>\n",
       "    </tr>\n",
       "  </thead>\n",
       "  <tbody>\n",
       "    <tr>\n",
       "      <th>act_math</th>\n",
       "      <td>1.000000</td>\n",
       "      <td>0.139354</td>\n",
       "    </tr>\n",
       "    <tr>\n",
       "      <th>sat_math</th>\n",
       "      <td>0.139354</td>\n",
       "      <td>1.000000</td>\n",
       "    </tr>\n",
       "  </tbody>\n",
       "</table>\n",
       "</div>"
      ],
      "text/plain": [
       "          act_math  sat_math\n",
       "act_math  1.000000  0.139354\n",
       "sat_math  0.139354  1.000000"
      ]
     },
     "execution_count": 71,
     "metadata": {},
     "output_type": "execute_result"
    }
   ],
   "source": [
    "# Compare SAT and ACT Math scores: Attempt 5\n",
    "# what if we look at a subset where the difference in SAT and ACT participation rates is less than 40%?\n",
    "df_40= df_merged[(df_merged['sat_participation'] -df_merged['act_participation'] < 40) & (df_merged['sat_participation'] -df_merged['act_participation'] > 0) \n",
    "         | ( (df_merged['act_participation'] -df_merged['sat_participation'] < 40) & (df_merged['act_participation'] -df_merged['sat_participation'] > 0))]\n",
    "\n",
    "print (f\"{len(df_40)} states have SAT and ACT Participation rates between 20 and 80%\")\n",
    "plt.scatter(x=df_40['sat_math'], y=df_40[\"act_math\"])\n",
    "plt.title('ACT and SAT Math scores have no noticable relationship,\\n even in States with partication rates in both tests bewteen 20 and 80%')\n",
    "plt.xlabel='Avg. SAT Math Score'\n",
    "plt.ylabel='Avg. ACT Math Score'\n",
    "plt.show()\n",
    "df_40[['act_math','sat_math']].corr()\n",
    "\n",
    "# again only a very tiny positive correlation (.14)"
   ]
  },
  {
   "cell_type": "code",
   "execution_count": 72,
   "metadata": {},
   "outputs": [
    {
     "data": {
      "image/png": "[encoded data removed]",
      "text/plain": [
       "<Figure size 432x288 with 1 Axes>"
      ]
     },
     "metadata": {
      "needs_background": "light"
     },
     "output_type": "display_data"
    }
   ],
   "source": [
    "plt.scatter(x=df_merged['act_english'], y=df_merged[\"act_science\"])\n",
    "plt.title('ACT English and Science scores show a positive relationship')\n",
    "plt.xlabel='Avg. ACT English Score'\n",
    "plt.ylabel='Avg. ACT Science Score '\n",
    "plt.show()"
   ]
  },
  {
   "cell_type": "code",
   "execution_count": 73,
   "metadata": {},
   "outputs": [
    {
     "data": {
      "image/png": "[encoded data removed]",
      "text/plain": [
       "<Figure size 432x288 with 1 Axes>"
      ]
     },
     "metadata": {
      "needs_background": "light"
     },
     "output_type": "display_data"
    }
   ],
   "source": [
    "# Examine impact of SAT participation rate on total scoresat_total\n",
    "plt.scatter(x=df_merged['sat_participation'], y=df_merged[\"sat_total\"])\n",
    "plt.title('SAT: Higher Participation Rate = Lower score')\n",
    "plt.xlabel='SAT Participation Rate'\n",
    "plt.ylabel='SAT Total Score'\n",
    "plt.hlines(df_merged[\"sat_total\"].mean(),-1,100,label=\"Average\")\n",
    "plt.show()\n",
    "\n",
    "# States with lowest particatipation have best scores\n",
    "# likely because those studets who write test are self-selecting \"good students\" looking to go to collect\n",
    "# compared to states with mandatory participation where have wider range of students"
   ]
  },
  {
   "cell_type": "code",
   "execution_count": 74,
   "metadata": {},
   "outputs": [
    {
     "data": {
      "image/png": "[encoded data removed]",
      "text/plain": [
       "<Figure size 432x288 with 1 Axes>"
      ]
     },
     "metadata": {
      "needs_background": "light"
     },
     "output_type": "display_data"
    }
   ],
   "source": [
    "# Examine impact of ACT participation rate on total act composite score\n",
    "plt.scatter(x=df_merged['act_participation'], y=df_merged[\"act_composite\"])\n",
    "plt.title('ACT: Higher Participation Rate = Lower score')\n",
    "plt.xlabel='ACT Participation Rate'\n",
    "plt.ylabel='ACT Total Score'\n",
    "plt.hlines(df_merged[\"act_composite\"].mean(),-1,100,label=\"Average\")\n",
    "plt.show()\n",
    "\n",
    "# add line showing national average?"
   ]
  },
  {
   "cell_type": "code",
   "execution_count": 75,
   "metadata": {},
   "outputs": [
    {
     "data": {
      "text/plain": [
       "<seaborn.axisgrid.PairGrid at 0x25dce7ca438>"
      ]
     },
     "execution_count": 75,
     "metadata": {},
     "output_type": "execute_result"
    },
    {
     "data": {
      "image/png": "[encoded data removed]",
      "text/plain": [
       "<Figure size 1800x1800 with 110 Axes>"
      ]
     },
     "metadata": {
      "needs_background": "light"
     },
     "output_type": "display_data"
    }
   ],
   "source": [
    "# create scatter plots for all combinations of columns\n",
    "# gives a quick visual overview of all possible relationships\n",
    "sns.pairplot(df_merged, kind='scatter')"
   ]
  },
  {
   "cell_type": "markdown",
   "metadata": {},
   "source": [
    "##### 22. Are there any interesting relationships to note?"
   ]
  },
  {
   "cell_type": "markdown",
   "metadata": {
    "collapsed": true
   },
   "source": [
    "### Within each test\n",
    "* Sat Math and Verbal scores appear to have a strong positive corelation (i.e. states with the higher math scores also tend to have high verbal scores)\n",
    "* ACT english adn science scores appear to have a strong positive correlation\n",
    "* generally, within each test, the different components tend to be positively correlated\n",
    "\n",
    "### Comparing SAT and ACT test scores\n",
    "* It seems difficult to compare the math scores between the ACT and SAT tests.  You would expect a strong positive relationship, however, the results are much more mixed\n",
    "\n",
    "### Impact of State Participation Rate on Test Scores\n",
    "* for the SAT, there is a negative relationship between participation rate and test score.  States with lower participation rates tend to have lower average scores, while states with higher participation rates have higher average scores.  This makes sense since states that require all graduates to write the test will have a more diverse student body writing the test.  On the other hand, in states that the test is optional, students chosing to write the test will be self-selecting and generally the \"better\" (higher scoring) students hoping to go to College\n",
    "* The same holds true for the ACT test\n",
    "\n"
   ]
  },
  {
   "cell_type": "markdown",
   "metadata": {},
   "source": [
    "##### 23. Create box plots for each variable. "
   ]
  },
  {
   "cell_type": "code",
   "execution_count": 76,
   "metadata": {},
   "outputs": [
    {
     "data": {
      "image/png": "[encoded data removed]",
      "text/plain": [
       "<Figure size 864x720 with 3 Axes>"
      ]
     },
     "metadata": {
      "needs_background": "light"
     },
     "output_type": "display_data"
    }
   ],
   "source": [
    "# plot the SAT total and math/verbal scores in different subplots since the total score\n",
    "# is on a very different scale from the component parts\n",
    "fig, ax = plt.subplots(nrows=2, ncols=2,figsize=(12,10),sharex=False, sharey=False)\n",
    "\n",
    "fig.suptitle('SAT and ACT Score Distributions', ha='center',color = 'grey',fontsize=20,va='top',) \n",
    "\n",
    "ax[0][0] = sns.boxplot(x=\"sat_total\",  data=df_merged, orient='v', ax=ax[0][0])\n",
    "ax[0][0].set_title(f\"SAT Total Scores\")\n",
    "\n",
    "ax[0][1] =sns.boxplot(x=\"variable\", y=\"value\", data=pd.melt(df_merged[['sat_math', 'sat_rw']]),ax=ax[0][1])\n",
    "ax[0][1].set_title(f\"SAT Verbal scores are slightly higher on average than Math scores\")\n",
    "plt.subplot(2,1,2)\n",
    "ax[1][0]=sns.boxplot(x=\"variable\", y=\"value\", data=pd.melt(df_merged[['act_math', 'act_english','act_science','act_reading','act_composite']]))\n",
    "ax[1][0].set_title('ACT Reading scores are the strongest')\n",
    "fig.subplots_adjust(hspace = .5, wspace=.001)\n"
   ]
  },
  {
   "cell_type": "code",
   "execution_count": 79,
   "metadata": {},
   "outputs": [
    {
     "data": {
      "text/plain": [
       "Text(0.5,1,'ACT Test Participation is higher than for the SAT Test')"
      ]
     },
     "execution_count": 79,
     "metadata": {},
     "output_type": "execute_result"
    },
    {
     "data": {
      "image/png": "[encoded data removed]",
      "text/plain": [
       "<Figure size 432x288 with 1 Axes>"
      ]
     },
     "metadata": {
      "needs_background": "light"
     },
     "output_type": "display_data"
    }
   ],
   "source": [
    "my_pal = {\"sat_participation\": \"#00A5CF\", \"act_participation\": \"#2E75B6\"}\n",
    "\n",
    "blot = sns.boxplot(x=\"variable\", y=\"value\", data=pd.melt(df_merged[['sat_participation', 'act_participation']]),palette=my_pal)\n",
    "\n",
    "plt.title('ACT Test Participation is higher than for the SAT Test')\n",
    "\n"
   ]
  },
  {
   "cell_type": "markdown",
   "metadata": {},
   "source": [
    "##### BONUS: Using Tableau, create a heat map for each variable using a map of the US. "
   ]
  },
  {
   "cell_type": "markdown",
   "metadata": {},
   "source": [
    "### Mapping participation by state \n",
    "\n",
    "* SAT Participation Rates: https://public.tableau.com/views/SATParticipationRatesbyState/Sheet1?:embed=y&:display_count=yes&publish=yes\n",
    "* ACT Participation Rates\n",
    "https://public.tableau.com/views/ACTTestParticipationByState/Sheet2?:embed=y&:display_count=yes&publish=yes\n",
    "\n",
    "We can see clearly that, generally, States with a high SAT participation rate have a low ACT partication rate and vice versa"
   ]
  },
  {
   "cell_type": "markdown",
   "metadata": {},
   "source": [
    "## Step 4: Descriptive and Inferential Statistics"
   ]
  },
  {
   "cell_type": "markdown",
   "metadata": {},
   "source": [
    "##### 24. Summarize each distribution. As data scientists, be sure to back up these summaries with statistics. (Hint: What are the three things we care about when describing distributions?)"
   ]
  },
  {
   "cell_type": "code",
   "execution_count": 81,
   "metadata": {},
   "outputs": [
    {
     "data": {
      "text/plain": [
       "[['sat_participation', 39.8, 35.28],\n",
       " ['sat_rw', 569.12, 45.67],\n",
       " ['sat_math', 556.88, 47.12],\n",
       " ['sat_total', 1126.1, 92.49],\n",
       " ['act_participation', 65.25, 32.14],\n",
       " ['act_english', 20.93, 2.35],\n",
       " ['act_math', 21.18, 1.98],\n",
       " ['act_reading', 22.01, 2.07],\n",
       " ['act_science', 21.46, 1.75],\n",
       " ['act_composite', 21.52, 2.02]]"
      ]
     },
     "execution_count": 81,
     "metadata": {},
     "output_type": "execute_result"
    }
   ],
   "source": [
    "summary_stats=[]\n",
    "for col in df_merged.columns[1:]:\n",
    "    #print(f'{col}: {df_merged[col].mean()}, {df_merged[col].std()}')\n",
    "    summary_stats.append([col,round(df_merged[col].mean(),2),round(df_merged[col].std(),2)])\n",
    "summary_stats"
   ]
  },
  {
   "cell_type": "code",
   "execution_count": 82,
   "metadata": {},
   "outputs": [
    {
     "data": {
      "text/html": [
       "<div>\n",
       "<style scoped>\n",
       "    .dataframe tbody tr th:only-of-type {\n",
       "        vertical-align: middle;\n",
       "    }\n",
       "\n",
       "    .dataframe tbody tr th {\n",
       "        vertical-align: top;\n",
       "    }\n",
       "\n",
       "    .dataframe thead th {\n",
       "        text-align: right;\n",
       "    }\n",
       "</style>\n",
       "<table border=\"1\" class=\"dataframe\">\n",
       "  <thead>\n",
       "    <tr style=\"text-align: right;\">\n",
       "      <th></th>\n",
       "      <th>sat_participation</th>\n",
       "      <th>sat_rw</th>\n",
       "      <th>sat_math</th>\n",
       "      <th>sat_total</th>\n",
       "      <th>act_participation</th>\n",
       "      <th>act_english</th>\n",
       "      <th>act_math</th>\n",
       "      <th>act_reading</th>\n",
       "      <th>act_science</th>\n",
       "      <th>act_composite</th>\n",
       "    </tr>\n",
       "  </thead>\n",
       "  <tbody>\n",
       "    <tr>\n",
       "      <th>count</th>\n",
       "      <td>51.000000</td>\n",
       "      <td>51.000000</td>\n",
       "      <td>51.000000</td>\n",
       "      <td>51.000000</td>\n",
       "      <td>51.000000</td>\n",
       "      <td>51.000000</td>\n",
       "      <td>51.000000</td>\n",
       "      <td>51.000000</td>\n",
       "      <td>51.000000</td>\n",
       "      <td>51.000000</td>\n",
       "    </tr>\n",
       "    <tr>\n",
       "      <th>mean</th>\n",
       "      <td>39.803922</td>\n",
       "      <td>569.117647</td>\n",
       "      <td>556.882353</td>\n",
       "      <td>1126.098039</td>\n",
       "      <td>65.254902</td>\n",
       "      <td>20.931373</td>\n",
       "      <td>21.182353</td>\n",
       "      <td>22.013725</td>\n",
       "      <td>21.462745</td>\n",
       "      <td>21.519608</td>\n",
       "    </tr>\n",
       "    <tr>\n",
       "      <th>std</th>\n",
       "      <td>35.276632</td>\n",
       "      <td>45.666901</td>\n",
       "      <td>47.121395</td>\n",
       "      <td>92.494812</td>\n",
       "      <td>32.140842</td>\n",
       "      <td>2.353677</td>\n",
       "      <td>1.981989</td>\n",
       "      <td>2.067271</td>\n",
       "      <td>1.753392</td>\n",
       "      <td>2.020695</td>\n",
       "    </tr>\n",
       "    <tr>\n",
       "      <th>min</th>\n",
       "      <td>2.000000</td>\n",
       "      <td>482.000000</td>\n",
       "      <td>468.000000</td>\n",
       "      <td>950.000000</td>\n",
       "      <td>8.000000</td>\n",
       "      <td>16.300000</td>\n",
       "      <td>18.000000</td>\n",
       "      <td>18.100000</td>\n",
       "      <td>18.200000</td>\n",
       "      <td>17.800000</td>\n",
       "    </tr>\n",
       "    <tr>\n",
       "      <th>25%</th>\n",
       "      <td>4.000000</td>\n",
       "      <td>533.500000</td>\n",
       "      <td>523.500000</td>\n",
       "      <td>1055.500000</td>\n",
       "      <td>31.000000</td>\n",
       "      <td>19.000000</td>\n",
       "      <td>19.400000</td>\n",
       "      <td>20.450000</td>\n",
       "      <td>19.950000</td>\n",
       "      <td>19.800000</td>\n",
       "    </tr>\n",
       "    <tr>\n",
       "      <th>50%</th>\n",
       "      <td>38.000000</td>\n",
       "      <td>559.000000</td>\n",
       "      <td>548.000000</td>\n",
       "      <td>1107.000000</td>\n",
       "      <td>69.000000</td>\n",
       "      <td>20.700000</td>\n",
       "      <td>20.900000</td>\n",
       "      <td>21.800000</td>\n",
       "      <td>21.300000</td>\n",
       "      <td>21.400000</td>\n",
       "    </tr>\n",
       "    <tr>\n",
       "      <th>75%</th>\n",
       "      <td>66.000000</td>\n",
       "      <td>613.000000</td>\n",
       "      <td>599.000000</td>\n",
       "      <td>1212.000000</td>\n",
       "      <td>100.000000</td>\n",
       "      <td>23.300000</td>\n",
       "      <td>23.100000</td>\n",
       "      <td>24.150000</td>\n",
       "      <td>23.200000</td>\n",
       "      <td>23.600000</td>\n",
       "    </tr>\n",
       "    <tr>\n",
       "      <th>max</th>\n",
       "      <td>100.000000</td>\n",
       "      <td>644.000000</td>\n",
       "      <td>651.000000</td>\n",
       "      <td>1295.000000</td>\n",
       "      <td>100.000000</td>\n",
       "      <td>25.500000</td>\n",
       "      <td>25.300000</td>\n",
       "      <td>26.000000</td>\n",
       "      <td>24.900000</td>\n",
       "      <td>25.500000</td>\n",
       "    </tr>\n",
       "  </tbody>\n",
       "</table>\n",
       "</div>"
      ],
      "text/plain": [
       "       sat_participation      sat_rw    sat_math    sat_total  \\\n",
       "count          51.000000   51.000000   51.000000    51.000000   \n",
       "mean           39.803922  569.117647  556.882353  1126.098039   \n",
       "std            35.276632   45.666901   47.121395    92.494812   \n",
       "min             2.000000  482.000000  468.000000   950.000000   \n",
       "25%             4.000000  533.500000  523.500000  1055.500000   \n",
       "50%            38.000000  559.000000  548.000000  1107.000000   \n",
       "75%            66.000000  613.000000  599.000000  1212.000000   \n",
       "max           100.000000  644.000000  651.000000  1295.000000   \n",
       "\n",
       "       act_participation  act_english   act_math  act_reading  act_science  \\\n",
       "count          51.000000    51.000000  51.000000    51.000000    51.000000   \n",
       "mean           65.254902    20.931373  21.182353    22.013725    21.462745   \n",
       "std            32.140842     2.353677   1.981989     2.067271     1.753392   \n",
       "min             8.000000    16.300000  18.000000    18.100000    18.200000   \n",
       "25%            31.000000    19.000000  19.400000    20.450000    19.950000   \n",
       "50%            69.000000    20.700000  20.900000    21.800000    21.300000   \n",
       "75%           100.000000    23.300000  23.100000    24.150000    23.200000   \n",
       "max           100.000000    25.500000  25.300000    26.000000    24.900000   \n",
       "\n",
       "       act_composite  \n",
       "count      51.000000  \n",
       "mean       21.519608  \n",
       "std         2.020695  \n",
       "min        17.800000  \n",
       "25%        19.800000  \n",
       "50%        21.400000  \n",
       "75%        23.600000  \n",
       "max        25.500000  "
      ]
     },
     "execution_count": 82,
     "metadata": {},
     "output_type": "execute_result"
    }
   ],
   "source": [
    "df_merged.describe()\n"
   ]
  },
  {
   "cell_type": "markdown",
   "metadata": {},
   "source": [
    "### Description of the various distributions\n",
    "\n",
    " #### SAT:\n",
    " <table>\n",
    "    <tr><td><b>Column</b></td>\n",
    "        <td><b>Description</b></td>\n",
    "    </tr>\n",
    "    <tr><td>SAT Participation</td>\n",
    "        <td>Participation is heavily skewed right.  This is further supported by the fact that the Mean (39.8) is larger than the Median (38%).  It has a very large spread, from a minimum of 2% to a maximum of 100% participation.  The IQR (inter-quartile range (distance bewteen 25th and 75 percentiles)) is also quite large: 4%-66%.  There are no obvious outliers</td>\n",
    "    </tr>\n",
    "    <tr><td>SAT Math</td>\n",
    "        <td>The Math scores appear almost bi-modal and are skewed right.  The mean (556.88) is higher than the median (548).  The spread is from 468 to 651 with an IQR of 523.5 to 599.  There are no obvious outliers</td>\n",
    "    </tr>\n",
    "    <tr><td>SAT Evidence-Based Reading and Writing:</td>\n",
    "        <td>The RW definitely appear to be bi-modal.  The mean (569.12) is higher than the median(559).  The spread is form 482 to 644, so slightly less broad than the Math scores.  The IQR is from 533.5 to 613.  SAT RW scores are higher, on average, than the math scores, but are also less spread out.  There are no obvious outliers</td>\n",
    "    </tr>\n",
    "    <tr><td>SAT Total</td>\n",
    "        <td>The SAT Total score also appears bi-modal, which makes sense since it is a sum of the math and RW scores.  The man score (1126.1) is higher than the median (1107).  The range is from 950 to 1295, with an IQR of 1055.5 to 1212. There are no obvious outliers</td>\n",
    "    </tr>\n",
    "</table>\n",
    "\n",
    "#### ACT\n",
    " <table>\n",
    "    <tr><td><b>Column</b></td>\n",
    "        <td><b>Description</b></td>\n",
    "    </tr>\n",
    "    <tr><td>ACT Participation</td>\n",
    "        <td>ACT Participation rates are heavily skewed right.  The mean(65.25) is **lower** than the median (69) .  It has a large spread, from 8% to 100%, but is actually less spread out than the SAT scores.  The IQR goes from 31 to 100\n",
    "        </td>\n",
    "    </tr>\n",
    "    <tr><td>ACT Math</td>\n",
    "        <td>The ACT math scores appear almost bi-modal and skewed right.  The mean (21.2) is higher than the median of 20.9.  The spread is from 18 to 25.3 and the IQR is 19.4 to 23.1\n",
    "        </td>\n",
    "    </tr>\n",
    "    <tr><td>ACT Reading</td>\n",
    "        <td>The ACT Reading score also appeaers bi-modal.  The mean (22.0) is only slightly higher than the median of 21.8. The range is from 18.1 to 26 with an IQR of 20.45 to 24.15.  ACT Reading scores have the highest mean of all the ACT test components, as well as the largest maximum score (26).  \n",
    "        </td>\n",
    "    </tr>\n",
    "        <tr><td>ACT Science</td>\n",
    "        <td>ACT Science scores appear more symmetrical than the other test scores in this dataset.  The mean (21.5) is only very slightly higher than thee median (21.3).  Scores range from 18.2 to 24.9 and the IQR is 19.95 to 23.2.  The standard deviation is the lowest of all the ACT test components\n",
    "        </td>\n",
    "    </tr>\n",
    "        <tr><td>ACT English</td>\n",
    "        <td>ACT English scores appeaer skewed right.  The mean (20.93) is slightly higher than the median (20.7). The scores range from 16.3 to 25.5 with an IQR of 19 to 23.3\n",
    "        </td>\n",
    "    </tr>\n",
    "    <tr><td>ACT Composite</td>\n",
    "        <td>ACT Composite scores appear bi-modal.  The mean (21.52) is slightly higher than the median (21.4).  Scores range from 17.8 to 25.5 and the IQR is from 19.8 to 23.6</td>\n",
    "    </tr>\n",
    "</table>\n"
   ]
  },
  {
   "cell_type": "markdown",
   "metadata": {},
   "source": [
    "##### 25. Summarize each relationship. Be sure to back up these summaries with statistics."
   ]
  },
  {
   "cell_type": "code",
   "execution_count": 83,
   "metadata": {},
   "outputs": [
    {
     "data": {
      "text/html": [
       "<div>\n",
       "<style scoped>\n",
       "    .dataframe tbody tr th:only-of-type {\n",
       "        vertical-align: middle;\n",
       "    }\n",
       "\n",
       "    .dataframe tbody tr th {\n",
       "        vertical-align: top;\n",
       "    }\n",
       "\n",
       "    .dataframe thead th {\n",
       "        text-align: right;\n",
       "    }\n",
       "</style>\n",
       "<table border=\"1\" class=\"dataframe\">\n",
       "  <thead>\n",
       "    <tr style=\"text-align: right;\">\n",
       "      <th></th>\n",
       "      <th>sat_participation</th>\n",
       "      <th>sat_rw</th>\n",
       "      <th>sat_math</th>\n",
       "      <th>sat_total</th>\n",
       "      <th>act_participation</th>\n",
       "      <th>act_english</th>\n",
       "      <th>act_math</th>\n",
       "      <th>act_reading</th>\n",
       "      <th>act_science</th>\n",
       "      <th>act_composite</th>\n",
       "    </tr>\n",
       "  </thead>\n",
       "  <tbody>\n",
       "    <tr>\n",
       "      <th>sat_participation</th>\n",
       "      <td>1.000000</td>\n",
       "      <td>-0.874326</td>\n",
       "      <td>-0.855091</td>\n",
       "      <td>-0.867540</td>\n",
       "      <td>-0.841234</td>\n",
       "      <td>0.686889</td>\n",
       "      <td>0.710697</td>\n",
       "      <td>0.705352</td>\n",
       "      <td>0.654100</td>\n",
       "      <td>0.694748</td>\n",
       "    </tr>\n",
       "    <tr>\n",
       "      <th>sat_rw</th>\n",
       "      <td>-0.874326</td>\n",
       "      <td>1.000000</td>\n",
       "      <td>0.987056</td>\n",
       "      <td>0.996661</td>\n",
       "      <td>0.716153</td>\n",
       "      <td>-0.461345</td>\n",
       "      <td>-0.486126</td>\n",
       "      <td>-0.488441</td>\n",
       "      <td>-0.423713</td>\n",
       "      <td>-0.470382</td>\n",
       "    </tr>\n",
       "    <tr>\n",
       "      <th>sat_math</th>\n",
       "      <td>-0.855091</td>\n",
       "      <td>0.987056</td>\n",
       "      <td>1.000000</td>\n",
       "      <td>0.996822</td>\n",
       "      <td>0.682572</td>\n",
       "      <td>-0.420673</td>\n",
       "      <td>-0.420456</td>\n",
       "      <td>-0.442410</td>\n",
       "      <td>-0.367364</td>\n",
       "      <td>-0.417817</td>\n",
       "    </tr>\n",
       "    <tr>\n",
       "      <th>sat_total</th>\n",
       "      <td>-0.867540</td>\n",
       "      <td>0.996661</td>\n",
       "      <td>0.996822</td>\n",
       "      <td>1.000000</td>\n",
       "      <td>0.701477</td>\n",
       "      <td>-0.441947</td>\n",
       "      <td>-0.454116</td>\n",
       "      <td>-0.466558</td>\n",
       "      <td>-0.396291</td>\n",
       "      <td>-0.445020</td>\n",
       "    </tr>\n",
       "    <tr>\n",
       "      <th>act_participation</th>\n",
       "      <td>-0.841234</td>\n",
       "      <td>0.716153</td>\n",
       "      <td>0.682572</td>\n",
       "      <td>0.701477</td>\n",
       "      <td>1.000000</td>\n",
       "      <td>-0.843501</td>\n",
       "      <td>-0.861114</td>\n",
       "      <td>-0.866620</td>\n",
       "      <td>-0.837830</td>\n",
       "      <td>-0.858134</td>\n",
       "    </tr>\n",
       "    <tr>\n",
       "      <th>act_english</th>\n",
       "      <td>0.686889</td>\n",
       "      <td>-0.461345</td>\n",
       "      <td>-0.420673</td>\n",
       "      <td>-0.441947</td>\n",
       "      <td>-0.843501</td>\n",
       "      <td>1.000000</td>\n",
       "      <td>0.967803</td>\n",
       "      <td>0.985999</td>\n",
       "      <td>0.979082</td>\n",
       "      <td>0.990856</td>\n",
       "    </tr>\n",
       "    <tr>\n",
       "      <th>act_math</th>\n",
       "      <td>0.710697</td>\n",
       "      <td>-0.486126</td>\n",
       "      <td>-0.420456</td>\n",
       "      <td>-0.454116</td>\n",
       "      <td>-0.861114</td>\n",
       "      <td>0.967803</td>\n",
       "      <td>1.000000</td>\n",
       "      <td>0.979630</td>\n",
       "      <td>0.985648</td>\n",
       "      <td>0.990451</td>\n",
       "    </tr>\n",
       "    <tr>\n",
       "      <th>act_reading</th>\n",
       "      <td>0.705352</td>\n",
       "      <td>-0.488441</td>\n",
       "      <td>-0.442410</td>\n",
       "      <td>-0.466558</td>\n",
       "      <td>-0.866620</td>\n",
       "      <td>0.985999</td>\n",
       "      <td>0.979630</td>\n",
       "      <td>1.000000</td>\n",
       "      <td>0.987361</td>\n",
       "      <td>0.995069</td>\n",
       "    </tr>\n",
       "    <tr>\n",
       "      <th>act_science</th>\n",
       "      <td>0.654100</td>\n",
       "      <td>-0.423713</td>\n",
       "      <td>-0.367364</td>\n",
       "      <td>-0.396291</td>\n",
       "      <td>-0.837830</td>\n",
       "      <td>0.979082</td>\n",
       "      <td>0.985648</td>\n",
       "      <td>0.987361</td>\n",
       "      <td>1.000000</td>\n",
       "      <td>0.994207</td>\n",
       "    </tr>\n",
       "    <tr>\n",
       "      <th>act_composite</th>\n",
       "      <td>0.694748</td>\n",
       "      <td>-0.470382</td>\n",
       "      <td>-0.417817</td>\n",
       "      <td>-0.445020</td>\n",
       "      <td>-0.858134</td>\n",
       "      <td>0.990856</td>\n",
       "      <td>0.990451</td>\n",
       "      <td>0.995069</td>\n",
       "      <td>0.994207</td>\n",
       "      <td>1.000000</td>\n",
       "    </tr>\n",
       "  </tbody>\n",
       "</table>\n",
       "</div>"
      ],
      "text/plain": [
       "                   sat_participation    sat_rw  sat_math  sat_total  \\\n",
       "sat_participation           1.000000 -0.874326 -0.855091  -0.867540   \n",
       "sat_rw                     -0.874326  1.000000  0.987056   0.996661   \n",
       "sat_math                   -0.855091  0.987056  1.000000   0.996822   \n",
       "sat_total                  -0.867540  0.996661  0.996822   1.000000   \n",
       "act_participation          -0.841234  0.716153  0.682572   0.701477   \n",
       "act_english                 0.686889 -0.461345 -0.420673  -0.441947   \n",
       "act_math                    0.710697 -0.486126 -0.420456  -0.454116   \n",
       "act_reading                 0.705352 -0.488441 -0.442410  -0.466558   \n",
       "act_science                 0.654100 -0.423713 -0.367364  -0.396291   \n",
       "act_composite               0.694748 -0.470382 -0.417817  -0.445020   \n",
       "\n",
       "                   act_participation  act_english  act_math  act_reading  \\\n",
       "sat_participation          -0.841234     0.686889  0.710697     0.705352   \n",
       "sat_rw                      0.716153    -0.461345 -0.486126    -0.488441   \n",
       "sat_math                    0.682572    -0.420673 -0.420456    -0.442410   \n",
       "sat_total                   0.701477    -0.441947 -0.454116    -0.466558   \n",
       "act_participation           1.000000    -0.843501 -0.861114    -0.866620   \n",
       "act_english                -0.843501     1.000000  0.967803     0.985999   \n",
       "act_math                   -0.861114     0.967803  1.000000     0.979630   \n",
       "act_reading                -0.866620     0.985999  0.979630     1.000000   \n",
       "act_science                -0.837830     0.979082  0.985648     0.987361   \n",
       "act_composite              -0.858134     0.990856  0.990451     0.995069   \n",
       "\n",
       "                   act_science  act_composite  \n",
       "sat_participation     0.654100       0.694748  \n",
       "sat_rw               -0.423713      -0.470382  \n",
       "sat_math             -0.367364      -0.417817  \n",
       "sat_total            -0.396291      -0.445020  \n",
       "act_participation    -0.837830      -0.858134  \n",
       "act_english           0.979082       0.990856  \n",
       "act_math              0.985648       0.990451  \n",
       "act_reading           0.987361       0.995069  \n",
       "act_science           1.000000       0.994207  \n",
       "act_composite         0.994207       1.000000  "
      ]
     },
     "execution_count": 83,
     "metadata": {},
     "output_type": "execute_result"
    }
   ],
   "source": [
    "df_merged.corr()"
   ]
  },
  {
   "cell_type": "markdown",
   "metadata": {},
   "source": [
    "### Relationships\n",
    "\n",
    "* SAT and ACT partication rates show a strong negative relationship (pearson correlation coeffienct = -.84).  This makes sense, since it seems that students in each state have a tendency to write one test over the other (especially in states where particiation in one test is mandatory -- fewer students would be likely to write the other test)\n",
    "* SAT Math and Reading/Writing scores are very strongly positively correlated (corr = .99).  States that have high math scores, also have high reading/writing scores\n",
    "* SAT and ACT total/composite scores have a weak negative relationship (corr=-.45).  This is counter-intuitive since good students should be good students regardless of which test they take, but our results are likely confounded by the extreme variation in state participation rates.  For instance, if 100% of students in X state write the ACT, then only a few are likely to write the SAT and probably their results will show higher SAT scores than ACT scores since they will likely be a more motivated cohort.  We cannot, therefore, have confidence that this relationship is meaningful based on the information we have \n",
    "* The various ACT components are all strongly positively correlated with each other (i.e. ACT English adn Math show a pearson corelation coefficient of 0.97).  \n"
   ]
  },
  {
   "cell_type": "markdown",
   "metadata": {},
   "source": [
    "##### 26. Execute a hypothesis test comparing the SAT and ACT participation rates. Use $\\alpha = 0.05$. Be sure to interpret your results."
   ]
  },
  {
   "cell_type": "markdown",
   "metadata": {},
   "source": [
    "#### Experiment 1\n",
    "\n",
    "* **Null Hypothesis to test**: SAT and ACT Participation rates are the same\n",
    "* **Alternative Hypothesis**: SAT and ACT Participation rates are different\n",
    "\n",
    "We will perform a students T-Test to test this hypothesis.  The test assumes that the populations have identical variances, which seems reasonable based on our observations.  However, the distributions are not normal, which may invalidate these test results.  There is an alternative test, the Mann-Whitney-Wilcoxon (MWW) RankSum test, which does not assume a normal distribution.  Let's try calculating both..."
   ]
  },
  {
   "cell_type": "code",
   "execution_count": 84,
   "metadata": {},
   "outputs": [
    {
     "name": "stdout",
     "output_type": "stream",
     "text": [
      "-3.8085778908170544 0.00024134203698662353\n"
     ]
    }
   ],
   "source": [
    "# Student T Test\n",
    "t_stat, p_value = stats.ttest_ind(df_merged['sat_participation'], df_merged['act_participation'])\n",
    "print(t_stat, p_value )"
   ]
  },
  {
   "cell_type": "code",
   "execution_count": 85,
   "metadata": {},
   "outputs": [
    {
     "name": "stdout",
     "output_type": "stream",
     "text": [
      "-3.878423904133869 0.00010513540211149264\n"
     ]
    }
   ],
   "source": [
    "# Rank Sum Test\n",
    "z_stat, p_val = stats.ranksums(df_merged['sat_participation'], df_merged['act_participation'])  \n",
    "  \n",
    "print(z_stat, p_val )  "
   ]
  },
  {
   "cell_type": "markdown",
   "metadata": {},
   "source": [
    "**Interpretation**: \n",
    "According to the T-Test: If the null hypothesis were true, we would only have a 0.026% chance of observing this large a difference (-3.81) in particiation rates\n",
    "\n",
    "According to the MMW RankSumtest: If the null hypothesis were true, we would only have a 0.01% chance of observing this large a difference (-3.88) in particiation rates\n",
    "\n",
    "Either way, since this p value is significantly less than our threshold criteria of 5%, we can reject the null hypothesis and conclude that there is a statistically significant difference in SAT and ACT Test participation rates.\n"
   ]
  },
  {
   "cell_type": "markdown",
   "metadata": {},
   "source": [
    "#### Experiment 2: SAT Total scores are higher in states with where ACT Participation is < 100%\n",
    "\n",
    "* **Null Hypothesis**: SAT total scores are not affected by whether or not states require students to write the ACT\n",
    "* **Alternative hypothesis**: SAT total scores are different (higher) in states that require students to write the ACT"
   ]
  },
  {
   "cell_type": "code",
   "execution_count": 86,
   "metadata": {},
   "outputs": [
    {
     "name": "stdout",
     "output_type": "stream",
     "text": [
      "-3.8085778908170544,0.00024134\n"
     ]
    }
   ],
   "source": [
    "\n",
    "z_stat, p_val = stats.ranksums(df_merged[(df_merged['act_participation'] ==100)]['sat_total'], df_merged[(df_merged['act_participation'] <100)]['sat_total'])\n",
    "\n",
    "print(f\"{t_stat},{p_value:0.8f}\") \n",
    "#p_value<0.05"
   ]
  },
  {
   "cell_type": "code",
   "execution_count": 87,
   "metadata": {},
   "outputs": [
    {
     "data": {
      "text/plain": [
       "1195.1764705882354"
      ]
     },
     "execution_count": 87,
     "metadata": {},
     "output_type": "execute_result"
    }
   ],
   "source": [
    "df_merged[(df_merged['act_participation'] ==100)]['sat_total'].mean()"
   ]
  },
  {
   "cell_type": "code",
   "execution_count": 88,
   "metadata": {},
   "outputs": [
    {
     "data": {
      "text/plain": [
       "1091.5588235294117"
      ]
     },
     "execution_count": 88,
     "metadata": {},
     "output_type": "execute_result"
    }
   ],
   "source": [
    "df_merged[(df_merged['act_participation'] <100)]['sat_total'].mean()"
   ]
  },
  {
   "cell_type": "markdown",
   "metadata": {},
   "source": [
    "**Interpretation**: if the null hypothesis were true, we would have a very small chance (.02%) of observing this large a difference in SAT Total Scores (-3.81). This is less than our threshold of 0.05.  Therefore, we can conclude that ACT participation rates of 100% do affect SAT total scores (ACT Participation Rate of 100% = higher SAT score, while ACT Participation Rates of < 100% = lower SAT scores)"
   ]
  },
  {
   "cell_type": "markdown",
   "metadata": {},
   "source": [
    "##### 27. Generate and interpret 95% confidence intervals for SAT and ACT participation rates."
   ]
  },
  {
   "cell_type": "markdown",
   "metadata": {},
   "source": [
    "The formula we learned in class (to multiply z by the standard error) is not appropriate in this example as we are not sampling from an unknown population of State Participation rates.  Our dataset includes information for the entire population (all States in 2017) and so we can instead fall back on the empirical rule (also known as the three sigma rule).  This rule indicates that, given a normal distribution, 68% of your observations will fall within +-1 standard deviation of the mean, 95% within += 2 standard deviations of the mean and 99.7% within += 3 standard deviations of the mean.  Again, however, we have a potential problem since our participation rates are right skewed and are therefore NOT normal.  Let's try this using three different methods and examine our results...\n",
    "\n",
    "1. Empirical Formula\n"
   ]
  },
  {
   "cell_type": "code",
   "execution_count": 89,
   "metadata": {},
   "outputs": [
    {
     "name": "stdout",
     "output_type": "stream",
     "text": [
      "-30.74934297139864 110.35718610865354\n"
     ]
    }
   ],
   "source": [
    "# Empirical formula: 95% confidence interval for SAT participation rate based on 2 standard devaitions from the mean\n",
    "# the results is clearly nonesensical since we already know the rate, by definition, has to fall between 0 and 100\n",
    "lower_bound = df_merged['sat_participation'].mean() - (df_merged['sat_participation'].std() * 2)\n",
    "upper_bound = df_merged['sat_participation'].mean() + (df_merged['sat_participation'].std() * 2)\n",
    "print(lower_bound,upper_bound)"
   ]
  },
  {
   "cell_type": "code",
   "execution_count": 90,
   "metadata": {},
   "outputs": [
    {
     "name": "stdout",
     "output_type": "stream",
     "text": [
      "0.9732179290106586 129.53658599255795\n"
     ]
    }
   ],
   "source": [
    "# repeating Empirical Formula for ACT\n",
    "lower_bound = df_merged['act_participation'].mean() - (df_merged['act_participation'].std() * 2)\n",
    "upper_bound = df_merged['act_participation'].mean() + (df_merged['act_participation'].std() * 2)\n",
    "print(lower_bound,upper_bound)"
   ]
  },
  {
   "cell_type": "markdown",
   "metadata": {},
   "source": [
    "2. Bootstrap confidence intervals\n",
    "\n",
    "This does not make any assumption about the shape of the distribution.  In this case, the lower limit is the 0.025-quantile of and the upper limit is the 0.975-quantile"
   ]
  },
  {
   "cell_type": "code",
   "execution_count": 91,
   "metadata": {},
   "outputs": [
    {
     "name": "stdout",
     "output_type": "stream",
     "text": [
      "2.0 100.0\n"
     ]
    }
   ],
   "source": [
    "alpha=0.95\n",
    "ordered = df_merged['sat_participation'].sort_values()\n",
    "lower = ordered.quantile((1-alpha)/2) \n",
    "upper = ordered.quantile(alpha+((1-alpha)/2))   \n",
    "print (lower, upper)    \n"
   ]
  },
  {
   "cell_type": "code",
   "execution_count": 92,
   "metadata": {},
   "outputs": [
    {
     "name": "stdout",
     "output_type": "stream",
     "text": [
      "18.0 100.0\n"
     ]
    }
   ],
   "source": [
    "alpha=0.95\n",
    "ordered = df_merged['act_participation'].sort_values()\n",
    "lower = ordered.quantile((1-alpha)/2) \n",
    "upper = ordered.quantile(alpha+((1-alpha)/2))    \n",
    "print (lower, upper)   "
   ]
  },
  {
   "cell_type": "markdown",
   "metadata": {},
   "source": [
    "3. Standard error formula"
   ]
  },
  {
   "cell_type": "code",
   "execution_count": 93,
   "metadata": {},
   "outputs": [
    {
     "name": "stdout",
     "output_type": "stream",
     "text": [
      "Mean =  39.80392156862745\n",
      "Standard error =  4.9397165599279065\n",
      "Simulation estimate =  34.929070766645076\n"
     ]
    },
    {
     "data": {
      "text/plain": [
       "(30.122077111168757, 49.48576602608615)"
      ]
     },
     "execution_count": 93,
     "metadata": {},
     "output_type": "execute_result"
    }
   ],
   "source": [
    "# first get the standard error for SAT tests\n",
    "n = len(df_merged) #30\n",
    "mean_sat_participation = np.mean(df_merged['sat_participation'])\n",
    "standard_error = np.std(df_merged['sat_participation'], ddof=1)/np.sqrt(n)\n",
    "print ('Mean = ',mean_sat_participation )\n",
    "print('Standard error = ', standard_error)\n",
    "print('Simulation estimate = ', np.std(df_merged['sat_participation']))\n",
    "z = 1.96  # for 95%\n",
    "ci_lower = mean_sat_participation-z*standard_error\n",
    "ci_upper = mean_sat_participation+z*standard_error\n",
    "ci_lower, ci_upper"
   ]
  },
  {
   "cell_type": "code",
   "execution_count": 94,
   "metadata": {},
   "outputs": [
    {
     "name": "stdout",
     "output_type": "stream",
     "text": [
      "Mean =  65.25490196078431\n",
      "Standard error =  4.5006180958736985\n",
      "Simulation estimate =  31.824175751231802\n"
     ]
    },
    {
     "data": {
      "text/plain": [
       "(56.43369049287186, 74.07611342869676)"
      ]
     },
     "execution_count": 94,
     "metadata": {},
     "output_type": "execute_result"
    }
   ],
   "source": [
    "# repeat for ACT\n",
    "n = len(df_merged) #30\n",
    "mean_act_participation = np.mean(df_merged['act_participation'])\n",
    "standard_error = np.std(df_merged['act_participation'], ddof=1)/np.sqrt(n)\n",
    "print ('Mean = ',mean_act_participation )\n",
    "print('Standard error = ', standard_error)\n",
    "print('Simulation estimate = ', np.std(df_merged['act_participation']))\n",
    "z = 1.96  # for 95%\n",
    "ci_lower = mean_act_participation-z*standard_error\n",
    "ci_upper = mean_act_participation+z*standard_error\n",
    "ci_lower, ci_upper"
   ]
  },
  {
   "cell_type": "markdown",
   "metadata": {},
   "source": [
    "### Interpretation\n",
    "\n",
    "None of these methods returned very helpful information.  Of the three, the bootstrap method was probably the most appropriate. In that case, we can be 95% confident that the mean for SAT particiation rate falls between 2 and 100% and the ACT participation rate falls between 18 and 100.  \n"
   ]
  },
  {
   "cell_type": "markdown",
   "metadata": {},
   "source": [
    "##### 28. Given your answer to 26, was your answer to 27 surprising? Why?"
   ]
  },
  {
   "cell_type": "markdown",
   "metadata": {},
   "source": [
    "The P-value indicated that the differences between SAT and ACT partication rates are statistically significant so we would expect them to have quite different population means.  However, the 95% confidence intervals overlap considerably"
   ]
  },
  {
   "cell_type": "markdown",
   "metadata": {},
   "source": [
    "##### 29. Is it appropriate to generate correlation between SAT and ACT math scores? Why?"
   ]
  },
  {
   "cell_type": "markdown",
   "metadata": {},
   "source": [
    "It is not appropriate to compare the ACT and SAT math scores from the raw data due to the extreme differences in participation rates.  We can see that states with high ACT participation tend to have low SAT participation (and vice versa), so we would need to account for that variability.  Furthermore, to make a meaningful comparison between the test scores, ideally we should examine the results from a large set of students who wrote BOTH tests. "
   ]
  },
  {
   "cell_type": "markdown",
   "metadata": {},
   "source": [
    "##### 30. Suppose we only seek to understand the relationship between SAT and ACT data in 2017. Does it make sense to conduct statistical inference given the data we have? Why?"
   ]
  },
  {
   "cell_type": "markdown",
   "metadata": {},
   "source": [
    "We can do some investigation, such as examining the relationship between participation rates and scores (both within and between the two tests).  But we do not have enough data to compare scores between the two tests.  We can see that scores tend to decline with a higher participation rate and since we have very few states that even come close to a similar participation rate, we cannot compare ACT to SAT test scores.  This is because the scores in our dataset are confounded by participation rate.  \n",
    "<br />\n",
    "To compare the tests accurately, we should have the same set of students write both tests so we can get a baseline comparision of test scores.  If that's not possible, then we would need to account for the variability in participation rates in different states -- perhaps dropping states with very low rates in one test or coming up with a new feature that accounts for both participation rate and score"
   ]
  },
  {
   "cell_type": "markdown",
   "metadata": {},
   "source": [
    "### Extra: Bring in State Population for a couple other analysis\n",
    "Data is from: https://www.census.gov/data/tables/2017/demo/popest/state-total.html"
   ]
  },
  {
   "cell_type": "code",
   "execution_count": 95,
   "metadata": {},
   "outputs": [
    {
     "data": {
      "text/html": [
       "<div>\n",
       "<style scoped>\n",
       "    .dataframe tbody tr th:only-of-type {\n",
       "        vertical-align: middle;\n",
       "    }\n",
       "\n",
       "    .dataframe tbody tr th {\n",
       "        vertical-align: top;\n",
       "    }\n",
       "\n",
       "    .dataframe thead th {\n",
       "        text-align: right;\n",
       "    }\n",
       "</style>\n",
       "<table border=\"1\" class=\"dataframe\">\n",
       "  <thead>\n",
       "    <tr style=\"text-align: right;\">\n",
       "      <th></th>\n",
       "      <th>SUMLEV</th>\n",
       "      <th>REGION</th>\n",
       "      <th>DIVISION</th>\n",
       "      <th>STATE</th>\n",
       "      <th>NAME</th>\n",
       "      <th>CENSUS2010POP</th>\n",
       "      <th>ESTIMATESBASE2010</th>\n",
       "      <th>POPESTIMATE2010</th>\n",
       "      <th>POPESTIMATE2011</th>\n",
       "      <th>POPESTIMATE2012</th>\n",
       "      <th>...</th>\n",
       "      <th>RDOMESTICMIG2015</th>\n",
       "      <th>RDOMESTICMIG2016</th>\n",
       "      <th>RDOMESTICMIG2017</th>\n",
       "      <th>RNETMIG2011</th>\n",
       "      <th>RNETMIG2012</th>\n",
       "      <th>RNETMIG2013</th>\n",
       "      <th>RNETMIG2014</th>\n",
       "      <th>RNETMIG2015</th>\n",
       "      <th>RNETMIG2016</th>\n",
       "      <th>RNETMIG2017</th>\n",
       "    </tr>\n",
       "  </thead>\n",
       "  <tbody>\n",
       "    <tr>\n",
       "      <th>0</th>\n",
       "      <td>10.0</td>\n",
       "      <td>0</td>\n",
       "      <td>0</td>\n",
       "      <td>0.0</td>\n",
       "      <td>United States</td>\n",
       "      <td>308745538.0</td>\n",
       "      <td>308758105.0</td>\n",
       "      <td>309338421.0</td>\n",
       "      <td>311644280.0</td>\n",
       "      <td>313993272.0</td>\n",
       "      <td>...</td>\n",
       "      <td>0.000000</td>\n",
       "      <td>0.000000</td>\n",
       "      <td>0.000000</td>\n",
       "      <td>2.720900</td>\n",
       "      <td>2.920371</td>\n",
       "      <td>2.883643</td>\n",
       "      <td>3.173228</td>\n",
       "      <td>3.516743</td>\n",
       "      <td>3.513394</td>\n",
       "      <td>3.423941</td>\n",
       "    </tr>\n",
       "    <tr>\n",
       "      <th>1</th>\n",
       "      <td>20.0</td>\n",
       "      <td>1</td>\n",
       "      <td>0</td>\n",
       "      <td>0.0</td>\n",
       "      <td>Northeast Region</td>\n",
       "      <td>55317240.0</td>\n",
       "      <td>55318350.0</td>\n",
       "      <td>55388349.0</td>\n",
       "      <td>55642659.0</td>\n",
       "      <td>55860261.0</td>\n",
       "      <td>...</td>\n",
       "      <td>-6.103092</td>\n",
       "      <td>-6.619089</td>\n",
       "      <td>-5.559570</td>\n",
       "      <td>1.467950</td>\n",
       "      <td>0.779137</td>\n",
       "      <td>0.605873</td>\n",
       "      <td>-0.082832</td>\n",
       "      <td>-0.903931</td>\n",
       "      <td>-1.307503</td>\n",
       "      <td>-0.288930</td>\n",
       "    </tr>\n",
       "    <tr>\n",
       "      <th>2</th>\n",
       "      <td>20.0</td>\n",
       "      <td>2</td>\n",
       "      <td>0</td>\n",
       "      <td>0.0</td>\n",
       "      <td>Midwest Region</td>\n",
       "      <td>66927001.0</td>\n",
       "      <td>66929794.0</td>\n",
       "      <td>66973360.0</td>\n",
       "      <td>67141501.0</td>\n",
       "      <td>67318295.0</td>\n",
       "      <td>...</td>\n",
       "      <td>-3.458531</td>\n",
       "      <td>-3.307295</td>\n",
       "      <td>-2.304640</td>\n",
       "      <td>-1.187519</td>\n",
       "      <td>-1.010696</td>\n",
       "      <td>-0.120354</td>\n",
       "      <td>-0.752477</td>\n",
       "      <td>-1.323952</td>\n",
       "      <td>-1.160735</td>\n",
       "      <td>-0.191323</td>\n",
       "    </tr>\n",
       "    <tr>\n",
       "      <th>3</th>\n",
       "      <td>20.0</td>\n",
       "      <td>3</td>\n",
       "      <td>0</td>\n",
       "      <td>0.0</td>\n",
       "      <td>South Region</td>\n",
       "      <td>114555744.0</td>\n",
       "      <td>114563024.0</td>\n",
       "      <td>114869241.0</td>\n",
       "      <td>116060993.0</td>\n",
       "      <td>117291728.0</td>\n",
       "      <td>...</td>\n",
       "      <td>3.788037</td>\n",
       "      <td>3.592695</td>\n",
       "      <td>2.900528</td>\n",
       "      <td>5.544289</td>\n",
       "      <td>5.831747</td>\n",
       "      <td>5.362083</td>\n",
       "      <td>6.317310</td>\n",
       "      <td>7.336162</td>\n",
       "      <td>7.113818</td>\n",
       "      <td>6.304010</td>\n",
       "    </tr>\n",
       "    <tr>\n",
       "      <th>4</th>\n",
       "      <td>20.0</td>\n",
       "      <td>4</td>\n",
       "      <td>0</td>\n",
       "      <td>0.0</td>\n",
       "      <td>West Region</td>\n",
       "      <td>71945553.0</td>\n",
       "      <td>71946937.0</td>\n",
       "      <td>72107471.0</td>\n",
       "      <td>72799127.0</td>\n",
       "      <td>73522988.0</td>\n",
       "      <td>...</td>\n",
       "      <td>1.613450</td>\n",
       "      <td>2.099001</td>\n",
       "      <td>1.475519</td>\n",
       "      <td>2.798796</td>\n",
       "      <td>3.521423</td>\n",
       "      <td>3.396627</td>\n",
       "      <td>4.163576</td>\n",
       "      <td>5.067452</td>\n",
       "      <td>5.488965</td>\n",
       "      <td>4.737979</td>\n",
       "    </tr>\n",
       "  </tbody>\n",
       "</table>\n",
       "<p>5 rows × 121 columns</p>\n",
       "</div>"
      ],
      "text/plain": [
       "   SUMLEV REGION DIVISION  STATE              NAME  CENSUS2010POP  \\\n",
       "0    10.0      0        0    0.0     United States    308745538.0   \n",
       "1    20.0      1        0    0.0  Northeast Region     55317240.0   \n",
       "2    20.0      2        0    0.0    Midwest Region     66927001.0   \n",
       "3    20.0      3        0    0.0      South Region    114555744.0   \n",
       "4    20.0      4        0    0.0       West Region     71945553.0   \n",
       "\n",
       "   ESTIMATESBASE2010  POPESTIMATE2010  POPESTIMATE2011  POPESTIMATE2012  \\\n",
       "0        308758105.0      309338421.0      311644280.0      313993272.0   \n",
       "1         55318350.0       55388349.0       55642659.0       55860261.0   \n",
       "2         66929794.0       66973360.0       67141501.0       67318295.0   \n",
       "3        114563024.0      114869241.0      116060993.0      117291728.0   \n",
       "4         71946937.0       72107471.0       72799127.0       73522988.0   \n",
       "\n",
       "      ...       RDOMESTICMIG2015  RDOMESTICMIG2016  RDOMESTICMIG2017  \\\n",
       "0     ...               0.000000          0.000000          0.000000   \n",
       "1     ...              -6.103092         -6.619089         -5.559570   \n",
       "2     ...              -3.458531         -3.307295         -2.304640   \n",
       "3     ...               3.788037          3.592695          2.900528   \n",
       "4     ...               1.613450          2.099001          1.475519   \n",
       "\n",
       "   RNETMIG2011  RNETMIG2012  RNETMIG2013  RNETMIG2014  RNETMIG2015  \\\n",
       "0     2.720900     2.920371     2.883643     3.173228     3.516743   \n",
       "1     1.467950     0.779137     0.605873    -0.082832    -0.903931   \n",
       "2    -1.187519    -1.010696    -0.120354    -0.752477    -1.323952   \n",
       "3     5.544289     5.831747     5.362083     6.317310     7.336162   \n",
       "4     2.798796     3.521423     3.396627     4.163576     5.067452   \n",
       "\n",
       "   RNETMIG2016  RNETMIG2017  \n",
       "0     3.513394     3.423941  \n",
       "1    -1.307503    -0.288930  \n",
       "2    -1.160735    -0.191323  \n",
       "3     7.113818     6.304010  \n",
       "4     5.488965     4.737979  \n",
       "\n",
       "[5 rows x 121 columns]"
      ]
     },
     "execution_count": 95,
     "metadata": {},
     "output_type": "execute_result"
    }
   ],
   "source": [
    "df_states = pd.read_csv('nst-est2017-alldata.csv')\n",
    "df_states.head()"
   ]
  },
  {
   "cell_type": "code",
   "execution_count": 96,
   "metadata": {},
   "outputs": [
    {
     "data": {
      "text/html": [
       "<div>\n",
       "<style scoped>\n",
       "    .dataframe tbody tr th:only-of-type {\n",
       "        vertical-align: middle;\n",
       "    }\n",
       "\n",
       "    .dataframe tbody tr th {\n",
       "        vertical-align: top;\n",
       "    }\n",
       "\n",
       "    .dataframe thead th {\n",
       "        text-align: right;\n",
       "    }\n",
       "</style>\n",
       "<table border=\"1\" class=\"dataframe\">\n",
       "  <thead>\n",
       "    <tr style=\"text-align: right;\">\n",
       "      <th></th>\n",
       "      <th>NAME</th>\n",
       "      <th>POPESTIMATE2017</th>\n",
       "    </tr>\n",
       "  </thead>\n",
       "  <tbody>\n",
       "    <tr>\n",
       "      <th>0</th>\n",
       "      <td>United States</td>\n",
       "      <td>325719178.0</td>\n",
       "    </tr>\n",
       "    <tr>\n",
       "      <th>1</th>\n",
       "      <td>Northeast Region</td>\n",
       "      <td>56470581.0</td>\n",
       "    </tr>\n",
       "    <tr>\n",
       "      <th>2</th>\n",
       "      <td>Midwest Region</td>\n",
       "      <td>68179351.0</td>\n",
       "    </tr>\n",
       "    <tr>\n",
       "      <th>3</th>\n",
       "      <td>South Region</td>\n",
       "      <td>123658624.0</td>\n",
       "    </tr>\n",
       "    <tr>\n",
       "      <th>4</th>\n",
       "      <td>West Region</td>\n",
       "      <td>77410622.0</td>\n",
       "    </tr>\n",
       "    <tr>\n",
       "      <th>5</th>\n",
       "      <td>Alabama</td>\n",
       "      <td>4874747.0</td>\n",
       "    </tr>\n",
       "    <tr>\n",
       "      <th>6</th>\n",
       "      <td>Alaska</td>\n",
       "      <td>739795.0</td>\n",
       "    </tr>\n",
       "    <tr>\n",
       "      <th>7</th>\n",
       "      <td>Arizona</td>\n",
       "      <td>7016270.0</td>\n",
       "    </tr>\n",
       "  </tbody>\n",
       "</table>\n",
       "</div>"
      ],
      "text/plain": [
       "               NAME  POPESTIMATE2017\n",
       "0     United States      325719178.0\n",
       "1  Northeast Region       56470581.0\n",
       "2    Midwest Region       68179351.0\n",
       "3      South Region      123658624.0\n",
       "4       West Region       77410622.0\n",
       "5           Alabama        4874747.0\n",
       "6            Alaska         739795.0\n",
       "7           Arizona        7016270.0"
      ]
     },
     "execution_count": 96,
     "metadata": {},
     "output_type": "execute_result"
    }
   ],
   "source": [
    "# table has a lot more information than we need so just select the columns for interest\n",
    "# POPESTIMATE2017 contains the estimated state populations in 2017\n",
    "df_states = df_states[['NAME','POPESTIMATE2017']]\n",
    "df_states.head(8)"
   ]
  },
  {
   "cell_type": "code",
   "execution_count": 97,
   "metadata": {},
   "outputs": [
    {
     "data": {
      "text/html": [
       "<div>\n",
       "<style scoped>\n",
       "    .dataframe tbody tr th:only-of-type {\n",
       "        vertical-align: middle;\n",
       "    }\n",
       "\n",
       "    .dataframe tbody tr th {\n",
       "        vertical-align: top;\n",
       "    }\n",
       "\n",
       "    .dataframe thead th {\n",
       "        text-align: right;\n",
       "    }\n",
       "</style>\n",
       "<table border=\"1\" class=\"dataframe\">\n",
       "  <thead>\n",
       "    <tr style=\"text-align: right;\">\n",
       "      <th></th>\n",
       "      <th>NAME</th>\n",
       "      <th>POPESTIMATE2017</th>\n",
       "    </tr>\n",
       "  </thead>\n",
       "  <tbody>\n",
       "    <tr>\n",
       "      <th>54</th>\n",
       "      <td>Wisconsin</td>\n",
       "      <td>5795483.0</td>\n",
       "    </tr>\n",
       "    <tr>\n",
       "      <th>55</th>\n",
       "      <td>Wyoming</td>\n",
       "      <td>579315.0</td>\n",
       "    </tr>\n",
       "    <tr>\n",
       "      <th>56</th>\n",
       "      <td>Puerto Rico</td>\n",
       "      <td>3337177.0</td>\n",
       "    </tr>\n",
       "    <tr>\n",
       "      <th>57</th>\n",
       "      <td>NaN</td>\n",
       "      <td>NaN</td>\n",
       "    </tr>\n",
       "    <tr>\n",
       "      <th>58</th>\n",
       "      <td>NaN</td>\n",
       "      <td>NaN</td>\n",
       "    </tr>\n",
       "  </tbody>\n",
       "</table>\n",
       "</div>"
      ],
      "text/plain": [
       "           NAME  POPESTIMATE2017\n",
       "54    Wisconsin        5795483.0\n",
       "55      Wyoming         579315.0\n",
       "56  Puerto Rico        3337177.0\n",
       "57          NaN              NaN\n",
       "58          NaN              NaN"
      ]
     },
     "execution_count": 97,
     "metadata": {},
     "output_type": "execute_result"
    }
   ],
   "source": [
    "df_states.tail()"
   ]
  },
  {
   "cell_type": "code",
   "execution_count": 98,
   "metadata": {},
   "outputs": [
    {
     "data": {
      "text/plain": [
       "51"
      ]
     },
     "execution_count": 98,
     "metadata": {},
     "output_type": "execute_result"
    }
   ],
   "source": [
    "# drop the first five summary rows and the last three rows (Puerto Rico and NAN rows)\n",
    "\n",
    "df_states = df_states.iloc[5:56]\n",
    "len(df_states) # confirm now 51 rows"
   ]
  },
  {
   "cell_type": "code",
   "execution_count": 99,
   "metadata": {},
   "outputs": [
    {
     "name": "stdout",
     "output_type": "stream",
     "text": [
      "<class 'pandas.core.frame.DataFrame'>\n",
      "RangeIndex: 51 entries, 5 to 55\n",
      "Data columns (total 2 columns):\n",
      "NAME               51 non-null object\n",
      "POPESTIMATE2017    51 non-null float64\n",
      "dtypes: float64(1), object(1)\n",
      "memory usage: 900.0+ bytes\n"
     ]
    }
   ],
   "source": [
    "df_states.info() # datatypes look ok"
   ]
  },
  {
   "cell_type": "code",
   "execution_count": 100,
   "metadata": {},
   "outputs": [
    {
     "data": {
      "text/html": [
       "<div>\n",
       "<style scoped>\n",
       "    .dataframe tbody tr th:only-of-type {\n",
       "        vertical-align: middle;\n",
       "    }\n",
       "\n",
       "    .dataframe tbody tr th {\n",
       "        vertical-align: top;\n",
       "    }\n",
       "\n",
       "    .dataframe thead th {\n",
       "        text-align: right;\n",
       "    }\n",
       "</style>\n",
       "<table border=\"1\" class=\"dataframe\">\n",
       "  <thead>\n",
       "    <tr style=\"text-align: right;\">\n",
       "      <th></th>\n",
       "      <th>State</th>\n",
       "      <th>sat_participation</th>\n",
       "      <th>sat_rw</th>\n",
       "      <th>sat_math</th>\n",
       "      <th>sat_total</th>\n",
       "      <th>act_participation</th>\n",
       "      <th>act_english</th>\n",
       "      <th>act_math</th>\n",
       "      <th>act_reading</th>\n",
       "      <th>act_science</th>\n",
       "      <th>act_composite</th>\n",
       "      <th>POPESTIMATE2017</th>\n",
       "    </tr>\n",
       "  </thead>\n",
       "  <tbody>\n",
       "    <tr>\n",
       "      <th>0</th>\n",
       "      <td>District of Columbia</td>\n",
       "      <td>100.0</td>\n",
       "      <td>482</td>\n",
       "      <td>468</td>\n",
       "      <td>950</td>\n",
       "      <td>32.0</td>\n",
       "      <td>24.4</td>\n",
       "      <td>23.5</td>\n",
       "      <td>24.9</td>\n",
       "      <td>23.5</td>\n",
       "      <td>24.2</td>\n",
       "      <td>693972.0</td>\n",
       "    </tr>\n",
       "    <tr>\n",
       "      <th>1</th>\n",
       "      <td>Michigan</td>\n",
       "      <td>100.0</td>\n",
       "      <td>509</td>\n",
       "      <td>495</td>\n",
       "      <td>1005</td>\n",
       "      <td>29.0</td>\n",
       "      <td>24.1</td>\n",
       "      <td>23.7</td>\n",
       "      <td>24.5</td>\n",
       "      <td>23.8</td>\n",
       "      <td>24.1</td>\n",
       "      <td>9962311.0</td>\n",
       "    </tr>\n",
       "    <tr>\n",
       "      <th>2</th>\n",
       "      <td>Connecticut</td>\n",
       "      <td>100.0</td>\n",
       "      <td>530</td>\n",
       "      <td>512</td>\n",
       "      <td>1041</td>\n",
       "      <td>31.0</td>\n",
       "      <td>25.5</td>\n",
       "      <td>24.6</td>\n",
       "      <td>25.6</td>\n",
       "      <td>24.6</td>\n",
       "      <td>25.2</td>\n",
       "      <td>3588184.0</td>\n",
       "    </tr>\n",
       "    <tr>\n",
       "      <th>3</th>\n",
       "      <td>Delaware</td>\n",
       "      <td>100.0</td>\n",
       "      <td>503</td>\n",
       "      <td>492</td>\n",
       "      <td>996</td>\n",
       "      <td>18.0</td>\n",
       "      <td>24.1</td>\n",
       "      <td>23.4</td>\n",
       "      <td>24.8</td>\n",
       "      <td>23.6</td>\n",
       "      <td>24.1</td>\n",
       "      <td>961939.0</td>\n",
       "    </tr>\n",
       "    <tr>\n",
       "      <th>4</th>\n",
       "      <td>New Hampshire</td>\n",
       "      <td>96.0</td>\n",
       "      <td>532</td>\n",
       "      <td>520</td>\n",
       "      <td>1052</td>\n",
       "      <td>18.0</td>\n",
       "      <td>25.4</td>\n",
       "      <td>25.1</td>\n",
       "      <td>26.0</td>\n",
       "      <td>24.9</td>\n",
       "      <td>25.5</td>\n",
       "      <td>1342795.0</td>\n",
       "    </tr>\n",
       "  </tbody>\n",
       "</table>\n",
       "</div>"
      ],
      "text/plain": [
       "                  State  sat_participation  sat_rw  sat_math  sat_total  \\\n",
       "0  District of Columbia              100.0     482       468        950   \n",
       "1              Michigan              100.0     509       495       1005   \n",
       "2           Connecticut              100.0     530       512       1041   \n",
       "3              Delaware              100.0     503       492        996   \n",
       "4         New Hampshire               96.0     532       520       1052   \n",
       "\n",
       "   act_participation  act_english  act_math  act_reading  act_science  \\\n",
       "0               32.0         24.4      23.5         24.9         23.5   \n",
       "1               29.0         24.1      23.7         24.5         23.8   \n",
       "2               31.0         25.5      24.6         25.6         24.6   \n",
       "3               18.0         24.1      23.4         24.8         23.6   \n",
       "4               18.0         25.4      25.1         26.0         24.9   \n",
       "\n",
       "   act_composite  POPESTIMATE2017  \n",
       "0           24.2         693972.0  \n",
       "1           24.1        9962311.0  \n",
       "2           25.2        3588184.0  \n",
       "3           24.1         961939.0  \n",
       "4           25.5        1342795.0  "
      ]
     },
     "execution_count": 100,
     "metadata": {},
     "output_type": "execute_result"
    }
   ],
   "source": [
    "# merge into our existing dataframe for population comparison\n",
    "# merge the datasets together, matching up on the State column\n",
    "df_merged2 = pd.merge(df_merged,df_states,left_on='State',right_on='NAME').drop(columns='NAME')\n",
    "df_merged2.head()\n"
   ]
  },
  {
   "cell_type": "code",
   "execution_count": 101,
   "metadata": {},
   "outputs": [
    {
     "name": "stdout",
     "output_type": "stream",
     "text": [
      "<class 'pandas.core.frame.DataFrame'>\n",
      "Int64Index: 51 entries, 0 to 50\n",
      "Data columns (total 12 columns):\n",
      "State                51 non-null object\n",
      "sat_participation    51 non-null float64\n",
      "sat_rw               51 non-null int64\n",
      "sat_math             51 non-null int64\n",
      "sat_total            51 non-null int64\n",
      "act_participation    51 non-null float64\n",
      "act_english          51 non-null float64\n",
      "act_math             51 non-null float64\n",
      "act_reading          51 non-null float64\n",
      "act_science          51 non-null float64\n",
      "act_composite        51 non-null float64\n",
      "POPESTIMATE2017      51 non-null float64\n",
      "dtypes: float64(8), int64(3), object(1)\n",
      "memory usage: 5.2+ KB\n"
     ]
    }
   ],
   "source": [
    "df_merged2.info()"
   ]
  },
  {
   "cell_type": "code",
   "execution_count": 102,
   "metadata": {},
   "outputs": [
    {
     "name": "stdout",
     "output_type": "stream",
     "text": [
      "153849982.45 189736629.25\n",
      "Rough SAT/per capita participation rate was  0.47 vs 0.58 for the ACT\n"
     ]
    }
   ],
   "source": [
    "# VERY ROUGH estimate of per capita participation in SAT based on state population\n",
    "# We cannot make any conclusions from this data set on the actual number of students who wrote the SAT\n",
    "# state population * sat participation rate\n",
    "\n",
    "# total US population\n",
    "us_total_pop = df_merged2['POPESTIMATE2017'].sum()\n",
    "# index 1 is sat_participation and index 12 is POPESTIMATE2017      \n",
    "total_students_writing_sat = round(sum([val[1]/100 * val[11] for val in df_merged2.values]),2)\n",
    "# index 5 is act participation\n",
    "total_students_writing_act = round(sum([val[5]/100 * val[11] for val in df_merged2.values]),2)\n",
    "\n",
    "print(total_students_writing_sat, total_students_writing_act)\n",
    "\n",
    "# rough estimate of per capita participation in each test\n",
    "prop_wrote_sat = round(total_students_writing_sat/us_total_pop,2)\n",
    "prop_wrote_act = round(total_students_writing_act/us_total_pop,2)\n",
    "print(f\"Rough SAT/per capita participation rate was  {prop_wrote_sat} vs {prop_wrote_act} for the ACT\")"
   ]
  },
  {
   "cell_type": "markdown",
   "metadata": {},
   "source": [
    "### Recommendation for increasing SAT participation:\n",
    "One possibility is to target states where the ACT test is not required (participation < 100%) and focus on the states with the highest population.  The College Board could run an advertising campaign focusing on those states promoting the benefits of the SAT"
   ]
  },
  {
   "cell_type": "code",
   "execution_count": 103,
   "metadata": {},
   "outputs": [
    {
     "data": {
      "text/html": [
       "<div>\n",
       "<style scoped>\n",
       "    .dataframe tbody tr th:only-of-type {\n",
       "        vertical-align: middle;\n",
       "    }\n",
       "\n",
       "    .dataframe tbody tr th {\n",
       "        vertical-align: top;\n",
       "    }\n",
       "\n",
       "    .dataframe thead th {\n",
       "        text-align: right;\n",
       "    }\n",
       "</style>\n",
       "<table border=\"1\" class=\"dataframe\">\n",
       "  <thead>\n",
       "    <tr style=\"text-align: right;\">\n",
       "      <th></th>\n",
       "      <th>State</th>\n",
       "      <th>sat_participation</th>\n",
       "      <th>sat_rw</th>\n",
       "      <th>sat_math</th>\n",
       "      <th>sat_total</th>\n",
       "      <th>act_participation</th>\n",
       "      <th>act_english</th>\n",
       "      <th>act_math</th>\n",
       "      <th>act_reading</th>\n",
       "      <th>act_science</th>\n",
       "      <th>act_composite</th>\n",
       "      <th>POPESTIMATE2017</th>\n",
       "    </tr>\n",
       "  </thead>\n",
       "  <tbody>\n",
       "    <tr>\n",
       "      <th>33</th>\n",
       "      <td>Illinois</td>\n",
       "      <td>9.0</td>\n",
       "      <td>559</td>\n",
       "      <td>556</td>\n",
       "      <td>1115</td>\n",
       "      <td>93.0</td>\n",
       "      <td>21.0</td>\n",
       "      <td>21.2</td>\n",
       "      <td>21.6</td>\n",
       "      <td>21.3</td>\n",
       "      <td>21.4</td>\n",
       "      <td>12802023.0</td>\n",
       "    </tr>\n",
       "    <tr>\n",
       "      <th>29</th>\n",
       "      <td>Ohio</td>\n",
       "      <td>12.0</td>\n",
       "      <td>578</td>\n",
       "      <td>570</td>\n",
       "      <td>1149</td>\n",
       "      <td>75.0</td>\n",
       "      <td>21.2</td>\n",
       "      <td>21.6</td>\n",
       "      <td>22.5</td>\n",
       "      <td>22.0</td>\n",
       "      <td>22.0</td>\n",
       "      <td>11658609.0</td>\n",
       "    </tr>\n",
       "    <tr>\n",
       "      <th>26</th>\n",
       "      <td>Arizona</td>\n",
       "      <td>30.0</td>\n",
       "      <td>563</td>\n",
       "      <td>553</td>\n",
       "      <td>1116</td>\n",
       "      <td>62.0</td>\n",
       "      <td>18.6</td>\n",
       "      <td>19.8</td>\n",
       "      <td>20.1</td>\n",
       "      <td>19.8</td>\n",
       "      <td>19.7</td>\n",
       "      <td>7016270.0</td>\n",
       "    </tr>\n",
       "    <tr>\n",
       "      <th>50</th>\n",
       "      <td>Iowa</td>\n",
       "      <td>2.0</td>\n",
       "      <td>641</td>\n",
       "      <td>635</td>\n",
       "      <td>1275</td>\n",
       "      <td>67.0</td>\n",
       "      <td>21.2</td>\n",
       "      <td>21.3</td>\n",
       "      <td>22.6</td>\n",
       "      <td>22.1</td>\n",
       "      <td>21.9</td>\n",
       "      <td>3145711.0</td>\n",
       "    </tr>\n",
       "    <tr>\n",
       "      <th>38</th>\n",
       "      <td>Kansas</td>\n",
       "      <td>4.0</td>\n",
       "      <td>632</td>\n",
       "      <td>628</td>\n",
       "      <td>1260</td>\n",
       "      <td>73.0</td>\n",
       "      <td>21.1</td>\n",
       "      <td>21.3</td>\n",
       "      <td>22.3</td>\n",
       "      <td>21.7</td>\n",
       "      <td>21.7</td>\n",
       "      <td>2913123.0</td>\n",
       "    </tr>\n",
       "    <tr>\n",
       "      <th>31</th>\n",
       "      <td>New Mexico</td>\n",
       "      <td>11.0</td>\n",
       "      <td>577</td>\n",
       "      <td>561</td>\n",
       "      <td>1138</td>\n",
       "      <td>66.0</td>\n",
       "      <td>18.6</td>\n",
       "      <td>19.4</td>\n",
       "      <td>20.4</td>\n",
       "      <td>20.0</td>\n",
       "      <td>19.7</td>\n",
       "      <td>2088070.0</td>\n",
       "    </tr>\n",
       "    <tr>\n",
       "      <th>44</th>\n",
       "      <td>Nebraska</td>\n",
       "      <td>3.0</td>\n",
       "      <td>629</td>\n",
       "      <td>625</td>\n",
       "      <td>1253</td>\n",
       "      <td>84.0</td>\n",
       "      <td>20.9</td>\n",
       "      <td>20.9</td>\n",
       "      <td>21.9</td>\n",
       "      <td>21.5</td>\n",
       "      <td>21.4</td>\n",
       "      <td>1920076.0</td>\n",
       "    </tr>\n",
       "    <tr>\n",
       "      <th>28</th>\n",
       "      <td>West Virginia</td>\n",
       "      <td>14.0</td>\n",
       "      <td>558</td>\n",
       "      <td>528</td>\n",
       "      <td>1086</td>\n",
       "      <td>69.0</td>\n",
       "      <td>20.0</td>\n",
       "      <td>19.4</td>\n",
       "      <td>21.2</td>\n",
       "      <td>20.5</td>\n",
       "      <td>20.4</td>\n",
       "      <td>1815857.0</td>\n",
       "    </tr>\n",
       "    <tr>\n",
       "      <th>20</th>\n",
       "      <td>Hawaii</td>\n",
       "      <td>55.0</td>\n",
       "      <td>544</td>\n",
       "      <td>541</td>\n",
       "      <td>1085</td>\n",
       "      <td>90.0</td>\n",
       "      <td>17.8</td>\n",
       "      <td>19.2</td>\n",
       "      <td>19.2</td>\n",
       "      <td>19.3</td>\n",
       "      <td>19.0</td>\n",
       "      <td>1427538.0</td>\n",
       "    </tr>\n",
       "    <tr>\n",
       "      <th>43</th>\n",
       "      <td>South Dakota</td>\n",
       "      <td>3.0</td>\n",
       "      <td>612</td>\n",
       "      <td>603</td>\n",
       "      <td>1216</td>\n",
       "      <td>80.0</td>\n",
       "      <td>20.7</td>\n",
       "      <td>21.5</td>\n",
       "      <td>22.3</td>\n",
       "      <td>22.0</td>\n",
       "      <td>21.8</td>\n",
       "      <td>869666.0</td>\n",
       "    </tr>\n",
       "    <tr>\n",
       "      <th>48</th>\n",
       "      <td>North Dakota</td>\n",
       "      <td>2.0</td>\n",
       "      <td>635</td>\n",
       "      <td>621</td>\n",
       "      <td>1256</td>\n",
       "      <td>98.0</td>\n",
       "      <td>19.0</td>\n",
       "      <td>20.4</td>\n",
       "      <td>20.5</td>\n",
       "      <td>20.6</td>\n",
       "      <td>20.3</td>\n",
       "      <td>755393.0</td>\n",
       "    </tr>\n",
       "    <tr>\n",
       "      <th>25</th>\n",
       "      <td>Alaska</td>\n",
       "      <td>38.0</td>\n",
       "      <td>547</td>\n",
       "      <td>533</td>\n",
       "      <td>1080</td>\n",
       "      <td>65.0</td>\n",
       "      <td>18.7</td>\n",
       "      <td>19.8</td>\n",
       "      <td>20.4</td>\n",
       "      <td>19.9</td>\n",
       "      <td>19.8</td>\n",
       "      <td>739795.0</td>\n",
       "    </tr>\n",
       "  </tbody>\n",
       "</table>\n",
       "</div>"
      ],
      "text/plain": [
       "            State  sat_participation  sat_rw  sat_math  sat_total  \\\n",
       "33       Illinois                9.0     559       556       1115   \n",
       "29           Ohio               12.0     578       570       1149   \n",
       "26        Arizona               30.0     563       553       1116   \n",
       "50           Iowa                2.0     641       635       1275   \n",
       "38         Kansas                4.0     632       628       1260   \n",
       "31     New Mexico               11.0     577       561       1138   \n",
       "44       Nebraska                3.0     629       625       1253   \n",
       "28  West Virginia               14.0     558       528       1086   \n",
       "20         Hawaii               55.0     544       541       1085   \n",
       "43   South Dakota                3.0     612       603       1216   \n",
       "48   North Dakota                2.0     635       621       1256   \n",
       "25         Alaska               38.0     547       533       1080   \n",
       "\n",
       "    act_participation  act_english  act_math  act_reading  act_science  \\\n",
       "33               93.0         21.0      21.2         21.6         21.3   \n",
       "29               75.0         21.2      21.6         22.5         22.0   \n",
       "26               62.0         18.6      19.8         20.1         19.8   \n",
       "50               67.0         21.2      21.3         22.6         22.1   \n",
       "38               73.0         21.1      21.3         22.3         21.7   \n",
       "31               66.0         18.6      19.4         20.4         20.0   \n",
       "44               84.0         20.9      20.9         21.9         21.5   \n",
       "28               69.0         20.0      19.4         21.2         20.5   \n",
       "20               90.0         17.8      19.2         19.2         19.3   \n",
       "43               80.0         20.7      21.5         22.3         22.0   \n",
       "48               98.0         19.0      20.4         20.5         20.6   \n",
       "25               65.0         18.7      19.8         20.4         19.9   \n",
       "\n",
       "    act_composite  POPESTIMATE2017  \n",
       "33           21.4       12802023.0  \n",
       "29           22.0       11658609.0  \n",
       "26           19.7        7016270.0  \n",
       "50           21.9        3145711.0  \n",
       "38           21.7        2913123.0  \n",
       "31           19.7        2088070.0  \n",
       "44           21.4        1920076.0  \n",
       "28           20.4        1815857.0  \n",
       "20           19.0        1427538.0  \n",
       "43           21.8         869666.0  \n",
       "48           20.3         755393.0  \n",
       "25           19.8         739795.0  "
      ]
     },
     "execution_count": 103,
     "metadata": {},
     "output_type": "execute_result"
    }
   ],
   "source": [
    "#\n",
    "# target US states with ACT Participation > SAT Participation but < 100%\n",
    "target_states = df_merged2[(df_merged2['act_participation'] > df_merged2['sat_participation']) & (df_merged2['act_participation'] <100)]\n",
    "target_states.sort_values('POPESTIMATE2017', ascending=False)\n",
    "\n",
    "# Tableau visualization: https://public.tableau.com/profile/a.gordon5305#!/vizhome/States_To_Target_for_SAT/Sheet2?publish=yes"
   ]
  },
  {
   "cell_type": "markdown",
   "metadata": {},
   "source": [
    "For presentation, lets get some stats on SAT average in states with/without 100% participation"
   ]
  },
  {
   "cell_type": "code",
   "execution_count": 104,
   "metadata": {},
   "outputs": [
    {
     "data": {
      "text/plain": [
       "11.235294117647058"
      ]
     },
     "execution_count": 104,
     "metadata": {},
     "output_type": "execute_result"
    }
   ],
   "source": [
    "df_merged2[(df_merged2['act_participation'] ==100)]['sat_participation'].mean()"
   ]
  },
  {
   "cell_type": "code",
   "execution_count": 105,
   "metadata": {},
   "outputs": [
    {
     "data": {
      "text/plain": [
       "54.088235294117645"
      ]
     },
     "execution_count": 105,
     "metadata": {},
     "output_type": "execute_result"
    }
   ],
   "source": [
    "df_merged2[(df_merged2['act_participation'] < 100)]['sat_participation'].mean()"
   ]
  },
  {
   "cell_type": "code",
   "execution_count": 106,
   "metadata": {},
   "outputs": [
    {
     "data": {
      "text/plain": [
       "4"
      ]
     },
     "execution_count": 106,
     "metadata": {},
     "output_type": "execute_result"
    }
   ],
   "source": [
    "len(df_merged2[(df_merged2['sat_participation'] ==100)])"
   ]
  },
  {
   "cell_type": "code",
   "execution_count": 107,
   "metadata": {},
   "outputs": [
    {
     "data": {
      "text/plain": [
       "17"
      ]
     },
     "execution_count": 107,
     "metadata": {},
     "output_type": "execute_result"
    }
   ],
   "source": [
    "len(df_merged2[(df_merged2['act_participation'] ==100)])"
   ]
  },
  {
   "cell_type": "code",
   "execution_count": null,
   "metadata": {},
   "outputs": [],
   "source": []
  },
  {
   "cell_type": "code",
   "execution_count": 108,
   "metadata": {},
   "outputs": [
    {
     "data": {
      "text/html": [
       "<div>\n",
       "<style scoped>\n",
       "    .dataframe tbody tr th:only-of-type {\n",
       "        vertical-align: middle;\n",
       "    }\n",
       "\n",
       "    .dataframe tbody tr th {\n",
       "        vertical-align: top;\n",
       "    }\n",
       "\n",
       "    .dataframe thead th {\n",
       "        text-align: right;\n",
       "    }\n",
       "</style>\n",
       "<table border=\"1\" class=\"dataframe\">\n",
       "  <thead>\n",
       "    <tr style=\"text-align: right;\">\n",
       "      <th></th>\n",
       "      <th>State</th>\n",
       "      <th>sat_participation</th>\n",
       "      <th>sat_rw</th>\n",
       "      <th>sat_math</th>\n",
       "      <th>sat_total</th>\n",
       "      <th>act_participation</th>\n",
       "      <th>act_english</th>\n",
       "      <th>act_math</th>\n",
       "      <th>act_reading</th>\n",
       "      <th>act_science</th>\n",
       "      <th>act_composite</th>\n",
       "      <th>is_act_req</th>\n",
       "    </tr>\n",
       "  </thead>\n",
       "  <tbody>\n",
       "    <tr>\n",
       "      <th>8</th>\n",
       "      <td>District of Columbia</td>\n",
       "      <td>100.0</td>\n",
       "      <td>482</td>\n",
       "      <td>468</td>\n",
       "      <td>950</td>\n",
       "      <td>32.0</td>\n",
       "      <td>24.4</td>\n",
       "      <td>23.5</td>\n",
       "      <td>24.9</td>\n",
       "      <td>23.5</td>\n",
       "      <td>24.2</td>\n",
       "      <td>False</td>\n",
       "    </tr>\n",
       "    <tr>\n",
       "      <th>22</th>\n",
       "      <td>Michigan</td>\n",
       "      <td>100.0</td>\n",
       "      <td>509</td>\n",
       "      <td>495</td>\n",
       "      <td>1005</td>\n",
       "      <td>29.0</td>\n",
       "      <td>24.1</td>\n",
       "      <td>23.7</td>\n",
       "      <td>24.5</td>\n",
       "      <td>23.8</td>\n",
       "      <td>24.1</td>\n",
       "      <td>False</td>\n",
       "    </tr>\n",
       "    <tr>\n",
       "      <th>6</th>\n",
       "      <td>Connecticut</td>\n",
       "      <td>100.0</td>\n",
       "      <td>530</td>\n",
       "      <td>512</td>\n",
       "      <td>1041</td>\n",
       "      <td>31.0</td>\n",
       "      <td>25.5</td>\n",
       "      <td>24.6</td>\n",
       "      <td>25.6</td>\n",
       "      <td>24.6</td>\n",
       "      <td>25.2</td>\n",
       "      <td>False</td>\n",
       "    </tr>\n",
       "    <tr>\n",
       "      <th>7</th>\n",
       "      <td>Delaware</td>\n",
       "      <td>100.0</td>\n",
       "      <td>503</td>\n",
       "      <td>492</td>\n",
       "      <td>996</td>\n",
       "      <td>18.0</td>\n",
       "      <td>24.1</td>\n",
       "      <td>23.4</td>\n",
       "      <td>24.8</td>\n",
       "      <td>23.6</td>\n",
       "      <td>24.1</td>\n",
       "      <td>False</td>\n",
       "    </tr>\n",
       "    <tr>\n",
       "      <th>29</th>\n",
       "      <td>New Hampshire</td>\n",
       "      <td>96.0</td>\n",
       "      <td>532</td>\n",
       "      <td>520</td>\n",
       "      <td>1052</td>\n",
       "      <td>18.0</td>\n",
       "      <td>25.4</td>\n",
       "      <td>25.1</td>\n",
       "      <td>26.0</td>\n",
       "      <td>24.9</td>\n",
       "      <td>25.5</td>\n",
       "      <td>False</td>\n",
       "    </tr>\n",
       "  </tbody>\n",
       "</table>\n",
       "</div>"
      ],
      "text/plain": [
       "                   State  sat_participation  sat_rw  sat_math  sat_total  \\\n",
       "8   District of Columbia              100.0     482       468        950   \n",
       "22              Michigan              100.0     509       495       1005   \n",
       "6            Connecticut              100.0     530       512       1041   \n",
       "7               Delaware              100.0     503       492        996   \n",
       "29         New Hampshire               96.0     532       520       1052   \n",
       "\n",
       "    act_participation  act_english  act_math  act_reading  act_science  \\\n",
       "8                32.0         24.4      23.5         24.9         23.5   \n",
       "22               29.0         24.1      23.7         24.5         23.8   \n",
       "6                31.0         25.5      24.6         25.6         24.6   \n",
       "7                18.0         24.1      23.4         24.8         23.6   \n",
       "29               18.0         25.4      25.1         26.0         24.9   \n",
       "\n",
       "    act_composite  is_act_req  \n",
       "8            24.2       False  \n",
       "22           24.1       False  \n",
       "6            25.2       False  \n",
       "7            24.1       False  \n",
       "29           25.5       False  "
      ]
     },
     "execution_count": 108,
     "metadata": {},
     "output_type": "execute_result"
    }
   ],
   "source": [
    "# bar chart comparing SAT participation and total scores for states with/without ACT participation rates of 100%\n",
    "#df_merged[(df_merged['act_participation'] ==100)]['sat_total']\n",
    "df_merged['is_act_req'] = df_merged['act_participation'] ==100\n",
    "df_merged.head()"
   ]
  },
  {
   "cell_type": "code",
   "execution_count": 109,
   "metadata": {},
   "outputs": [
    {
     "data": {
      "application/javascript": [
       "var spec = {\"config\": {\"view\": {\"width\": 400, \"height\": 300}}, \"layer\": [{\"data\": {\"name\": \"data-4ddc6a3824c7eb4a64cb543b7bf05b19\"}, \"mark\": \"bar\", \"encoding\": {\"color\": {\"type\": \"ordinal\", \"field\": \"is_act_req\", \"legend\": null, \"scale\": {\"range\": [\"#00A5CF\", \"#1f77b4\"]}}, \"x\": {\"type\": \"nominal\", \"axis\": {\"title\": \"Is ACT Required?\"}, \"field\": \"is_act_req\"}, \"y\": {\"type\": \"quantitative\", \"aggregate\": \"mean\", \"axis\": {\"title\": \"Average SAT Score\"}, \"field\": \"sat_total\"}}, \"height\": 250, \"title\": \"SAT Total Scores are lower in States where ACT is not required\", \"width\": 250}, {\"data\": {\"name\": \"data-4ddc6a3824c7eb4a64cb543b7bf05b19\"}, \"mark\": {\"type\": \"text\", \"align\": \"center\", \"baseline\": \"middle\", \"dy\": -5}, \"encoding\": {\"color\": {\"type\": \"ordinal\", \"field\": \"is_act_req\", \"legend\": null, \"scale\": {\"range\": [\"#00A5CF\", \"#1f77b4\"]}}, \"text\": {\"type\": \"quantitative\", \"aggregate\": \"mean\", \"field\": \"sat_total\"}, \"x\": {\"type\": \"nominal\", \"axis\": {\"title\": \"Is ACT Required?\"}, \"field\": \"is_act_req\"}, \"y\": {\"type\": \"quantitative\", \"aggregate\": \"mean\", \"axis\": {\"title\": \"Average SAT Score\"}, \"field\": \"sat_total\"}}, \"height\": 250, \"title\": \"SAT Total Scores are lower in States where ACT is not required\", \"width\": 250}], \"$schema\": \"https://vega.github.io/schema/vega-lite/v2.6.0.json\", \"datasets\": {\"data-4ddc6a3824c7eb4a64cb543b7bf05b19\": [{\"State\": \"District of Columbia\", \"sat_participation\": 100.0, \"sat_rw\": 482, \"sat_math\": 468, \"sat_total\": 950, \"act_participation\": 32.0, \"act_english\": 24.4, \"act_math\": 23.5, \"act_reading\": 24.9, \"act_science\": 23.5, \"act_composite\": 24.2, \"is_act_req\": false}, {\"State\": \"Michigan\", \"sat_participation\": 100.0, \"sat_rw\": 509, \"sat_math\": 495, \"sat_total\": 1005, \"act_participation\": 29.0, \"act_english\": 24.1, \"act_math\": 23.7, \"act_reading\": 24.5, \"act_science\": 23.8, \"act_composite\": 24.1, \"is_act_req\": false}, {\"State\": \"Connecticut\", \"sat_participation\": 100.0, \"sat_rw\": 530, \"sat_math\": 512, \"sat_total\": 1041, \"act_participation\": 31.0, \"act_english\": 25.5, \"act_math\": 24.6, \"act_reading\": 25.6, \"act_science\": 24.6, \"act_composite\": 25.2, \"is_act_req\": false}, {\"State\": \"Delaware\", \"sat_participation\": 100.0, \"sat_rw\": 503, \"sat_math\": 492, \"sat_total\": 996, \"act_participation\": 18.0, \"act_english\": 24.1, \"act_math\": 23.4, \"act_reading\": 24.8, \"act_science\": 23.6, \"act_composite\": 24.1, \"is_act_req\": false}, {\"State\": \"New Hampshire\", \"sat_participation\": 96.0, \"sat_rw\": 532, \"sat_math\": 520, \"sat_total\": 1052, \"act_participation\": 18.0, \"act_english\": 25.4, \"act_math\": 25.1, \"act_reading\": 26.0, \"act_science\": 24.9, \"act_composite\": 25.5, \"is_act_req\": false}, {\"State\": \"Maine\", \"sat_participation\": 95.0, \"sat_rw\": 513, \"sat_math\": 499, \"sat_total\": 1012, \"act_participation\": 8.0, \"act_english\": 24.2, \"act_math\": 24.0, \"act_reading\": 24.8, \"act_science\": 23.7, \"act_composite\": 24.3, \"is_act_req\": false}, {\"State\": \"Idaho\", \"sat_participation\": 93.0, \"sat_rw\": 513, \"sat_math\": 493, \"sat_total\": 1005, \"act_participation\": 38.0, \"act_english\": 21.9, \"act_math\": 21.8, \"act_reading\": 23.0, \"act_science\": 22.1, \"act_composite\": 22.3, \"is_act_req\": false}, {\"State\": \"Florida\", \"sat_participation\": 83.0, \"sat_rw\": 520, \"sat_math\": 497, \"sat_total\": 1017, \"act_participation\": 73.0, \"act_english\": 19.0, \"act_math\": 19.4, \"act_reading\": 21.0, \"act_science\": 19.4, \"act_composite\": 19.8, \"is_act_req\": false}, {\"State\": \"Massachusetts\", \"sat_participation\": 76.0, \"sat_rw\": 555, \"sat_math\": 551, \"sat_total\": 1107, \"act_participation\": 29.0, \"act_english\": 25.4, \"act_math\": 25.3, \"act_reading\": 25.9, \"act_science\": 24.7, \"act_composite\": 25.4, \"is_act_req\": false}, {\"State\": \"Rhode Island\", \"sat_participation\": 71.0, \"sat_rw\": 539, \"sat_math\": 524, \"sat_total\": 1062, \"act_participation\": 21.0, \"act_english\": 24.0, \"act_math\": 23.3, \"act_reading\": 24.7, \"act_science\": 23.4, \"act_composite\": 24.0, \"is_act_req\": false}, {\"State\": \"New Jersey\", \"sat_participation\": 70.0, \"sat_rw\": 530, \"sat_math\": 526, \"sat_total\": 1056, \"act_participation\": 34.0, \"act_english\": 23.8, \"act_math\": 23.8, \"act_reading\": 24.1, \"act_science\": 23.2, \"act_composite\": 23.9, \"is_act_req\": false}, {\"State\": \"Maryland\", \"sat_participation\": 69.0, \"sat_rw\": 536, \"sat_math\": 524, \"sat_total\": 1060, \"act_participation\": 28.0, \"act_english\": 23.3, \"act_math\": 23.1, \"act_reading\": 24.2, \"act_science\": 23.8, \"act_composite\": 23.6, \"is_act_req\": false}, {\"State\": \"New York\", \"sat_participation\": 67.0, \"sat_rw\": 528, \"sat_math\": 523, \"sat_total\": 1052, \"act_participation\": 31.0, \"act_english\": 23.8, \"act_math\": 24.0, \"act_reading\": 24.6, \"act_science\": 23.9, \"act_composite\": 24.2, \"is_act_req\": false}, {\"State\": \"Virginia\", \"sat_participation\": 65.0, \"sat_rw\": 561, \"sat_math\": 541, \"sat_total\": 1102, \"act_participation\": 29.0, \"act_english\": 23.5, \"act_math\": 23.3, \"act_reading\": 24.6, \"act_science\": 23.5, \"act_composite\": 23.8, \"is_act_req\": false}, {\"State\": \"Pennsylvania\", \"sat_participation\": 65.0, \"sat_rw\": 540, \"sat_math\": 531, \"sat_total\": 1071, \"act_participation\": 23.0, \"act_english\": 23.4, \"act_math\": 23.4, \"act_reading\": 24.2, \"act_science\": 23.3, \"act_composite\": 23.7, \"is_act_req\": false}, {\"State\": \"Washington\", \"sat_participation\": 64.0, \"sat_rw\": 541, \"sat_math\": 534, \"sat_total\": 1075, \"act_participation\": 29.0, \"act_english\": 20.9, \"act_math\": 21.9, \"act_reading\": 22.1, \"act_science\": 22.0, \"act_composite\": 21.9, \"is_act_req\": false}, {\"State\": \"Indiana\", \"sat_participation\": 63.0, \"sat_rw\": 542, \"sat_math\": 532, \"sat_total\": 1074, \"act_participation\": 35.0, \"act_english\": 22.0, \"act_math\": 22.4, \"act_reading\": 23.2, \"act_science\": 22.3, \"act_composite\": 22.6, \"is_act_req\": false}, {\"State\": \"Texas\", \"sat_participation\": 62.0, \"sat_rw\": 513, \"sat_math\": 507, \"sat_total\": 1020, \"act_participation\": 45.0, \"act_english\": 19.5, \"act_math\": 20.7, \"act_reading\": 21.1, \"act_science\": 20.9, \"act_composite\": 20.7, \"is_act_req\": false}, {\"State\": \"Georgia\", \"sat_participation\": 61.0, \"sat_rw\": 535, \"sat_math\": 515, \"sat_total\": 1050, \"act_participation\": 55.0, \"act_english\": 21.0, \"act_math\": 20.9, \"act_reading\": 22.0, \"act_science\": 21.3, \"act_composite\": 21.4, \"is_act_req\": false}, {\"State\": \"Vermont\", \"sat_participation\": 60.0, \"sat_rw\": 562, \"sat_math\": 551, \"sat_total\": 1114, \"act_participation\": 29.0, \"act_english\": 23.3, \"act_math\": 23.1, \"act_reading\": 24.4, \"act_science\": 23.2, \"act_composite\": 23.6, \"is_act_req\": false}, {\"State\": \"Hawaii\", \"sat_participation\": 55.0, \"sat_rw\": 544, \"sat_math\": 541, \"sat_total\": 1085, \"act_participation\": 90.0, \"act_english\": 17.8, \"act_math\": 19.2, \"act_reading\": 19.2, \"act_science\": 19.3, \"act_composite\": 19.0, \"is_act_req\": false}, {\"State\": \"California\", \"sat_participation\": 53.0, \"sat_rw\": 531, \"sat_math\": 524, \"sat_total\": 1055, \"act_participation\": 31.0, \"act_english\": 22.5, \"act_math\": 22.7, \"act_reading\": 23.1, \"act_science\": 22.2, \"act_composite\": 22.8, \"is_act_req\": false}, {\"State\": \"South Carolina\", \"sat_participation\": 50.0, \"sat_rw\": 543, \"sat_math\": 521, \"sat_total\": 1064, \"act_participation\": 100.0, \"act_english\": 17.5, \"act_math\": 18.6, \"act_reading\": 19.1, \"act_science\": 18.9, \"act_composite\": 18.7, \"is_act_req\": true}, {\"State\": \"North Carolina\", \"sat_participation\": 49.0, \"sat_rw\": 546, \"sat_math\": 535, \"sat_total\": 1081, \"act_participation\": 100.0, \"act_english\": 17.8, \"act_math\": 19.3, \"act_reading\": 19.6, \"act_science\": 19.3, \"act_composite\": 19.1, \"is_act_req\": true}, {\"State\": \"Oregon\", \"sat_participation\": 43.0, \"sat_rw\": 560, \"sat_math\": 548, \"sat_total\": 1108, \"act_participation\": 40.0, \"act_english\": 21.2, \"act_math\": 21.5, \"act_reading\": 22.4, \"act_science\": 21.7, \"act_composite\": 21.8, \"is_act_req\": false}, {\"State\": \"Alaska\", \"sat_participation\": 38.0, \"sat_rw\": 547, \"sat_math\": 533, \"sat_total\": 1080, \"act_participation\": 65.0, \"act_english\": 18.7, \"act_math\": 19.8, \"act_reading\": 20.4, \"act_science\": 19.9, \"act_composite\": 19.8, \"is_act_req\": false}, {\"State\": \"Arizona\", \"sat_participation\": 30.0, \"sat_rw\": 563, \"sat_math\": 553, \"sat_total\": 1116, \"act_participation\": 62.0, \"act_english\": 18.6, \"act_math\": 19.8, \"act_reading\": 20.1, \"act_science\": 19.8, \"act_composite\": 19.7, \"is_act_req\": false}, {\"State\": \"Nevada\", \"sat_participation\": 26.0, \"sat_rw\": 563, \"sat_math\": 553, \"sat_total\": 1116, \"act_participation\": 100.0, \"act_english\": 16.3, \"act_math\": 18.0, \"act_reading\": 18.1, \"act_science\": 18.2, \"act_composite\": 17.8, \"is_act_req\": true}, {\"State\": \"West Virginia\", \"sat_participation\": 14.0, \"sat_rw\": 558, \"sat_math\": 528, \"sat_total\": 1086, \"act_participation\": 69.0, \"act_english\": 20.0, \"act_math\": 19.4, \"act_reading\": 21.2, \"act_science\": 20.5, \"act_composite\": 20.4, \"is_act_req\": false}, {\"State\": \"Ohio\", \"sat_participation\": 12.0, \"sat_rw\": 578, \"sat_math\": 570, \"sat_total\": 1149, \"act_participation\": 75.0, \"act_english\": 21.2, \"act_math\": 21.6, \"act_reading\": 22.5, \"act_science\": 22.0, \"act_composite\": 22.0, \"is_act_req\": false}, {\"State\": \"Colorado\", \"sat_participation\": 11.0, \"sat_rw\": 606, \"sat_math\": 595, \"sat_total\": 1201, \"act_participation\": 100.0, \"act_english\": 20.1, \"act_math\": 20.3, \"act_reading\": 21.2, \"act_science\": 20.9, \"act_composite\": 20.8, \"is_act_req\": true}, {\"State\": \"New Mexico\", \"sat_participation\": 11.0, \"sat_rw\": 577, \"sat_math\": 561, \"sat_total\": 1138, \"act_participation\": 66.0, \"act_english\": 18.6, \"act_math\": 19.4, \"act_reading\": 20.4, \"act_science\": 20.0, \"act_composite\": 19.7, \"is_act_req\": false}, {\"State\": \"Montana\", \"sat_participation\": 10.0, \"sat_rw\": 605, \"sat_math\": 591, \"sat_total\": 1196, \"act_participation\": 100.0, \"act_english\": 19.0, \"act_math\": 20.2, \"act_reading\": 21.0, \"act_science\": 20.5, \"act_composite\": 20.3, \"is_act_req\": true}, {\"State\": \"Illinois\", \"sat_participation\": 9.0, \"sat_rw\": 559, \"sat_math\": 556, \"sat_total\": 1115, \"act_participation\": 93.0, \"act_english\": 21.0, \"act_math\": 21.2, \"act_reading\": 21.6, \"act_science\": 21.3, \"act_composite\": 21.4, \"is_act_req\": false}, {\"State\": \"Oklahoma\", \"sat_participation\": 7.0, \"sat_rw\": 530, \"sat_math\": 517, \"sat_total\": 1047, \"act_participation\": 100.0, \"act_english\": 18.5, \"act_math\": 18.8, \"act_reading\": 20.1, \"act_science\": 19.6, \"act_composite\": 19.4, \"is_act_req\": true}, {\"State\": \"Alabama\", \"sat_participation\": 5.0, \"sat_rw\": 593, \"sat_math\": 572, \"sat_total\": 1165, \"act_participation\": 100.0, \"act_english\": 18.9, \"act_math\": 18.4, \"act_reading\": 19.7, \"act_science\": 19.4, \"act_composite\": 19.2, \"is_act_req\": true}, {\"State\": \"Tennessee\", \"sat_participation\": 5.0, \"sat_rw\": 623, \"sat_math\": 604, \"sat_total\": 1228, \"act_participation\": 100.0, \"act_english\": 19.5, \"act_math\": 19.2, \"act_reading\": 20.1, \"act_science\": 19.9, \"act_composite\": 19.8, \"is_act_req\": true}, {\"State\": \"Kentucky\", \"sat_participation\": 4.0, \"sat_rw\": 631, \"sat_math\": 616, \"sat_total\": 1247, \"act_participation\": 100.0, \"act_english\": 19.6, \"act_math\": 19.4, \"act_reading\": 20.5, \"act_science\": 20.1, \"act_composite\": 20.0, \"is_act_req\": true}, {\"State\": \"Kansas\", \"sat_participation\": 4.0, \"sat_rw\": 632, \"sat_math\": 628, \"sat_total\": 1260, \"act_participation\": 73.0, \"act_english\": 21.1, \"act_math\": 21.3, \"act_reading\": 22.3, \"act_science\": 21.7, \"act_composite\": 21.7, \"is_act_req\": false}, {\"State\": \"Louisiana\", \"sat_participation\": 4.0, \"sat_rw\": 611, \"sat_math\": 586, \"sat_total\": 1198, \"act_participation\": 100.0, \"act_english\": 19.4, \"act_math\": 18.8, \"act_reading\": 19.8, \"act_science\": 19.6, \"act_composite\": 19.5, \"is_act_req\": true}, {\"State\": \"Utah\", \"sat_participation\": 3.0, \"sat_rw\": 624, \"sat_math\": 614, \"sat_total\": 1238, \"act_participation\": 100.0, \"act_english\": 19.5, \"act_math\": 19.9, \"act_reading\": 20.8, \"act_science\": 20.6, \"act_composite\": 20.3, \"is_act_req\": true}, {\"State\": \"Wisconsin\", \"sat_participation\": 3.0, \"sat_rw\": 642, \"sat_math\": 649, \"sat_total\": 1291, \"act_participation\": 100.0, \"act_english\": 19.7, \"act_math\": 20.4, \"act_reading\": 20.6, \"act_science\": 20.9, \"act_composite\": 20.5, \"is_act_req\": true}, {\"State\": \"Missouri\", \"sat_participation\": 3.0, \"sat_rw\": 640, \"sat_math\": 631, \"sat_total\": 1271, \"act_participation\": 100.0, \"act_english\": 19.8, \"act_math\": 19.9, \"act_reading\": 20.8, \"act_science\": 20.5, \"act_composite\": 20.4, \"is_act_req\": true}, {\"State\": \"South Dakota\", \"sat_participation\": 3.0, \"sat_rw\": 612, \"sat_math\": 603, \"sat_total\": 1216, \"act_participation\": 80.0, \"act_english\": 20.7, \"act_math\": 21.5, \"act_reading\": 22.3, \"act_science\": 22.0, \"act_composite\": 21.8, \"is_act_req\": false}, {\"State\": \"Nebraska\", \"sat_participation\": 3.0, \"sat_rw\": 629, \"sat_math\": 625, \"sat_total\": 1253, \"act_participation\": 84.0, \"act_english\": 20.9, \"act_math\": 20.9, \"act_reading\": 21.9, \"act_science\": 21.5, \"act_composite\": 21.4, \"is_act_req\": false}, {\"State\": \"Minnesota\", \"sat_participation\": 3.0, \"sat_rw\": 644, \"sat_math\": 651, \"sat_total\": 1295, \"act_participation\": 100.0, \"act_english\": 20.4, \"act_math\": 21.5, \"act_reading\": 21.8, \"act_science\": 21.6, \"act_composite\": 21.5, \"is_act_req\": true}, {\"State\": \"Arkansas\", \"sat_participation\": 3.0, \"sat_rw\": 614, \"sat_math\": 594, \"sat_total\": 1208, \"act_participation\": 100.0, \"act_english\": 18.9, \"act_math\": 19.0, \"act_reading\": 19.7, \"act_science\": 19.5, \"act_composite\": 19.4, \"is_act_req\": true}, {\"State\": \"Wyoming\", \"sat_participation\": 3.0, \"sat_rw\": 626, \"sat_math\": 604, \"sat_total\": 1230, \"act_participation\": 100.0, \"act_english\": 19.4, \"act_math\": 19.8, \"act_reading\": 20.8, \"act_science\": 20.6, \"act_composite\": 20.2, \"is_act_req\": true}, {\"State\": \"North Dakota\", \"sat_participation\": 2.0, \"sat_rw\": 635, \"sat_math\": 621, \"sat_total\": 1256, \"act_participation\": 98.0, \"act_english\": 19.0, \"act_math\": 20.4, \"act_reading\": 20.5, \"act_science\": 20.6, \"act_composite\": 20.3, \"is_act_req\": false}, {\"State\": \"Mississippi\", \"sat_participation\": 2.0, \"sat_rw\": 634, \"sat_math\": 607, \"sat_total\": 1242, \"act_participation\": 100.0, \"act_english\": 18.2, \"act_math\": 18.1, \"act_reading\": 18.8, \"act_science\": 18.8, \"act_composite\": 18.6, \"is_act_req\": true}, {\"State\": \"Iowa\", \"sat_participation\": 2.0, \"sat_rw\": 641, \"sat_math\": 635, \"sat_total\": 1275, \"act_participation\": 67.0, \"act_english\": 21.2, \"act_math\": 21.3, \"act_reading\": 22.6, \"act_science\": 22.1, \"act_composite\": 21.9, \"is_act_req\": false}]}};\n",
       "var opt = {};\n",
       "var type = \"vega-lite\";\n",
       "var id = \"b6ada084-2fa7-4a7d-9d48-806f5b2bf721\";\n",
       "\n",
       "var output_area = this;\n",
       "\n",
       "require([\"nbextensions/jupyter-vega/index\"], function(vega) {\n",
       "  var target = document.createElement(\"div\");\n",
       "  target.id = id;\n",
       "  target.className = \"vega-embed\";\n",
       "\n",
       "  var style = document.createElement(\"style\");\n",
       "  style.textContent = [\n",
       "    \".vega-embed .error p {\",\n",
       "    \"  color: firebrick;\",\n",
       "    \"  font-size: 14px;\",\n",
       "    \"}\",\n",
       "  ].join(\"\\\\n\");\n",
       "\n",
       "  // element is a jQuery wrapped DOM element inside the output area\n",
       "  // see http://ipython.readthedocs.io/en/stable/api/generated/\\\n",
       "  // IPython.display.html#IPython.display.Javascript.__init__\n",
       "  element[0].appendChild(target);\n",
       "  element[0].appendChild(style);\n",
       "\n",
       "  vega.render(\"#\" + id, spec, type, opt, output_area);\n",
       "}, function (err) {\n",
       "  if (err.requireType !== \"scripterror\") {\n",
       "    throw(err);\n",
       "  }\n",
       "});\n"
      ],
      "text/plain": [
       "<vega.vegalite.VegaLite at 0x25dd30530b8>"
      ]
     },
     "metadata": {
      "jupyter-vega": "#b6ada084-2fa7-4a7d-9d48-806f5b2bf721"
     },
     "output_type": "display_data"
    },
    {
     "data": {
      "text/plain": []
     },
     "execution_count": 109,
     "metadata": {},
     "output_type": "execute_result"
    },
    {
     "data": {
      "image/png": "[encoded data removed]"
     },
     "metadata": {
      "jupyter-vega": "#b6ada084-2fa7-4a7d-9d48-806f5b2bf721"
     },
     "output_type": "display_data"
    }
   ],
   "source": [
    "bars = alt.Chart(df_merged,height=250,width=250).mark_bar().encode(\n",
    "   # x=\"is_act_req:O\",\n",
    "    x=alt.X('is_act_req', axis=alt.Axis(title='Is ACT Required?')),\n",
    "    y=alt.Y(\"mean(sat_total):Q\", axis=alt.Axis(title='Average SAT Score')),\n",
    "    color=alt.Color('is_act_req:O', scale=alt.Scale(range=[\"#00A5CF\",\"#1f77b4\"]),legend = None)\n",
    ").properties(title=\"SAT Total Scores are lower in States where ACT is not required\")\n",
    "\n",
    "text = bars.mark_text(\n",
    "    align='center',\n",
    "    baseline='middle',\n",
    "    dy=-5\n",
    "   # dx=3\n",
    ").encode(\n",
    "    text='mean(sat_total):Q'\n",
    ")\n",
    "bars + text"
   ]
  },
  {
   "cell_type": "code",
   "execution_count": 110,
   "metadata": {},
   "outputs": [
    {
     "data": {
      "application/javascript": [
       "var spec = {\"config\": {\"view\": {\"width\": 400, \"height\": 300}}, \"layer\": [{\"data\": {\"name\": \"data-4ddc6a3824c7eb4a64cb543b7bf05b19\"}, \"mark\": \"bar\", \"encoding\": {\"color\": {\"type\": \"ordinal\", \"field\": \"is_act_req\", \"legend\": null, \"scale\": {\"range\": [\"#00A5CF\", \"#1f77b4\"]}}, \"x\": {\"type\": \"nominal\", \"axis\": {\"title\": \"Is ACT Required?\"}, \"field\": \"is_act_req\"}, \"y\": {\"type\": \"quantitative\", \"aggregate\": \"mean\", \"axis\": {\"title\": \"Average SAT Participation Rate\"}, \"field\": \"sat_participation\"}}, \"height\": 250, \"title\": \"SAT Participation is higher in States where ACT is not required\", \"width\": 250}, {\"data\": {\"name\": \"data-4ddc6a3824c7eb4a64cb543b7bf05b19\"}, \"mark\": {\"type\": \"text\", \"align\": \"center\", \"baseline\": \"middle\", \"dy\": -5}, \"encoding\": {\"color\": {\"type\": \"ordinal\", \"field\": \"is_act_req\", \"legend\": null, \"scale\": {\"range\": [\"#00A5CF\", \"#1f77b4\"]}}, \"text\": {\"type\": \"quantitative\", \"aggregate\": \"mean\", \"field\": \"sat_participation\"}, \"x\": {\"type\": \"nominal\", \"axis\": {\"title\": \"Is ACT Required?\"}, \"field\": \"is_act_req\"}, \"y\": {\"type\": \"quantitative\", \"aggregate\": \"mean\", \"axis\": {\"title\": \"Average SAT Participation Rate\"}, \"field\": \"sat_participation\"}}, \"height\": 250, \"title\": \"SAT Participation is higher in States where ACT is not required\", \"width\": 250}], \"$schema\": \"https://vega.github.io/schema/vega-lite/v2.6.0.json\", \"datasets\": {\"data-4ddc6a3824c7eb4a64cb543b7bf05b19\": [{\"State\": \"District of Columbia\", \"sat_participation\": 100.0, \"sat_rw\": 482, \"sat_math\": 468, \"sat_total\": 950, \"act_participation\": 32.0, \"act_english\": 24.4, \"act_math\": 23.5, \"act_reading\": 24.9, \"act_science\": 23.5, \"act_composite\": 24.2, \"is_act_req\": false}, {\"State\": \"Michigan\", \"sat_participation\": 100.0, \"sat_rw\": 509, \"sat_math\": 495, \"sat_total\": 1005, \"act_participation\": 29.0, \"act_english\": 24.1, \"act_math\": 23.7, \"act_reading\": 24.5, \"act_science\": 23.8, \"act_composite\": 24.1, \"is_act_req\": false}, {\"State\": \"Connecticut\", \"sat_participation\": 100.0, \"sat_rw\": 530, \"sat_math\": 512, \"sat_total\": 1041, \"act_participation\": 31.0, \"act_english\": 25.5, \"act_math\": 24.6, \"act_reading\": 25.6, \"act_science\": 24.6, \"act_composite\": 25.2, \"is_act_req\": false}, {\"State\": \"Delaware\", \"sat_participation\": 100.0, \"sat_rw\": 503, \"sat_math\": 492, \"sat_total\": 996, \"act_participation\": 18.0, \"act_english\": 24.1, \"act_math\": 23.4, \"act_reading\": 24.8, \"act_science\": 23.6, \"act_composite\": 24.1, \"is_act_req\": false}, {\"State\": \"New Hampshire\", \"sat_participation\": 96.0, \"sat_rw\": 532, \"sat_math\": 520, \"sat_total\": 1052, \"act_participation\": 18.0, \"act_english\": 25.4, \"act_math\": 25.1, \"act_reading\": 26.0, \"act_science\": 24.9, \"act_composite\": 25.5, \"is_act_req\": false}, {\"State\": \"Maine\", \"sat_participation\": 95.0, \"sat_rw\": 513, \"sat_math\": 499, \"sat_total\": 1012, \"act_participation\": 8.0, \"act_english\": 24.2, \"act_math\": 24.0, \"act_reading\": 24.8, \"act_science\": 23.7, \"act_composite\": 24.3, \"is_act_req\": false}, {\"State\": \"Idaho\", \"sat_participation\": 93.0, \"sat_rw\": 513, \"sat_math\": 493, \"sat_total\": 1005, \"act_participation\": 38.0, \"act_english\": 21.9, \"act_math\": 21.8, \"act_reading\": 23.0, \"act_science\": 22.1, \"act_composite\": 22.3, \"is_act_req\": false}, {\"State\": \"Florida\", \"sat_participation\": 83.0, \"sat_rw\": 520, \"sat_math\": 497, \"sat_total\": 1017, \"act_participation\": 73.0, \"act_english\": 19.0, \"act_math\": 19.4, \"act_reading\": 21.0, \"act_science\": 19.4, \"act_composite\": 19.8, \"is_act_req\": false}, {\"State\": \"Massachusetts\", \"sat_participation\": 76.0, \"sat_rw\": 555, \"sat_math\": 551, \"sat_total\": 1107, \"act_participation\": 29.0, \"act_english\": 25.4, \"act_math\": 25.3, \"act_reading\": 25.9, \"act_science\": 24.7, \"act_composite\": 25.4, \"is_act_req\": false}, {\"State\": \"Rhode Island\", \"sat_participation\": 71.0, \"sat_rw\": 539, \"sat_math\": 524, \"sat_total\": 1062, \"act_participation\": 21.0, \"act_english\": 24.0, \"act_math\": 23.3, \"act_reading\": 24.7, \"act_science\": 23.4, \"act_composite\": 24.0, \"is_act_req\": false}, {\"State\": \"New Jersey\", \"sat_participation\": 70.0, \"sat_rw\": 530, \"sat_math\": 526, \"sat_total\": 1056, \"act_participation\": 34.0, \"act_english\": 23.8, \"act_math\": 23.8, \"act_reading\": 24.1, \"act_science\": 23.2, \"act_composite\": 23.9, \"is_act_req\": false}, {\"State\": \"Maryland\", \"sat_participation\": 69.0, \"sat_rw\": 536, \"sat_math\": 524, \"sat_total\": 1060, \"act_participation\": 28.0, \"act_english\": 23.3, \"act_math\": 23.1, \"act_reading\": 24.2, \"act_science\": 23.8, \"act_composite\": 23.6, \"is_act_req\": false}, {\"State\": \"New York\", \"sat_participation\": 67.0, \"sat_rw\": 528, \"sat_math\": 523, \"sat_total\": 1052, \"act_participation\": 31.0, \"act_english\": 23.8, \"act_math\": 24.0, \"act_reading\": 24.6, \"act_science\": 23.9, \"act_composite\": 24.2, \"is_act_req\": false}, {\"State\": \"Virginia\", \"sat_participation\": 65.0, \"sat_rw\": 561, \"sat_math\": 541, \"sat_total\": 1102, \"act_participation\": 29.0, \"act_english\": 23.5, \"act_math\": 23.3, \"act_reading\": 24.6, \"act_science\": 23.5, \"act_composite\": 23.8, \"is_act_req\": false}, {\"State\": \"Pennsylvania\", \"sat_participation\": 65.0, \"sat_rw\": 540, \"sat_math\": 531, \"sat_total\": 1071, \"act_participation\": 23.0, \"act_english\": 23.4, \"act_math\": 23.4, \"act_reading\": 24.2, \"act_science\": 23.3, \"act_composite\": 23.7, \"is_act_req\": false}, {\"State\": \"Washington\", \"sat_participation\": 64.0, \"sat_rw\": 541, \"sat_math\": 534, \"sat_total\": 1075, \"act_participation\": 29.0, \"act_english\": 20.9, \"act_math\": 21.9, \"act_reading\": 22.1, \"act_science\": 22.0, \"act_composite\": 21.9, \"is_act_req\": false}, {\"State\": \"Indiana\", \"sat_participation\": 63.0, \"sat_rw\": 542, \"sat_math\": 532, \"sat_total\": 1074, \"act_participation\": 35.0, \"act_english\": 22.0, \"act_math\": 22.4, \"act_reading\": 23.2, \"act_science\": 22.3, \"act_composite\": 22.6, \"is_act_req\": false}, {\"State\": \"Texas\", \"sat_participation\": 62.0, \"sat_rw\": 513, \"sat_math\": 507, \"sat_total\": 1020, \"act_participation\": 45.0, \"act_english\": 19.5, \"act_math\": 20.7, \"act_reading\": 21.1, \"act_science\": 20.9, \"act_composite\": 20.7, \"is_act_req\": false}, {\"State\": \"Georgia\", \"sat_participation\": 61.0, \"sat_rw\": 535, \"sat_math\": 515, \"sat_total\": 1050, \"act_participation\": 55.0, \"act_english\": 21.0, \"act_math\": 20.9, \"act_reading\": 22.0, \"act_science\": 21.3, \"act_composite\": 21.4, \"is_act_req\": false}, {\"State\": \"Vermont\", \"sat_participation\": 60.0, \"sat_rw\": 562, \"sat_math\": 551, \"sat_total\": 1114, \"act_participation\": 29.0, \"act_english\": 23.3, \"act_math\": 23.1, \"act_reading\": 24.4, \"act_science\": 23.2, \"act_composite\": 23.6, \"is_act_req\": false}, {\"State\": \"Hawaii\", \"sat_participation\": 55.0, \"sat_rw\": 544, \"sat_math\": 541, \"sat_total\": 1085, \"act_participation\": 90.0, \"act_english\": 17.8, \"act_math\": 19.2, \"act_reading\": 19.2, \"act_science\": 19.3, \"act_composite\": 19.0, \"is_act_req\": false}, {\"State\": \"California\", \"sat_participation\": 53.0, \"sat_rw\": 531, \"sat_math\": 524, \"sat_total\": 1055, \"act_participation\": 31.0, \"act_english\": 22.5, \"act_math\": 22.7, \"act_reading\": 23.1, \"act_science\": 22.2, \"act_composite\": 22.8, \"is_act_req\": false}, {\"State\": \"South Carolina\", \"sat_participation\": 50.0, \"sat_rw\": 543, \"sat_math\": 521, \"sat_total\": 1064, \"act_participation\": 100.0, \"act_english\": 17.5, \"act_math\": 18.6, \"act_reading\": 19.1, \"act_science\": 18.9, \"act_composite\": 18.7, \"is_act_req\": true}, {\"State\": \"North Carolina\", \"sat_participation\": 49.0, \"sat_rw\": 546, \"sat_math\": 535, \"sat_total\": 1081, \"act_participation\": 100.0, \"act_english\": 17.8, \"act_math\": 19.3, \"act_reading\": 19.6, \"act_science\": 19.3, \"act_composite\": 19.1, \"is_act_req\": true}, {\"State\": \"Oregon\", \"sat_participation\": 43.0, \"sat_rw\": 560, \"sat_math\": 548, \"sat_total\": 1108, \"act_participation\": 40.0, \"act_english\": 21.2, \"act_math\": 21.5, \"act_reading\": 22.4, \"act_science\": 21.7, \"act_composite\": 21.8, \"is_act_req\": false}, {\"State\": \"Alaska\", \"sat_participation\": 38.0, \"sat_rw\": 547, \"sat_math\": 533, \"sat_total\": 1080, \"act_participation\": 65.0, \"act_english\": 18.7, \"act_math\": 19.8, \"act_reading\": 20.4, \"act_science\": 19.9, \"act_composite\": 19.8, \"is_act_req\": false}, {\"State\": \"Arizona\", \"sat_participation\": 30.0, \"sat_rw\": 563, \"sat_math\": 553, \"sat_total\": 1116, \"act_participation\": 62.0, \"act_english\": 18.6, \"act_math\": 19.8, \"act_reading\": 20.1, \"act_science\": 19.8, \"act_composite\": 19.7, \"is_act_req\": false}, {\"State\": \"Nevada\", \"sat_participation\": 26.0, \"sat_rw\": 563, \"sat_math\": 553, \"sat_total\": 1116, \"act_participation\": 100.0, \"act_english\": 16.3, \"act_math\": 18.0, \"act_reading\": 18.1, \"act_science\": 18.2, \"act_composite\": 17.8, \"is_act_req\": true}, {\"State\": \"West Virginia\", \"sat_participation\": 14.0, \"sat_rw\": 558, \"sat_math\": 528, \"sat_total\": 1086, \"act_participation\": 69.0, \"act_english\": 20.0, \"act_math\": 19.4, \"act_reading\": 21.2, \"act_science\": 20.5, \"act_composite\": 20.4, \"is_act_req\": false}, {\"State\": \"Ohio\", \"sat_participation\": 12.0, \"sat_rw\": 578, \"sat_math\": 570, \"sat_total\": 1149, \"act_participation\": 75.0, \"act_english\": 21.2, \"act_math\": 21.6, \"act_reading\": 22.5, \"act_science\": 22.0, \"act_composite\": 22.0, \"is_act_req\": false}, {\"State\": \"Colorado\", \"sat_participation\": 11.0, \"sat_rw\": 606, \"sat_math\": 595, \"sat_total\": 1201, \"act_participation\": 100.0, \"act_english\": 20.1, \"act_math\": 20.3, \"act_reading\": 21.2, \"act_science\": 20.9, \"act_composite\": 20.8, \"is_act_req\": true}, {\"State\": \"New Mexico\", \"sat_participation\": 11.0, \"sat_rw\": 577, \"sat_math\": 561, \"sat_total\": 1138, \"act_participation\": 66.0, \"act_english\": 18.6, \"act_math\": 19.4, \"act_reading\": 20.4, \"act_science\": 20.0, \"act_composite\": 19.7, \"is_act_req\": false}, {\"State\": \"Montana\", \"sat_participation\": 10.0, \"sat_rw\": 605, \"sat_math\": 591, \"sat_total\": 1196, \"act_participation\": 100.0, \"act_english\": 19.0, \"act_math\": 20.2, \"act_reading\": 21.0, \"act_science\": 20.5, \"act_composite\": 20.3, \"is_act_req\": true}, {\"State\": \"Illinois\", \"sat_participation\": 9.0, \"sat_rw\": 559, \"sat_math\": 556, \"sat_total\": 1115, \"act_participation\": 93.0, \"act_english\": 21.0, \"act_math\": 21.2, \"act_reading\": 21.6, \"act_science\": 21.3, \"act_composite\": 21.4, \"is_act_req\": false}, {\"State\": \"Oklahoma\", \"sat_participation\": 7.0, \"sat_rw\": 530, \"sat_math\": 517, \"sat_total\": 1047, \"act_participation\": 100.0, \"act_english\": 18.5, \"act_math\": 18.8, \"act_reading\": 20.1, \"act_science\": 19.6, \"act_composite\": 19.4, \"is_act_req\": true}, {\"State\": \"Alabama\", \"sat_participation\": 5.0, \"sat_rw\": 593, \"sat_math\": 572, \"sat_total\": 1165, \"act_participation\": 100.0, \"act_english\": 18.9, \"act_math\": 18.4, \"act_reading\": 19.7, \"act_science\": 19.4, \"act_composite\": 19.2, \"is_act_req\": true}, {\"State\": \"Tennessee\", \"sat_participation\": 5.0, \"sat_rw\": 623, \"sat_math\": 604, \"sat_total\": 1228, \"act_participation\": 100.0, \"act_english\": 19.5, \"act_math\": 19.2, \"act_reading\": 20.1, \"act_science\": 19.9, \"act_composite\": 19.8, \"is_act_req\": true}, {\"State\": \"Kentucky\", \"sat_participation\": 4.0, \"sat_rw\": 631, \"sat_math\": 616, \"sat_total\": 1247, \"act_participation\": 100.0, \"act_english\": 19.6, \"act_math\": 19.4, \"act_reading\": 20.5, \"act_science\": 20.1, \"act_composite\": 20.0, \"is_act_req\": true}, {\"State\": \"Kansas\", \"sat_participation\": 4.0, \"sat_rw\": 632, \"sat_math\": 628, \"sat_total\": 1260, \"act_participation\": 73.0, \"act_english\": 21.1, \"act_math\": 21.3, \"act_reading\": 22.3, \"act_science\": 21.7, \"act_composite\": 21.7, \"is_act_req\": false}, {\"State\": \"Louisiana\", \"sat_participation\": 4.0, \"sat_rw\": 611, \"sat_math\": 586, \"sat_total\": 1198, \"act_participation\": 100.0, \"act_english\": 19.4, \"act_math\": 18.8, \"act_reading\": 19.8, \"act_science\": 19.6, \"act_composite\": 19.5, \"is_act_req\": true}, {\"State\": \"Utah\", \"sat_participation\": 3.0, \"sat_rw\": 624, \"sat_math\": 614, \"sat_total\": 1238, \"act_participation\": 100.0, \"act_english\": 19.5, \"act_math\": 19.9, \"act_reading\": 20.8, \"act_science\": 20.6, \"act_composite\": 20.3, \"is_act_req\": true}, {\"State\": \"Wisconsin\", \"sat_participation\": 3.0, \"sat_rw\": 642, \"sat_math\": 649, \"sat_total\": 1291, \"act_participation\": 100.0, \"act_english\": 19.7, \"act_math\": 20.4, \"act_reading\": 20.6, \"act_science\": 20.9, \"act_composite\": 20.5, \"is_act_req\": true}, {\"State\": \"Missouri\", \"sat_participation\": 3.0, \"sat_rw\": 640, \"sat_math\": 631, \"sat_total\": 1271, \"act_participation\": 100.0, \"act_english\": 19.8, \"act_math\": 19.9, \"act_reading\": 20.8, \"act_science\": 20.5, \"act_composite\": 20.4, \"is_act_req\": true}, {\"State\": \"South Dakota\", \"sat_participation\": 3.0, \"sat_rw\": 612, \"sat_math\": 603, \"sat_total\": 1216, \"act_participation\": 80.0, \"act_english\": 20.7, \"act_math\": 21.5, \"act_reading\": 22.3, \"act_science\": 22.0, \"act_composite\": 21.8, \"is_act_req\": false}, {\"State\": \"Nebraska\", \"sat_participation\": 3.0, \"sat_rw\": 629, \"sat_math\": 625, \"sat_total\": 1253, \"act_participation\": 84.0, \"act_english\": 20.9, \"act_math\": 20.9, \"act_reading\": 21.9, \"act_science\": 21.5, \"act_composite\": 21.4, \"is_act_req\": false}, {\"State\": \"Minnesota\", \"sat_participation\": 3.0, \"sat_rw\": 644, \"sat_math\": 651, \"sat_total\": 1295, \"act_participation\": 100.0, \"act_english\": 20.4, \"act_math\": 21.5, \"act_reading\": 21.8, \"act_science\": 21.6, \"act_composite\": 21.5, \"is_act_req\": true}, {\"State\": \"Arkansas\", \"sat_participation\": 3.0, \"sat_rw\": 614, \"sat_math\": 594, \"sat_total\": 1208, \"act_participation\": 100.0, \"act_english\": 18.9, \"act_math\": 19.0, \"act_reading\": 19.7, \"act_science\": 19.5, \"act_composite\": 19.4, \"is_act_req\": true}, {\"State\": \"Wyoming\", \"sat_participation\": 3.0, \"sat_rw\": 626, \"sat_math\": 604, \"sat_total\": 1230, \"act_participation\": 100.0, \"act_english\": 19.4, \"act_math\": 19.8, \"act_reading\": 20.8, \"act_science\": 20.6, \"act_composite\": 20.2, \"is_act_req\": true}, {\"State\": \"North Dakota\", \"sat_participation\": 2.0, \"sat_rw\": 635, \"sat_math\": 621, \"sat_total\": 1256, \"act_participation\": 98.0, \"act_english\": 19.0, \"act_math\": 20.4, \"act_reading\": 20.5, \"act_science\": 20.6, \"act_composite\": 20.3, \"is_act_req\": false}, {\"State\": \"Mississippi\", \"sat_participation\": 2.0, \"sat_rw\": 634, \"sat_math\": 607, \"sat_total\": 1242, \"act_participation\": 100.0, \"act_english\": 18.2, \"act_math\": 18.1, \"act_reading\": 18.8, \"act_science\": 18.8, \"act_composite\": 18.6, \"is_act_req\": true}, {\"State\": \"Iowa\", \"sat_participation\": 2.0, \"sat_rw\": 641, \"sat_math\": 635, \"sat_total\": 1275, \"act_participation\": 67.0, \"act_english\": 21.2, \"act_math\": 21.3, \"act_reading\": 22.6, \"act_science\": 22.1, \"act_composite\": 21.9, \"is_act_req\": false}]}};\n",
       "var opt = {};\n",
       "var type = \"vega-lite\";\n",
       "var id = \"b50975a5-3c8a-49ed-9ece-2a0b5f3e7d6b\";\n",
       "\n",
       "var output_area = this;\n",
       "\n",
       "require([\"nbextensions/jupyter-vega/index\"], function(vega) {\n",
       "  var target = document.createElement(\"div\");\n",
       "  target.id = id;\n",
       "  target.className = \"vega-embed\";\n",
       "\n",
       "  var style = document.createElement(\"style\");\n",
       "  style.textContent = [\n",
       "    \".vega-embed .error p {\",\n",
       "    \"  color: firebrick;\",\n",
       "    \"  font-size: 14px;\",\n",
       "    \"}\",\n",
       "  ].join(\"\\\\n\");\n",
       "\n",
       "  // element is a jQuery wrapped DOM element inside the output area\n",
       "  // see http://ipython.readthedocs.io/en/stable/api/generated/\\\n",
       "  // IPython.display.html#IPython.display.Javascript.__init__\n",
       "  element[0].appendChild(target);\n",
       "  element[0].appendChild(style);\n",
       "\n",
       "  vega.render(\"#\" + id, spec, type, opt, output_area);\n",
       "}, function (err) {\n",
       "  if (err.requireType !== \"scripterror\") {\n",
       "    throw(err);\n",
       "  }\n",
       "});\n"
      ],
      "text/plain": [
       "<vega.vegalite.VegaLite at 0x25dd3053668>"
      ]
     },
     "metadata": {
      "jupyter-vega": "#b50975a5-3c8a-49ed-9ece-2a0b5f3e7d6b"
     },
     "output_type": "display_data"
    },
    {
     "data": {
      "text/plain": []
     },
     "execution_count": 110,
     "metadata": {},
     "output_type": "execute_result"
    },
    {
     "data": {
      "image/png": "[encoded data removed]"
     },
     "metadata": {
      "jupyter-vega": "#b50975a5-3c8a-49ed-9ece-2a0b5f3e7d6b"
     },
     "output_type": "display_data"
    }
   ],
   "source": [
    "bars=alt.Chart(df_merged,height=250,width=250).mark_bar().encode(\n",
    "    x=alt.X('is_act_req', axis=alt.Axis(title='Is ACT Required?')),\n",
    "    y=alt.Y(\"mean(sat_participation):Q\", axis=alt.Axis(title='Average SAT Participation Rate')),\n",
    "    color=alt.Color('is_act_req:O', scale=alt.Scale(range=[\"#00A5CF\",\"#1f77b4\"]),legend = None)\n",
    ").properties(title=\"SAT Participation is higher in States where ACT is not required\")\n",
    "\n",
    "text = bars.mark_text(\n",
    "    align='center',\n",
    "    baseline='middle',\n",
    "    dy=-5\n",
    "   # dx=3\n",
    ").encode(\n",
    "    text='mean(sat_participation):Q'\n",
    ")\n",
    "bars + text"
   ]
  },
  {
   "cell_type": "code",
   "execution_count": null,
   "metadata": {},
   "outputs": [],
   "source": []
  },
  {
   "cell_type": "code",
   "execution_count": null,
   "metadata": {},
   "outputs": [],
   "source": []
  }
 ],
 "metadata": {
  "anaconda-cloud": {},
  "kernelspec": {
   "display_name": "Python 3",
   "language": "python",
   "name": "python3"
  },
  "language_info": {
   "codemirror_mode": {
    "name": "ipython",
    "version": 3
   },
   "file_extension": ".py",
   "mimetype": "text/x-python",
   "name": "python",
   "nbconvert_exporter": "python",
   "pygments_lexer": "ipython3",
   "version": "3.7.0"
  }
 },
 "nbformat": 4,
 "nbformat_minor": 1
}
